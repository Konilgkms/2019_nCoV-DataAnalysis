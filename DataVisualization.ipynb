{
 "cells": [
  {
   "cell_type": "code",
   "execution_count": 1,
   "metadata": {},
   "outputs": [
    {
     "data": {
      "text/html": [
       "        <script type=\"text/javascript\">\n",
       "        window.PlotlyConfig = {MathJaxConfig: 'local'};\n",
       "        if (window.MathJax) {MathJax.Hub.Config({SVG: {font: \"STIX-Web\"}});}\n",
       "        if (typeof require !== 'undefined') {\n",
       "        require.undef(\"plotly\");\n",
       "        requirejs.config({\n",
       "            paths: {\n",
       "                'plotly': ['https://cdn.plot.ly/plotly-latest.min']\n",
       "            }\n",
       "        });\n",
       "        require(['plotly'], function(Plotly) {\n",
       "            window._Plotly = Plotly;\n",
       "        });\n",
       "        }\n",
       "        </script>\n",
       "        "
      ]
     },
     "metadata": {},
     "output_type": "display_data"
    }
   ],
   "source": [
    "import numpy as np\n",
    "import pandas as pd\n",
    "import seaborn as sns\n",
    "import matplotlib.pyplot as plt\n",
    "import scipy.stats as stats\n",
    "import warnings\n",
    "import datetime\n",
    "import plotly.express as px\n",
    "import plotly.graph_objects as go\n",
    "import copy\n",
    "from plotly.subplots import make_subplots\n",
    "from plotly.offline import download_plotlyjs, init_notebook_mode, plot, iplot\n",
    "init_notebook_mode(connected=True)\n",
    "%matplotlib inline\n",
    "warnings.filterwarnings('ignore')"
   ]
  },
  {
   "cell_type": "markdown",
   "metadata": {},
   "source": [
    "# 导入数据/Read the datasets"
   ]
  },
  {
   "cell_type": "code",
   "execution_count": 2,
   "metadata": {},
   "outputs": [],
   "source": [
    "nCoV_data = pd.read_csv(\"./Data/2019_nCoV_data.csv\")\n",
    "confirmed_data = pd.read_csv(\"./Data/time_series_2019_ncov_confirmed.csv\")\n",
    "death_data = pd.read_csv(\"./Data/time_series_2019_ncov_deaths.csv\")\n",
    "recovered_data = pd.read_csv(\"./Data/time_series_2019_ncov_recovered.csv\")"
   ]
  },
  {
   "cell_type": "markdown",
   "metadata": {},
   "source": [
    "# 观察数据/Preview over the datasets "
   ]
  },
  {
   "cell_type": "code",
   "execution_count": 3,
   "metadata": {},
   "outputs": [
    {
     "name": "stdout",
     "output_type": "stream",
     "text": [
      "<class 'pandas.core.frame.DataFrame'>\n",
      "RangeIndex: 1569 entries, 0 to 1568\n",
      "Data columns (total 8 columns):\n",
      "Sno               1569 non-null int64\n",
      "Date              1569 non-null object\n",
      "Province/State    1151 non-null object\n",
      "Country           1569 non-null object\n",
      "Last Update       1569 non-null object\n",
      "Confirmed         1569 non-null float64\n",
      "Deaths            1569 non-null float64\n",
      "Recovered         1569 non-null float64\n",
      "dtypes: float64(3), int64(1), object(4)\n",
      "memory usage: 98.1+ KB\n"
     ]
    }
   ],
   "source": [
    "nCoV_data.info()"
   ]
  },
  {
   "cell_type": "code",
   "execution_count": 4,
   "metadata": {},
   "outputs": [
    {
     "data": {
      "text/html": [
       "<div>\n",
       "<style scoped>\n",
       "    .dataframe tbody tr th:only-of-type {\n",
       "        vertical-align: middle;\n",
       "    }\n",
       "\n",
       "    .dataframe tbody tr th {\n",
       "        vertical-align: top;\n",
       "    }\n",
       "\n",
       "    .dataframe thead th {\n",
       "        text-align: right;\n",
       "    }\n",
       "</style>\n",
       "<table border=\"1\" class=\"dataframe\">\n",
       "  <thead>\n",
       "    <tr style=\"text-align: right;\">\n",
       "      <th></th>\n",
       "      <th>Sno</th>\n",
       "      <th>Date</th>\n",
       "      <th>Province/State</th>\n",
       "      <th>Country</th>\n",
       "      <th>Last Update</th>\n",
       "      <th>Confirmed</th>\n",
       "      <th>Deaths</th>\n",
       "      <th>Recovered</th>\n",
       "    </tr>\n",
       "  </thead>\n",
       "  <tbody>\n",
       "    <tr>\n",
       "      <th>0</th>\n",
       "      <td>1</td>\n",
       "      <td>01/22/2020 12:00:00</td>\n",
       "      <td>Anhui</td>\n",
       "      <td>China</td>\n",
       "      <td>01/22/2020 12:00:00</td>\n",
       "      <td>1.0</td>\n",
       "      <td>0.0</td>\n",
       "      <td>0.0</td>\n",
       "    </tr>\n",
       "    <tr>\n",
       "      <th>1</th>\n",
       "      <td>2</td>\n",
       "      <td>01/22/2020 12:00:00</td>\n",
       "      <td>Beijing</td>\n",
       "      <td>China</td>\n",
       "      <td>01/22/2020 12:00:00</td>\n",
       "      <td>14.0</td>\n",
       "      <td>0.0</td>\n",
       "      <td>0.0</td>\n",
       "    </tr>\n",
       "    <tr>\n",
       "      <th>2</th>\n",
       "      <td>3</td>\n",
       "      <td>01/22/2020 12:00:00</td>\n",
       "      <td>Chongqing</td>\n",
       "      <td>China</td>\n",
       "      <td>01/22/2020 12:00:00</td>\n",
       "      <td>6.0</td>\n",
       "      <td>0.0</td>\n",
       "      <td>0.0</td>\n",
       "    </tr>\n",
       "    <tr>\n",
       "      <th>3</th>\n",
       "      <td>4</td>\n",
       "      <td>01/22/2020 12:00:00</td>\n",
       "      <td>Fujian</td>\n",
       "      <td>China</td>\n",
       "      <td>01/22/2020 12:00:00</td>\n",
       "      <td>1.0</td>\n",
       "      <td>0.0</td>\n",
       "      <td>0.0</td>\n",
       "    </tr>\n",
       "    <tr>\n",
       "      <th>4</th>\n",
       "      <td>5</td>\n",
       "      <td>01/22/2020 12:00:00</td>\n",
       "      <td>Gansu</td>\n",
       "      <td>China</td>\n",
       "      <td>01/22/2020 12:00:00</td>\n",
       "      <td>0.0</td>\n",
       "      <td>0.0</td>\n",
       "      <td>0.0</td>\n",
       "    </tr>\n",
       "  </tbody>\n",
       "</table>\n",
       "</div>"
      ],
      "text/plain": [
       "   Sno                 Date Province/State Country          Last Update  \\\n",
       "0    1  01/22/2020 12:00:00          Anhui   China  01/22/2020 12:00:00   \n",
       "1    2  01/22/2020 12:00:00        Beijing   China  01/22/2020 12:00:00   \n",
       "2    3  01/22/2020 12:00:00      Chongqing   China  01/22/2020 12:00:00   \n",
       "3    4  01/22/2020 12:00:00         Fujian   China  01/22/2020 12:00:00   \n",
       "4    5  01/22/2020 12:00:00          Gansu   China  01/22/2020 12:00:00   \n",
       "\n",
       "   Confirmed  Deaths  Recovered  \n",
       "0        1.0     0.0        0.0  \n",
       "1       14.0     0.0        0.0  \n",
       "2        6.0     0.0        0.0  \n",
       "3        1.0     0.0        0.0  \n",
       "4        0.0     0.0        0.0  "
      ]
     },
     "execution_count": 4,
     "metadata": {},
     "output_type": "execute_result"
    }
   ],
   "source": [
    "nCoV_data.head()"
   ]
  },
  {
   "cell_type": "markdown",
   "metadata": {},
   "source": [
    "- 可以发现Province/State这项存在缺失值\n",
    "- There are missing values in the Province/State"
   ]
  },
  {
   "cell_type": "code",
   "execution_count": 5,
   "metadata": {},
   "outputs": [
    {
     "data": {
      "text/html": [
       "<div>\n",
       "<style scoped>\n",
       "    .dataframe tbody tr th:only-of-type {\n",
       "        vertical-align: middle;\n",
       "    }\n",
       "\n",
       "    .dataframe tbody tr th {\n",
       "        vertical-align: top;\n",
       "    }\n",
       "\n",
       "    .dataframe thead th {\n",
       "        text-align: right;\n",
       "    }\n",
       "</style>\n",
       "<table border=\"1\" class=\"dataframe\">\n",
       "  <thead>\n",
       "    <tr style=\"text-align: right;\">\n",
       "      <th></th>\n",
       "      <th>Province/State</th>\n",
       "      <th>Country/Region</th>\n",
       "      <th>Lat</th>\n",
       "      <th>Long</th>\n",
       "      <th>1/21/20 22:00</th>\n",
       "      <th>1/22/20 12:00</th>\n",
       "      <th>1/23/20 12:00</th>\n",
       "      <th>1/24/20 0:00</th>\n",
       "      <th>1/24/20 12:00</th>\n",
       "      <th>1/25/20 0:00</th>\n",
       "      <th>...</th>\n",
       "      <th>02/05/20 9:00</th>\n",
       "      <th>02/05/20 23:00</th>\n",
       "      <th>02/06/20 9:00</th>\n",
       "      <th>02/06/20 14:20</th>\n",
       "      <th>02/07/20 20:13</th>\n",
       "      <th>02/07/20 22:50</th>\n",
       "      <th>02/08/20 22:04</th>\n",
       "      <th>02/08/20 23:04</th>\n",
       "      <th>02/09/20 10:30</th>\n",
       "      <th>02/09/20 23:20</th>\n",
       "    </tr>\n",
       "  </thead>\n",
       "  <tbody>\n",
       "    <tr>\n",
       "      <th>0</th>\n",
       "      <td>Anhui</td>\n",
       "      <td>Mainland China</td>\n",
       "      <td>31.82571</td>\n",
       "      <td>117.2264</td>\n",
       "      <td>NaN</td>\n",
       "      <td>1.0</td>\n",
       "      <td>9.0</td>\n",
       "      <td>15.0</td>\n",
       "      <td>15.0</td>\n",
       "      <td>39.0</td>\n",
       "      <td>...</td>\n",
       "      <td>530.0</td>\n",
       "      <td>591.0</td>\n",
       "      <td>591.0</td>\n",
       "      <td>591.0</td>\n",
       "      <td>665</td>\n",
       "      <td>733</td>\n",
       "      <td>733</td>\n",
       "      <td>779</td>\n",
       "      <td>779</td>\n",
       "      <td>830</td>\n",
       "    </tr>\n",
       "    <tr>\n",
       "      <th>1</th>\n",
       "      <td>Beijing</td>\n",
       "      <td>Mainland China</td>\n",
       "      <td>40.18238</td>\n",
       "      <td>116.4142</td>\n",
       "      <td>10.0</td>\n",
       "      <td>14.0</td>\n",
       "      <td>22.0</td>\n",
       "      <td>26.0</td>\n",
       "      <td>36.0</td>\n",
       "      <td>36.0</td>\n",
       "      <td>...</td>\n",
       "      <td>253.0</td>\n",
       "      <td>274.0</td>\n",
       "      <td>274.0</td>\n",
       "      <td>274.0</td>\n",
       "      <td>297</td>\n",
       "      <td>315</td>\n",
       "      <td>315</td>\n",
       "      <td>326</td>\n",
       "      <td>326</td>\n",
       "      <td>337</td>\n",
       "    </tr>\n",
       "    <tr>\n",
       "      <th>2</th>\n",
       "      <td>Chongqing</td>\n",
       "      <td>Mainland China</td>\n",
       "      <td>30.05718</td>\n",
       "      <td>107.8740</td>\n",
       "      <td>5.0</td>\n",
       "      <td>6.0</td>\n",
       "      <td>9.0</td>\n",
       "      <td>27.0</td>\n",
       "      <td>27.0</td>\n",
       "      <td>57.0</td>\n",
       "      <td>...</td>\n",
       "      <td>376.0</td>\n",
       "      <td>389.0</td>\n",
       "      <td>400.0</td>\n",
       "      <td>400.0</td>\n",
       "      <td>415</td>\n",
       "      <td>426</td>\n",
       "      <td>428</td>\n",
       "      <td>446</td>\n",
       "      <td>450</td>\n",
       "      <td>468</td>\n",
       "    </tr>\n",
       "    <tr>\n",
       "      <th>3</th>\n",
       "      <td>Fujian</td>\n",
       "      <td>Mainland China</td>\n",
       "      <td>26.07783</td>\n",
       "      <td>117.9895</td>\n",
       "      <td>NaN</td>\n",
       "      <td>1.0</td>\n",
       "      <td>5.0</td>\n",
       "      <td>5.0</td>\n",
       "      <td>10.0</td>\n",
       "      <td>10.0</td>\n",
       "      <td>...</td>\n",
       "      <td>205.0</td>\n",
       "      <td>215.0</td>\n",
       "      <td>215.0</td>\n",
       "      <td>215.0</td>\n",
       "      <td>224</td>\n",
       "      <td>239</td>\n",
       "      <td>239</td>\n",
       "      <td>250</td>\n",
       "      <td>250</td>\n",
       "      <td>261</td>\n",
       "    </tr>\n",
       "    <tr>\n",
       "      <th>4</th>\n",
       "      <td>Gansu</td>\n",
       "      <td>Mainland China</td>\n",
       "      <td>36.06110</td>\n",
       "      <td>103.8343</td>\n",
       "      <td>NaN</td>\n",
       "      <td>NaN</td>\n",
       "      <td>2.0</td>\n",
       "      <td>2.0</td>\n",
       "      <td>2.0</td>\n",
       "      <td>4.0</td>\n",
       "      <td>...</td>\n",
       "      <td>57.0</td>\n",
       "      <td>62.0</td>\n",
       "      <td>62.0</td>\n",
       "      <td>62.0</td>\n",
       "      <td>67</td>\n",
       "      <td>71</td>\n",
       "      <td>79</td>\n",
       "      <td>79</td>\n",
       "      <td>79</td>\n",
       "      <td>83</td>\n",
       "    </tr>\n",
       "    <tr>\n",
       "      <th>5</th>\n",
       "      <td>Guangdong</td>\n",
       "      <td>Mainland China</td>\n",
       "      <td>23.33841</td>\n",
       "      <td>113.4220</td>\n",
       "      <td>17.0</td>\n",
       "      <td>26.0</td>\n",
       "      <td>32.0</td>\n",
       "      <td>53.0</td>\n",
       "      <td>53.0</td>\n",
       "      <td>78.0</td>\n",
       "      <td>...</td>\n",
       "      <td>895.0</td>\n",
       "      <td>944.0</td>\n",
       "      <td>970.0</td>\n",
       "      <td>970.0</td>\n",
       "      <td>1034</td>\n",
       "      <td>1075</td>\n",
       "      <td>1095</td>\n",
       "      <td>1120</td>\n",
       "      <td>1131</td>\n",
       "      <td>1151</td>\n",
       "    </tr>\n",
       "    <tr>\n",
       "      <th>6</th>\n",
       "      <td>Guangxi</td>\n",
       "      <td>Mainland China</td>\n",
       "      <td>23.82908</td>\n",
       "      <td>108.7881</td>\n",
       "      <td>NaN</td>\n",
       "      <td>2.0</td>\n",
       "      <td>5.0</td>\n",
       "      <td>13.0</td>\n",
       "      <td>23.0</td>\n",
       "      <td>23.0</td>\n",
       "      <td>...</td>\n",
       "      <td>150.0</td>\n",
       "      <td>168.0</td>\n",
       "      <td>168.0</td>\n",
       "      <td>168.0</td>\n",
       "      <td>172</td>\n",
       "      <td>183</td>\n",
       "      <td>183</td>\n",
       "      <td>195</td>\n",
       "      <td>195</td>\n",
       "      <td>210</td>\n",
       "    </tr>\n",
       "    <tr>\n",
       "      <th>7</th>\n",
       "      <td>Guizhou</td>\n",
       "      <td>Mainland China</td>\n",
       "      <td>26.81536</td>\n",
       "      <td>106.8748</td>\n",
       "      <td>NaN</td>\n",
       "      <td>1.0</td>\n",
       "      <td>3.0</td>\n",
       "      <td>3.0</td>\n",
       "      <td>3.0</td>\n",
       "      <td>4.0</td>\n",
       "      <td>...</td>\n",
       "      <td>64.0</td>\n",
       "      <td>69.0</td>\n",
       "      <td>71.0</td>\n",
       "      <td>71.0</td>\n",
       "      <td>81</td>\n",
       "      <td>89</td>\n",
       "      <td>89</td>\n",
       "      <td>96</td>\n",
       "      <td>99</td>\n",
       "      <td>109</td>\n",
       "    </tr>\n",
       "    <tr>\n",
       "      <th>8</th>\n",
       "      <td>Hainan</td>\n",
       "      <td>Mainland China</td>\n",
       "      <td>19.19673</td>\n",
       "      <td>109.7455</td>\n",
       "      <td>NaN</td>\n",
       "      <td>4.0</td>\n",
       "      <td>5.0</td>\n",
       "      <td>8.0</td>\n",
       "      <td>8.0</td>\n",
       "      <td>17.0</td>\n",
       "      <td>...</td>\n",
       "      <td>91.0</td>\n",
       "      <td>100.0</td>\n",
       "      <td>106.0</td>\n",
       "      <td>106.0</td>\n",
       "      <td>117</td>\n",
       "      <td>124</td>\n",
       "      <td>124</td>\n",
       "      <td>128</td>\n",
       "      <td>131</td>\n",
       "      <td>136</td>\n",
       "    </tr>\n",
       "    <tr>\n",
       "      <th>9</th>\n",
       "      <td>Hebei</td>\n",
       "      <td>Mainland China</td>\n",
       "      <td>38.04280</td>\n",
       "      <td>114.5149</td>\n",
       "      <td>NaN</td>\n",
       "      <td>1.0</td>\n",
       "      <td>1.0</td>\n",
       "      <td>2.0</td>\n",
       "      <td>2.0</td>\n",
       "      <td>8.0</td>\n",
       "      <td>...</td>\n",
       "      <td>135.0</td>\n",
       "      <td>157.0</td>\n",
       "      <td>157.0</td>\n",
       "      <td>157.0</td>\n",
       "      <td>172</td>\n",
       "      <td>195</td>\n",
       "      <td>195</td>\n",
       "      <td>206</td>\n",
       "      <td>206</td>\n",
       "      <td>218</td>\n",
       "    </tr>\n",
       "  </tbody>\n",
       "</table>\n",
       "<p>10 rows × 40 columns</p>\n",
       "</div>"
      ],
      "text/plain": [
       "  Province/State  Country/Region       Lat      Long  1/21/20 22:00  \\\n",
       "0          Anhui  Mainland China  31.82571  117.2264            NaN   \n",
       "1        Beijing  Mainland China  40.18238  116.4142           10.0   \n",
       "2      Chongqing  Mainland China  30.05718  107.8740            5.0   \n",
       "3         Fujian  Mainland China  26.07783  117.9895            NaN   \n",
       "4          Gansu  Mainland China  36.06110  103.8343            NaN   \n",
       "5      Guangdong  Mainland China  23.33841  113.4220           17.0   \n",
       "6        Guangxi  Mainland China  23.82908  108.7881            NaN   \n",
       "7        Guizhou  Mainland China  26.81536  106.8748            NaN   \n",
       "8         Hainan  Mainland China  19.19673  109.7455            NaN   \n",
       "9          Hebei  Mainland China  38.04280  114.5149            NaN   \n",
       "\n",
       "   1/22/20 12:00  1/23/20 12:00  1/24/20 0:00  1/24/20 12:00  1/25/20 0:00  \\\n",
       "0            1.0            9.0          15.0           15.0          39.0   \n",
       "1           14.0           22.0          26.0           36.0          36.0   \n",
       "2            6.0            9.0          27.0           27.0          57.0   \n",
       "3            1.0            5.0           5.0           10.0          10.0   \n",
       "4            NaN            2.0           2.0            2.0           4.0   \n",
       "5           26.0           32.0          53.0           53.0          78.0   \n",
       "6            2.0            5.0          13.0           23.0          23.0   \n",
       "7            1.0            3.0           3.0            3.0           4.0   \n",
       "8            4.0            5.0           8.0            8.0          17.0   \n",
       "9            1.0            1.0           2.0            2.0           8.0   \n",
       "\n",
       "   ...  02/05/20 9:00  02/05/20 23:00  02/06/20 9:00  02/06/20 14:20  \\\n",
       "0  ...          530.0           591.0          591.0           591.0   \n",
       "1  ...          253.0           274.0          274.0           274.0   \n",
       "2  ...          376.0           389.0          400.0           400.0   \n",
       "3  ...          205.0           215.0          215.0           215.0   \n",
       "4  ...           57.0            62.0           62.0            62.0   \n",
       "5  ...          895.0           944.0          970.0           970.0   \n",
       "6  ...          150.0           168.0          168.0           168.0   \n",
       "7  ...           64.0            69.0           71.0            71.0   \n",
       "8  ...           91.0           100.0          106.0           106.0   \n",
       "9  ...          135.0           157.0          157.0           157.0   \n",
       "\n",
       "   02/07/20 20:13  02/07/20 22:50  02/08/20 22:04  02/08/20 23:04  \\\n",
       "0             665             733             733             779   \n",
       "1             297             315             315             326   \n",
       "2             415             426             428             446   \n",
       "3             224             239             239             250   \n",
       "4              67              71              79              79   \n",
       "5            1034            1075            1095            1120   \n",
       "6             172             183             183             195   \n",
       "7              81              89              89              96   \n",
       "8             117             124             124             128   \n",
       "9             172             195             195             206   \n",
       "\n",
       "   02/09/20 10:30  02/09/20 23:20  \n",
       "0             779             830  \n",
       "1             326             337  \n",
       "2             450             468  \n",
       "3             250             261  \n",
       "4              79              83  \n",
       "5            1131            1151  \n",
       "6             195             210  \n",
       "7              99             109  \n",
       "8             131             136  \n",
       "9             206             218  \n",
       "\n",
       "[10 rows x 40 columns]"
      ]
     },
     "execution_count": 5,
     "metadata": {},
     "output_type": "execute_result"
    }
   ],
   "source": [
    "confirmed_data.head(10)"
   ]
  },
  {
   "cell_type": "code",
   "execution_count": 6,
   "metadata": {},
   "outputs": [
    {
     "data": {
      "text/html": [
       "<div>\n",
       "<style scoped>\n",
       "    .dataframe tbody tr th:only-of-type {\n",
       "        vertical-align: middle;\n",
       "    }\n",
       "\n",
       "    .dataframe tbody tr th {\n",
       "        vertical-align: top;\n",
       "    }\n",
       "\n",
       "    .dataframe thead th {\n",
       "        text-align: right;\n",
       "    }\n",
       "</style>\n",
       "<table border=\"1\" class=\"dataframe\">\n",
       "  <thead>\n",
       "    <tr style=\"text-align: right;\">\n",
       "      <th></th>\n",
       "      <th>Province/State</th>\n",
       "      <th>Country/Region</th>\n",
       "      <th>Lat</th>\n",
       "      <th>Long</th>\n",
       "      <th>1/21/20 22:00</th>\n",
       "      <th>1/22/20 12:00</th>\n",
       "      <th>1/23/20 12:00</th>\n",
       "      <th>1/24/20 0:00</th>\n",
       "      <th>1/24/20 12:00</th>\n",
       "      <th>1/25/20 0:00</th>\n",
       "      <th>...</th>\n",
       "      <th>02/05/20 9:00</th>\n",
       "      <th>02/05/20 23:00</th>\n",
       "      <th>02/06/20 9:00</th>\n",
       "      <th>02/06/20 14:20</th>\n",
       "      <th>02/07/20 20:13</th>\n",
       "      <th>02/07/20 22:50</th>\n",
       "      <th>02/08/20 10:24</th>\n",
       "      <th>02/08/20 23:04</th>\n",
       "      <th>02/09/20 10:30</th>\n",
       "      <th>02/09/20 23:20</th>\n",
       "    </tr>\n",
       "  </thead>\n",
       "  <tbody>\n",
       "    <tr>\n",
       "      <th>0</th>\n",
       "      <td>Anhui</td>\n",
       "      <td>Mainland China</td>\n",
       "      <td>31.82571</td>\n",
       "      <td>117.2264</td>\n",
       "      <td>NaN</td>\n",
       "      <td>NaN</td>\n",
       "      <td>NaN</td>\n",
       "      <td>NaN</td>\n",
       "      <td>NaN</td>\n",
       "      <td>NaN</td>\n",
       "      <td>...</td>\n",
       "      <td>23.0</td>\n",
       "      <td>23.0</td>\n",
       "      <td>34.0</td>\n",
       "      <td>34.0</td>\n",
       "      <td>47.0</td>\n",
       "      <td>47.0</td>\n",
       "      <td>59</td>\n",
       "      <td>59</td>\n",
       "      <td>72</td>\n",
       "      <td>73</td>\n",
       "    </tr>\n",
       "    <tr>\n",
       "      <th>1</th>\n",
       "      <td>Beijing</td>\n",
       "      <td>Mainland China</td>\n",
       "      <td>40.18238</td>\n",
       "      <td>116.4142</td>\n",
       "      <td>NaN</td>\n",
       "      <td>NaN</td>\n",
       "      <td>NaN</td>\n",
       "      <td>NaN</td>\n",
       "      <td>1.0</td>\n",
       "      <td>1.0</td>\n",
       "      <td>...</td>\n",
       "      <td>24.0</td>\n",
       "      <td>31.0</td>\n",
       "      <td>31.0</td>\n",
       "      <td>31.0</td>\n",
       "      <td>33.0</td>\n",
       "      <td>34.0</td>\n",
       "      <td>34</td>\n",
       "      <td>37</td>\n",
       "      <td>37</td>\n",
       "      <td>44</td>\n",
       "    </tr>\n",
       "    <tr>\n",
       "      <th>2</th>\n",
       "      <td>Chongqing</td>\n",
       "      <td>Mainland China</td>\n",
       "      <td>30.05718</td>\n",
       "      <td>107.8740</td>\n",
       "      <td>NaN</td>\n",
       "      <td>NaN</td>\n",
       "      <td>NaN</td>\n",
       "      <td>NaN</td>\n",
       "      <td>NaN</td>\n",
       "      <td>NaN</td>\n",
       "      <td>...</td>\n",
       "      <td>15.0</td>\n",
       "      <td>15.0</td>\n",
       "      <td>24.0</td>\n",
       "      <td>24.0</td>\n",
       "      <td>31.0</td>\n",
       "      <td>31.0</td>\n",
       "      <td>39</td>\n",
       "      <td>39</td>\n",
       "      <td>50</td>\n",
       "      <td>51</td>\n",
       "    </tr>\n",
       "    <tr>\n",
       "      <th>3</th>\n",
       "      <td>Fujian</td>\n",
       "      <td>Mainland China</td>\n",
       "      <td>26.07783</td>\n",
       "      <td>117.9895</td>\n",
       "      <td>NaN</td>\n",
       "      <td>NaN</td>\n",
       "      <td>NaN</td>\n",
       "      <td>NaN</td>\n",
       "      <td>NaN</td>\n",
       "      <td>NaN</td>\n",
       "      <td>...</td>\n",
       "      <td>11.0</td>\n",
       "      <td>11.0</td>\n",
       "      <td>14.0</td>\n",
       "      <td>14.0</td>\n",
       "      <td>20.0</td>\n",
       "      <td>20.0</td>\n",
       "      <td>24</td>\n",
       "      <td>26</td>\n",
       "      <td>35</td>\n",
       "      <td>35</td>\n",
       "    </tr>\n",
       "    <tr>\n",
       "      <th>4</th>\n",
       "      <td>Gansu</td>\n",
       "      <td>Mainland China</td>\n",
       "      <td>36.06110</td>\n",
       "      <td>103.8343</td>\n",
       "      <td>NaN</td>\n",
       "      <td>NaN</td>\n",
       "      <td>NaN</td>\n",
       "      <td>NaN</td>\n",
       "      <td>NaN</td>\n",
       "      <td>NaN</td>\n",
       "      <td>...</td>\n",
       "      <td>4.0</td>\n",
       "      <td>6.0</td>\n",
       "      <td>6.0</td>\n",
       "      <td>6.0</td>\n",
       "      <td>9.0</td>\n",
       "      <td>9.0</td>\n",
       "      <td>12</td>\n",
       "      <td>12</td>\n",
       "      <td>15</td>\n",
       "      <td>16</td>\n",
       "    </tr>\n",
       "    <tr>\n",
       "      <th>5</th>\n",
       "      <td>Guangdong</td>\n",
       "      <td>Mainland China</td>\n",
       "      <td>23.33841</td>\n",
       "      <td>113.4220</td>\n",
       "      <td>NaN</td>\n",
       "      <td>NaN</td>\n",
       "      <td>2.0</td>\n",
       "      <td>2.0</td>\n",
       "      <td>2.0</td>\n",
       "      <td>2.0</td>\n",
       "      <td>...</td>\n",
       "      <td>49.0</td>\n",
       "      <td>49.0</td>\n",
       "      <td>69.0</td>\n",
       "      <td>69.0</td>\n",
       "      <td>88.0</td>\n",
       "      <td>97.0</td>\n",
       "      <td>112</td>\n",
       "      <td>125</td>\n",
       "      <td>141</td>\n",
       "      <td>147</td>\n",
       "    </tr>\n",
       "    <tr>\n",
       "      <th>6</th>\n",
       "      <td>Guangxi</td>\n",
       "      <td>Mainland China</td>\n",
       "      <td>23.82908</td>\n",
       "      <td>108.7881</td>\n",
       "      <td>NaN</td>\n",
       "      <td>NaN</td>\n",
       "      <td>NaN</td>\n",
       "      <td>NaN</td>\n",
       "      <td>NaN</td>\n",
       "      <td>NaN</td>\n",
       "      <td>...</td>\n",
       "      <td>13.0</td>\n",
       "      <td>14.0</td>\n",
       "      <td>14.0</td>\n",
       "      <td>14.0</td>\n",
       "      <td>17.0</td>\n",
       "      <td>17.0</td>\n",
       "      <td>17</td>\n",
       "      <td>18</td>\n",
       "      <td>18</td>\n",
       "      <td>18</td>\n",
       "    </tr>\n",
       "    <tr>\n",
       "      <th>7</th>\n",
       "      <td>Guizhou</td>\n",
       "      <td>Mainland China</td>\n",
       "      <td>26.81536</td>\n",
       "      <td>106.8748</td>\n",
       "      <td>NaN</td>\n",
       "      <td>NaN</td>\n",
       "      <td>NaN</td>\n",
       "      <td>NaN</td>\n",
       "      <td>NaN</td>\n",
       "      <td>NaN</td>\n",
       "      <td>...</td>\n",
       "      <td>9.0</td>\n",
       "      <td>6.0</td>\n",
       "      <td>6.0</td>\n",
       "      <td>6.0</td>\n",
       "      <td>6.0</td>\n",
       "      <td>6.0</td>\n",
       "      <td>7</td>\n",
       "      <td>7</td>\n",
       "      <td>7</td>\n",
       "      <td>7</td>\n",
       "    </tr>\n",
       "    <tr>\n",
       "      <th>8</th>\n",
       "      <td>Hainan</td>\n",
       "      <td>Mainland China</td>\n",
       "      <td>19.19673</td>\n",
       "      <td>109.7455</td>\n",
       "      <td>NaN</td>\n",
       "      <td>NaN</td>\n",
       "      <td>NaN</td>\n",
       "      <td>NaN</td>\n",
       "      <td>NaN</td>\n",
       "      <td>NaN</td>\n",
       "      <td>...</td>\n",
       "      <td>5.0</td>\n",
       "      <td>5.0</td>\n",
       "      <td>8.0</td>\n",
       "      <td>8.0</td>\n",
       "      <td>10.0</td>\n",
       "      <td>11.0</td>\n",
       "      <td>14</td>\n",
       "      <td>15</td>\n",
       "      <td>19</td>\n",
       "      <td>19</td>\n",
       "    </tr>\n",
       "    <tr>\n",
       "      <th>9</th>\n",
       "      <td>Hebei</td>\n",
       "      <td>Mainland China</td>\n",
       "      <td>38.04280</td>\n",
       "      <td>114.5149</td>\n",
       "      <td>NaN</td>\n",
       "      <td>NaN</td>\n",
       "      <td>NaN</td>\n",
       "      <td>NaN</td>\n",
       "      <td>NaN</td>\n",
       "      <td>NaN</td>\n",
       "      <td>...</td>\n",
       "      <td>6.0</td>\n",
       "      <td>7.0</td>\n",
       "      <td>13.0</td>\n",
       "      <td>13.0</td>\n",
       "      <td>22.0</td>\n",
       "      <td>25.0</td>\n",
       "      <td>30</td>\n",
       "      <td>30</td>\n",
       "      <td>34</td>\n",
       "      <td>35</td>\n",
       "    </tr>\n",
       "  </tbody>\n",
       "</table>\n",
       "<p>10 rows × 40 columns</p>\n",
       "</div>"
      ],
      "text/plain": [
       "  Province/State  Country/Region       Lat      Long  1/21/20 22:00  \\\n",
       "0          Anhui  Mainland China  31.82571  117.2264            NaN   \n",
       "1        Beijing  Mainland China  40.18238  116.4142            NaN   \n",
       "2      Chongqing  Mainland China  30.05718  107.8740            NaN   \n",
       "3         Fujian  Mainland China  26.07783  117.9895            NaN   \n",
       "4          Gansu  Mainland China  36.06110  103.8343            NaN   \n",
       "5      Guangdong  Mainland China  23.33841  113.4220            NaN   \n",
       "6        Guangxi  Mainland China  23.82908  108.7881            NaN   \n",
       "7        Guizhou  Mainland China  26.81536  106.8748            NaN   \n",
       "8         Hainan  Mainland China  19.19673  109.7455            NaN   \n",
       "9          Hebei  Mainland China  38.04280  114.5149            NaN   \n",
       "\n",
       "   1/22/20 12:00  1/23/20 12:00  1/24/20 0:00  1/24/20 12:00  1/25/20 0:00  \\\n",
       "0            NaN            NaN           NaN            NaN           NaN   \n",
       "1            NaN            NaN           NaN            1.0           1.0   \n",
       "2            NaN            NaN           NaN            NaN           NaN   \n",
       "3            NaN            NaN           NaN            NaN           NaN   \n",
       "4            NaN            NaN           NaN            NaN           NaN   \n",
       "5            NaN            2.0           2.0            2.0           2.0   \n",
       "6            NaN            NaN           NaN            NaN           NaN   \n",
       "7            NaN            NaN           NaN            NaN           NaN   \n",
       "8            NaN            NaN           NaN            NaN           NaN   \n",
       "9            NaN            NaN           NaN            NaN           NaN   \n",
       "\n",
       "   ...  02/05/20 9:00  02/05/20 23:00  02/06/20 9:00  02/06/20 14:20  \\\n",
       "0  ...           23.0            23.0           34.0            34.0   \n",
       "1  ...           24.0            31.0           31.0            31.0   \n",
       "2  ...           15.0            15.0           24.0            24.0   \n",
       "3  ...           11.0            11.0           14.0            14.0   \n",
       "4  ...            4.0             6.0            6.0             6.0   \n",
       "5  ...           49.0            49.0           69.0            69.0   \n",
       "6  ...           13.0            14.0           14.0            14.0   \n",
       "7  ...            9.0             6.0            6.0             6.0   \n",
       "8  ...            5.0             5.0            8.0             8.0   \n",
       "9  ...            6.0             7.0           13.0            13.0   \n",
       "\n",
       "   02/07/20 20:13  02/07/20 22:50  02/08/20 10:24  02/08/20 23:04  \\\n",
       "0            47.0            47.0              59              59   \n",
       "1            33.0            34.0              34              37   \n",
       "2            31.0            31.0              39              39   \n",
       "3            20.0            20.0              24              26   \n",
       "4             9.0             9.0              12              12   \n",
       "5            88.0            97.0             112             125   \n",
       "6            17.0            17.0              17              18   \n",
       "7             6.0             6.0               7               7   \n",
       "8            10.0            11.0              14              15   \n",
       "9            22.0            25.0              30              30   \n",
       "\n",
       "   02/09/20 10:30  02/09/20 23:20  \n",
       "0              72              73  \n",
       "1              37              44  \n",
       "2              50              51  \n",
       "3              35              35  \n",
       "4              15              16  \n",
       "5             141             147  \n",
       "6              18              18  \n",
       "7               7               7  \n",
       "8              19              19  \n",
       "9              34              35  \n",
       "\n",
       "[10 rows x 40 columns]"
      ]
     },
     "execution_count": 6,
     "metadata": {},
     "output_type": "execute_result"
    }
   ],
   "source": [
    "recovered_data[:10]"
   ]
  },
  {
   "cell_type": "code",
   "execution_count": 7,
   "metadata": {},
   "outputs": [
    {
     "data": {
      "text/html": [
       "<div>\n",
       "<style scoped>\n",
       "    .dataframe tbody tr th:only-of-type {\n",
       "        vertical-align: middle;\n",
       "    }\n",
       "\n",
       "    .dataframe tbody tr th {\n",
       "        vertical-align: top;\n",
       "    }\n",
       "\n",
       "    .dataframe thead th {\n",
       "        text-align: right;\n",
       "    }\n",
       "</style>\n",
       "<table border=\"1\" class=\"dataframe\">\n",
       "  <thead>\n",
       "    <tr style=\"text-align: right;\">\n",
       "      <th></th>\n",
       "      <th>Province/State</th>\n",
       "      <th>Country/Region</th>\n",
       "      <th>Lat</th>\n",
       "      <th>Long</th>\n",
       "      <th>1/21/20 22:00</th>\n",
       "      <th>1/22/20 12:00</th>\n",
       "      <th>1/23/20 12:00</th>\n",
       "      <th>1/24/20 0:00</th>\n",
       "      <th>1/24/20 12:00</th>\n",
       "      <th>1/25/20 0:00</th>\n",
       "      <th>...</th>\n",
       "      <th>02/05/20 9:00</th>\n",
       "      <th>02/05/20 23:00</th>\n",
       "      <th>02/06/20 9:00</th>\n",
       "      <th>02/06/20 14:20</th>\n",
       "      <th>02/07/20 20:13</th>\n",
       "      <th>02/07/20 22:50</th>\n",
       "      <th>02/08/20 10:24</th>\n",
       "      <th>02/08/20 23:04</th>\n",
       "      <th>02/09/20 10:30</th>\n",
       "      <th>02/09/20 23:20</th>\n",
       "    </tr>\n",
       "  </thead>\n",
       "  <tbody>\n",
       "    <tr>\n",
       "      <th>0</th>\n",
       "      <td>Anhui</td>\n",
       "      <td>Mainland China</td>\n",
       "      <td>31.82571</td>\n",
       "      <td>117.2264</td>\n",
       "      <td>NaN</td>\n",
       "      <td>NaN</td>\n",
       "      <td>NaN</td>\n",
       "      <td>NaN</td>\n",
       "      <td>NaN</td>\n",
       "      <td>NaN</td>\n",
       "      <td>...</td>\n",
       "      <td>NaN</td>\n",
       "      <td>NaN</td>\n",
       "      <td>NaN</td>\n",
       "      <td>NaN</td>\n",
       "      <td>NaN</td>\n",
       "      <td>NaN</td>\n",
       "      <td>0</td>\n",
       "      <td>1</td>\n",
       "      <td>1</td>\n",
       "      <td>3</td>\n",
       "    </tr>\n",
       "    <tr>\n",
       "      <th>1</th>\n",
       "      <td>Beijing</td>\n",
       "      <td>Mainland China</td>\n",
       "      <td>40.18238</td>\n",
       "      <td>116.4142</td>\n",
       "      <td>NaN</td>\n",
       "      <td>NaN</td>\n",
       "      <td>NaN</td>\n",
       "      <td>NaN</td>\n",
       "      <td>NaN</td>\n",
       "      <td>NaN</td>\n",
       "      <td>...</td>\n",
       "      <td>1.0</td>\n",
       "      <td>1.0</td>\n",
       "      <td>1.0</td>\n",
       "      <td>1.0</td>\n",
       "      <td>1.0</td>\n",
       "      <td>2.0</td>\n",
       "      <td>2</td>\n",
       "      <td>2</td>\n",
       "      <td>2</td>\n",
       "      <td>2</td>\n",
       "    </tr>\n",
       "    <tr>\n",
       "      <th>2</th>\n",
       "      <td>Chongqing</td>\n",
       "      <td>Mainland China</td>\n",
       "      <td>30.05718</td>\n",
       "      <td>107.8740</td>\n",
       "      <td>NaN</td>\n",
       "      <td>NaN</td>\n",
       "      <td>NaN</td>\n",
       "      <td>NaN</td>\n",
       "      <td>NaN</td>\n",
       "      <td>NaN</td>\n",
       "      <td>...</td>\n",
       "      <td>2.0</td>\n",
       "      <td>2.0</td>\n",
       "      <td>2.0</td>\n",
       "      <td>2.0</td>\n",
       "      <td>2.0</td>\n",
       "      <td>2.0</td>\n",
       "      <td>2</td>\n",
       "      <td>2</td>\n",
       "      <td>2</td>\n",
       "      <td>2</td>\n",
       "    </tr>\n",
       "    <tr>\n",
       "      <th>3</th>\n",
       "      <td>Fujian</td>\n",
       "      <td>Mainland China</td>\n",
       "      <td>26.07783</td>\n",
       "      <td>117.9895</td>\n",
       "      <td>NaN</td>\n",
       "      <td>NaN</td>\n",
       "      <td>NaN</td>\n",
       "      <td>NaN</td>\n",
       "      <td>NaN</td>\n",
       "      <td>NaN</td>\n",
       "      <td>...</td>\n",
       "      <td>NaN</td>\n",
       "      <td>NaN</td>\n",
       "      <td>NaN</td>\n",
       "      <td>NaN</td>\n",
       "      <td>NaN</td>\n",
       "      <td>NaN</td>\n",
       "      <td>0</td>\n",
       "      <td>0</td>\n",
       "      <td>0</td>\n",
       "      <td>0</td>\n",
       "    </tr>\n",
       "    <tr>\n",
       "      <th>4</th>\n",
       "      <td>Gansu</td>\n",
       "      <td>Mainland China</td>\n",
       "      <td>36.06110</td>\n",
       "      <td>103.8343</td>\n",
       "      <td>NaN</td>\n",
       "      <td>NaN</td>\n",
       "      <td>NaN</td>\n",
       "      <td>NaN</td>\n",
       "      <td>NaN</td>\n",
       "      <td>NaN</td>\n",
       "      <td>...</td>\n",
       "      <td>NaN</td>\n",
       "      <td>NaN</td>\n",
       "      <td>NaN</td>\n",
       "      <td>NaN</td>\n",
       "      <td>NaN</td>\n",
       "      <td>1.0</td>\n",
       "      <td>1</td>\n",
       "      <td>1</td>\n",
       "      <td>1</td>\n",
       "      <td>2</td>\n",
       "    </tr>\n",
       "  </tbody>\n",
       "</table>\n",
       "<p>5 rows × 40 columns</p>\n",
       "</div>"
      ],
      "text/plain": [
       "  Province/State  Country/Region       Lat      Long  1/21/20 22:00  \\\n",
       "0          Anhui  Mainland China  31.82571  117.2264            NaN   \n",
       "1        Beijing  Mainland China  40.18238  116.4142            NaN   \n",
       "2      Chongqing  Mainland China  30.05718  107.8740            NaN   \n",
       "3         Fujian  Mainland China  26.07783  117.9895            NaN   \n",
       "4          Gansu  Mainland China  36.06110  103.8343            NaN   \n",
       "\n",
       "   1/22/20 12:00  1/23/20 12:00  1/24/20 0:00  1/24/20 12:00  1/25/20 0:00  \\\n",
       "0            NaN            NaN           NaN            NaN           NaN   \n",
       "1            NaN            NaN           NaN            NaN           NaN   \n",
       "2            NaN            NaN           NaN            NaN           NaN   \n",
       "3            NaN            NaN           NaN            NaN           NaN   \n",
       "4            NaN            NaN           NaN            NaN           NaN   \n",
       "\n",
       "   ...  02/05/20 9:00  02/05/20 23:00  02/06/20 9:00  02/06/20 14:20  \\\n",
       "0  ...            NaN             NaN            NaN             NaN   \n",
       "1  ...            1.0             1.0            1.0             1.0   \n",
       "2  ...            2.0             2.0            2.0             2.0   \n",
       "3  ...            NaN             NaN            NaN             NaN   \n",
       "4  ...            NaN             NaN            NaN             NaN   \n",
       "\n",
       "   02/07/20 20:13  02/07/20 22:50  02/08/20 10:24  02/08/20 23:04  \\\n",
       "0             NaN             NaN               0               1   \n",
       "1             1.0             2.0               2               2   \n",
       "2             2.0             2.0               2               2   \n",
       "3             NaN             NaN               0               0   \n",
       "4             NaN             1.0               1               1   \n",
       "\n",
       "   02/09/20 10:30  02/09/20 23:20  \n",
       "0               1               3  \n",
       "1               2               2  \n",
       "2               2               2  \n",
       "3               0               0  \n",
       "4               1               2  \n",
       "\n",
       "[5 rows x 40 columns]"
      ]
     },
     "execution_count": 7,
     "metadata": {},
     "output_type": "execute_result"
    }
   ],
   "source": [
    "death_data.head()"
   ]
  },
  {
   "cell_type": "markdown",
   "metadata": {},
   "source": [
    "# 数据处理/Data Process\n",
    "* nCoV_data"
   ]
  },
  {
   "cell_type": "code",
   "execution_count": 8,
   "metadata": {},
   "outputs": [],
   "source": [
    "nCoV_data['Date'] = nCoV_data['Date'].apply(pd.to_datetime)\n",
    "nCoV_data[''] = nCoV_data['Date'].apply(pd.to_datetime)"
   ]
  },
  {
   "cell_type": "code",
   "execution_count": 9,
   "metadata": {},
   "outputs": [
    {
     "data": {
      "text/html": [
       "<div>\n",
       "<style scoped>\n",
       "    .dataframe tbody tr th:only-of-type {\n",
       "        vertical-align: middle;\n",
       "    }\n",
       "\n",
       "    .dataframe tbody tr th {\n",
       "        vertical-align: top;\n",
       "    }\n",
       "\n",
       "    .dataframe thead th {\n",
       "        text-align: right;\n",
       "    }\n",
       "</style>\n",
       "<table border=\"1\" class=\"dataframe\">\n",
       "  <thead>\n",
       "    <tr style=\"text-align: right;\">\n",
       "      <th></th>\n",
       "      <th>Sno</th>\n",
       "      <th>Date</th>\n",
       "      <th>Province/State</th>\n",
       "      <th>Country</th>\n",
       "      <th>Last Update</th>\n",
       "      <th>Confirmed</th>\n",
       "      <th>Deaths</th>\n",
       "      <th>Recovered</th>\n",
       "      <th></th>\n",
       "    </tr>\n",
       "  </thead>\n",
       "  <tbody>\n",
       "    <tr>\n",
       "      <th>0</th>\n",
       "      <td>1</td>\n",
       "      <td>2020-01-22 12:00:00</td>\n",
       "      <td>Anhui</td>\n",
       "      <td>China</td>\n",
       "      <td>01/22/2020 12:00:00</td>\n",
       "      <td>1.0</td>\n",
       "      <td>0.0</td>\n",
       "      <td>0.0</td>\n",
       "      <td>2020-01-22 12:00:00</td>\n",
       "    </tr>\n",
       "    <tr>\n",
       "      <th>1</th>\n",
       "      <td>2</td>\n",
       "      <td>2020-01-22 12:00:00</td>\n",
       "      <td>Beijing</td>\n",
       "      <td>China</td>\n",
       "      <td>01/22/2020 12:00:00</td>\n",
       "      <td>14.0</td>\n",
       "      <td>0.0</td>\n",
       "      <td>0.0</td>\n",
       "      <td>2020-01-22 12:00:00</td>\n",
       "    </tr>\n",
       "    <tr>\n",
       "      <th>2</th>\n",
       "      <td>3</td>\n",
       "      <td>2020-01-22 12:00:00</td>\n",
       "      <td>Chongqing</td>\n",
       "      <td>China</td>\n",
       "      <td>01/22/2020 12:00:00</td>\n",
       "      <td>6.0</td>\n",
       "      <td>0.0</td>\n",
       "      <td>0.0</td>\n",
       "      <td>2020-01-22 12:00:00</td>\n",
       "    </tr>\n",
       "    <tr>\n",
       "      <th>3</th>\n",
       "      <td>4</td>\n",
       "      <td>2020-01-22 12:00:00</td>\n",
       "      <td>Fujian</td>\n",
       "      <td>China</td>\n",
       "      <td>01/22/2020 12:00:00</td>\n",
       "      <td>1.0</td>\n",
       "      <td>0.0</td>\n",
       "      <td>0.0</td>\n",
       "      <td>2020-01-22 12:00:00</td>\n",
       "    </tr>\n",
       "    <tr>\n",
       "      <th>4</th>\n",
       "      <td>5</td>\n",
       "      <td>2020-01-22 12:00:00</td>\n",
       "      <td>Gansu</td>\n",
       "      <td>China</td>\n",
       "      <td>01/22/2020 12:00:00</td>\n",
       "      <td>0.0</td>\n",
       "      <td>0.0</td>\n",
       "      <td>0.0</td>\n",
       "      <td>2020-01-22 12:00:00</td>\n",
       "    </tr>\n",
       "  </tbody>\n",
       "</table>\n",
       "</div>"
      ],
      "text/plain": [
       "   Sno                Date Province/State Country          Last Update  \\\n",
       "0    1 2020-01-22 12:00:00          Anhui   China  01/22/2020 12:00:00   \n",
       "1    2 2020-01-22 12:00:00        Beijing   China  01/22/2020 12:00:00   \n",
       "2    3 2020-01-22 12:00:00      Chongqing   China  01/22/2020 12:00:00   \n",
       "3    4 2020-01-22 12:00:00         Fujian   China  01/22/2020 12:00:00   \n",
       "4    5 2020-01-22 12:00:00          Gansu   China  01/22/2020 12:00:00   \n",
       "\n",
       "   Confirmed  Deaths  Recovered                      \n",
       "0        1.0     0.0        0.0 2020-01-22 12:00:00  \n",
       "1       14.0     0.0        0.0 2020-01-22 12:00:00  \n",
       "2        6.0     0.0        0.0 2020-01-22 12:00:00  \n",
       "3        1.0     0.0        0.0 2020-01-22 12:00:00  \n",
       "4        0.0     0.0        0.0 2020-01-22 12:00:00  "
      ]
     },
     "execution_count": 9,
     "metadata": {},
     "output_type": "execute_result"
    }
   ],
   "source": [
    "nCoV_data.head()"
   ]
  },
  {
   "cell_type": "code",
   "execution_count": 10,
   "metadata": {},
   "outputs": [],
   "source": [
    "nCoV_data.drop(['Sno'],axis=1,inplace=True)"
   ]
  },
  {
   "cell_type": "code",
   "execution_count": 11,
   "metadata": {},
   "outputs": [
    {
     "data": {
      "text/html": [
       "<div>\n",
       "<style scoped>\n",
       "    .dataframe tbody tr th:only-of-type {\n",
       "        vertical-align: middle;\n",
       "    }\n",
       "\n",
       "    .dataframe tbody tr th {\n",
       "        vertical-align: top;\n",
       "    }\n",
       "\n",
       "    .dataframe thead th {\n",
       "        text-align: right;\n",
       "    }\n",
       "</style>\n",
       "<table border=\"1\" class=\"dataframe\">\n",
       "  <thead>\n",
       "    <tr style=\"text-align: right;\">\n",
       "      <th></th>\n",
       "      <th>Date</th>\n",
       "      <th>Province/State</th>\n",
       "      <th>Country</th>\n",
       "      <th>Last Update</th>\n",
       "      <th>Confirmed</th>\n",
       "      <th>Deaths</th>\n",
       "      <th>Recovered</th>\n",
       "      <th></th>\n",
       "    </tr>\n",
       "  </thead>\n",
       "  <tbody>\n",
       "    <tr>\n",
       "      <th>0</th>\n",
       "      <td>2020-01-22 12:00:00</td>\n",
       "      <td>Anhui</td>\n",
       "      <td>China</td>\n",
       "      <td>01/22/2020 12:00:00</td>\n",
       "      <td>1.0</td>\n",
       "      <td>0.0</td>\n",
       "      <td>0.0</td>\n",
       "      <td>2020-01-22 12:00:00</td>\n",
       "    </tr>\n",
       "    <tr>\n",
       "      <th>1</th>\n",
       "      <td>2020-01-22 12:00:00</td>\n",
       "      <td>Beijing</td>\n",
       "      <td>China</td>\n",
       "      <td>01/22/2020 12:00:00</td>\n",
       "      <td>14.0</td>\n",
       "      <td>0.0</td>\n",
       "      <td>0.0</td>\n",
       "      <td>2020-01-22 12:00:00</td>\n",
       "    </tr>\n",
       "    <tr>\n",
       "      <th>2</th>\n",
       "      <td>2020-01-22 12:00:00</td>\n",
       "      <td>Chongqing</td>\n",
       "      <td>China</td>\n",
       "      <td>01/22/2020 12:00:00</td>\n",
       "      <td>6.0</td>\n",
       "      <td>0.0</td>\n",
       "      <td>0.0</td>\n",
       "      <td>2020-01-22 12:00:00</td>\n",
       "    </tr>\n",
       "    <tr>\n",
       "      <th>3</th>\n",
       "      <td>2020-01-22 12:00:00</td>\n",
       "      <td>Fujian</td>\n",
       "      <td>China</td>\n",
       "      <td>01/22/2020 12:00:00</td>\n",
       "      <td>1.0</td>\n",
       "      <td>0.0</td>\n",
       "      <td>0.0</td>\n",
       "      <td>2020-01-22 12:00:00</td>\n",
       "    </tr>\n",
       "    <tr>\n",
       "      <th>4</th>\n",
       "      <td>2020-01-22 12:00:00</td>\n",
       "      <td>Gansu</td>\n",
       "      <td>China</td>\n",
       "      <td>01/22/2020 12:00:00</td>\n",
       "      <td>0.0</td>\n",
       "      <td>0.0</td>\n",
       "      <td>0.0</td>\n",
       "      <td>2020-01-22 12:00:00</td>\n",
       "    </tr>\n",
       "  </tbody>\n",
       "</table>\n",
       "</div>"
      ],
      "text/plain": [
       "                 Date Province/State Country          Last Update  Confirmed  \\\n",
       "0 2020-01-22 12:00:00          Anhui   China  01/22/2020 12:00:00        1.0   \n",
       "1 2020-01-22 12:00:00        Beijing   China  01/22/2020 12:00:00       14.0   \n",
       "2 2020-01-22 12:00:00      Chongqing   China  01/22/2020 12:00:00        6.0   \n",
       "3 2020-01-22 12:00:00         Fujian   China  01/22/2020 12:00:00        1.0   \n",
       "4 2020-01-22 12:00:00          Gansu   China  01/22/2020 12:00:00        0.0   \n",
       "\n",
       "   Deaths  Recovered                      \n",
       "0     0.0        0.0 2020-01-22 12:00:00  \n",
       "1     0.0        0.0 2020-01-22 12:00:00  \n",
       "2     0.0        0.0 2020-01-22 12:00:00  \n",
       "3     0.0        0.0 2020-01-22 12:00:00  \n",
       "4     0.0        0.0 2020-01-22 12:00:00  "
      ]
     },
     "execution_count": 11,
     "metadata": {},
     "output_type": "execute_result"
    }
   ],
   "source": [
    "nCoV_data.head()"
   ]
  },
  {
   "cell_type": "code",
   "execution_count": 12,
   "metadata": {},
   "outputs": [
    {
     "name": "stdout",
     "output_type": "stream",
     "text": [
      "['China', 'US', 'Japan', 'Thailand', 'South Korea', 'Singapore', 'Philippines', 'Malaysia', 'Vietnam', 'Australia', 'Mexico', 'Brazil', 'France', 'Nepal', 'Canada', 'Cambodia', 'Sri Lanka', 'Ivory Coast', 'Germany', 'Finland', 'United Arab Emirates', 'India', 'Italy', 'Sweden', 'Russia', 'Spain', 'UK', 'Belgium', 'Others', 'Egypt']\n",
      "\n",
      "Total countries affected by virus:  30\n"
     ]
    }
   ],
   "source": [
    "nCoV_data['Country'].replace({'Mainland China':'China','Hong Kong':'China',\n",
    "                         'Macau':'China','Taiwan':'China'},inplace=True)\n",
    "countries = nCoV_data['Country'].unique().tolist()\n",
    "print(countries)\n",
    "print(\"\\nTotal countries affected by virus: \",len(countries))"
   ]
  },
  {
   "cell_type": "code",
   "execution_count": 13,
   "metadata": {},
   "outputs": [
    {
     "data": {
      "text/html": [
       "<div>\n",
       "<style scoped>\n",
       "    .dataframe tbody tr th:only-of-type {\n",
       "        vertical-align: middle;\n",
       "    }\n",
       "\n",
       "    .dataframe tbody tr th {\n",
       "        vertical-align: top;\n",
       "    }\n",
       "\n",
       "    .dataframe thead th {\n",
       "        text-align: right;\n",
       "    }\n",
       "</style>\n",
       "<table border=\"1\" class=\"dataframe\">\n",
       "  <thead>\n",
       "    <tr style=\"text-align: right;\">\n",
       "      <th></th>\n",
       "      <th>Date</th>\n",
       "      <th>Province/State</th>\n",
       "      <th>Country</th>\n",
       "      <th>Last Update</th>\n",
       "      <th>Confirmed</th>\n",
       "      <th>Deaths</th>\n",
       "      <th>Recovered</th>\n",
       "      <th></th>\n",
       "    </tr>\n",
       "  </thead>\n",
       "  <tbody>\n",
       "    <tr>\n",
       "      <th>1494</th>\n",
       "      <td>2020-02-15 22:00:00</td>\n",
       "      <td>Hubei</td>\n",
       "      <td>China</td>\n",
       "      <td>2020-02-15T23:13:05</td>\n",
       "      <td>56249.0</td>\n",
       "      <td>1596.0</td>\n",
       "      <td>5623.0</td>\n",
       "      <td>2020-02-15 22:00:00</td>\n",
       "    </tr>\n",
       "    <tr>\n",
       "      <th>1495</th>\n",
       "      <td>2020-02-15 22:00:00</td>\n",
       "      <td>Guangdong</td>\n",
       "      <td>China</td>\n",
       "      <td>2020-02-15T14:03:04</td>\n",
       "      <td>1294.0</td>\n",
       "      <td>2.0</td>\n",
       "      <td>410.0</td>\n",
       "      <td>2020-02-15 22:00:00</td>\n",
       "    </tr>\n",
       "    <tr>\n",
       "      <th>1496</th>\n",
       "      <td>2020-02-15 22:00:00</td>\n",
       "      <td>Henan</td>\n",
       "      <td>China</td>\n",
       "      <td>2020-02-15T12:13:08</td>\n",
       "      <td>1212.0</td>\n",
       "      <td>13.0</td>\n",
       "      <td>391.0</td>\n",
       "      <td>2020-02-15 22:00:00</td>\n",
       "    </tr>\n",
       "    <tr>\n",
       "      <th>1497</th>\n",
       "      <td>2020-02-15 22:00:00</td>\n",
       "      <td>Zhejiang</td>\n",
       "      <td>China</td>\n",
       "      <td>2020-02-15T11:23:17</td>\n",
       "      <td>1162.0</td>\n",
       "      <td>0.0</td>\n",
       "      <td>428.0</td>\n",
       "      <td>2020-02-15 22:00:00</td>\n",
       "    </tr>\n",
       "    <tr>\n",
       "      <th>1498</th>\n",
       "      <td>2020-02-15 22:00:00</td>\n",
       "      <td>Hunan</td>\n",
       "      <td>China</td>\n",
       "      <td>2020-02-15T13:03:04</td>\n",
       "      <td>1001.0</td>\n",
       "      <td>2.0</td>\n",
       "      <td>425.0</td>\n",
       "      <td>2020-02-15 22:00:00</td>\n",
       "    </tr>\n",
       "  </tbody>\n",
       "</table>\n",
       "</div>"
      ],
      "text/plain": [
       "                    Date Province/State Country          Last Update  \\\n",
       "1494 2020-02-15 22:00:00          Hubei   China  2020-02-15T23:13:05   \n",
       "1495 2020-02-15 22:00:00      Guangdong   China  2020-02-15T14:03:04   \n",
       "1496 2020-02-15 22:00:00          Henan   China  2020-02-15T12:13:08   \n",
       "1497 2020-02-15 22:00:00       Zhejiang   China  2020-02-15T11:23:17   \n",
       "1498 2020-02-15 22:00:00          Hunan   China  2020-02-15T13:03:04   \n",
       "\n",
       "      Confirmed  Deaths  Recovered                      \n",
       "1494    56249.0  1596.0     5623.0 2020-02-15 22:00:00  \n",
       "1495     1294.0     2.0      410.0 2020-02-15 22:00:00  \n",
       "1496     1212.0    13.0      391.0 2020-02-15 22:00:00  \n",
       "1497     1162.0     0.0      428.0 2020-02-15 22:00:00  \n",
       "1498     1001.0     2.0      425.0 2020-02-15 22:00:00  "
      ]
     },
     "execution_count": 13,
     "metadata": {},
     "output_type": "execute_result"
    }
   ],
   "source": [
    "d = nCoV_data['Date'][-1:].astype('str')\n",
    "year = int(d.values[0].split('-')[0])\n",
    "month = int(d.values[0].split('-')[1])\n",
    "day = int(d.values[0].split('-')[2].split()[0])\n",
    "\n",
    "data_latest = nCoV_data[nCoV_data['Date'] > pd.Timestamp(datetime.date(year,month,day))]\n",
    "data_latest.head()"
   ]
  },
  {
   "cell_type": "code",
   "execution_count": 14,
   "metadata": {},
   "outputs": [
    {
     "name": "stdout",
     "output_type": "stream",
     "text": [
      "Globally Confirmed Cases:  69032.0\n",
      "Global Deaths:  1666.0\n",
      "Globally Recovered Cases:  9395.0\n"
     ]
    }
   ],
   "source": [
    "print('Globally Confirmed Cases: ',data_latest['Confirmed'].sum())\n",
    "print('Global Deaths: ',data_latest['Deaths'].sum())\n",
    "print('Globally Recovered Cases: ',data_latest['Recovered'].sum())"
   ]
  },
  {
   "cell_type": "code",
   "execution_count": 15,
   "metadata": {},
   "outputs": [
    {
     "data": {
      "text/html": [
       "<div>\n",
       "<style scoped>\n",
       "    .dataframe tbody tr th:only-of-type {\n",
       "        vertical-align: middle;\n",
       "    }\n",
       "\n",
       "    .dataframe tbody tr th {\n",
       "        vertical-align: top;\n",
       "    }\n",
       "\n",
       "    .dataframe thead th {\n",
       "        text-align: right;\n",
       "    }\n",
       "</style>\n",
       "<table border=\"1\" class=\"dataframe\">\n",
       "  <thead>\n",
       "    <tr style=\"text-align: right;\">\n",
       "      <th></th>\n",
       "      <th></th>\n",
       "      <th>Confirmed</th>\n",
       "      <th>Deaths</th>\n",
       "      <th>Recovered</th>\n",
       "    </tr>\n",
       "    <tr>\n",
       "      <th>Country</th>\n",
       "      <th>Province/State</th>\n",
       "      <th></th>\n",
       "      <th></th>\n",
       "      <th></th>\n",
       "    </tr>\n",
       "  </thead>\n",
       "  <tbody>\n",
       "    <tr>\n",
       "      <th rowspan=\"4\" valign=\"top\">Australia</th>\n",
       "      <th>New South Wales</th>\n",
       "      <td>4.0</td>\n",
       "      <td>0.0</td>\n",
       "      <td>4.0</td>\n",
       "    </tr>\n",
       "    <tr>\n",
       "      <th>Queensland</th>\n",
       "      <td>5.0</td>\n",
       "      <td>0.0</td>\n",
       "      <td>0.0</td>\n",
       "    </tr>\n",
       "    <tr>\n",
       "      <th>South Australia</th>\n",
       "      <td>2.0</td>\n",
       "      <td>0.0</td>\n",
       "      <td>0.0</td>\n",
       "    </tr>\n",
       "    <tr>\n",
       "      <th>Victoria</th>\n",
       "      <td>4.0</td>\n",
       "      <td>0.0</td>\n",
       "      <td>4.0</td>\n",
       "    </tr>\n",
       "    <tr>\n",
       "      <th rowspan=\"3\" valign=\"top\">Canada</th>\n",
       "      <th>British Columbia</th>\n",
       "      <td>4.0</td>\n",
       "      <td>0.0</td>\n",
       "      <td>0.0</td>\n",
       "    </tr>\n",
       "    <tr>\n",
       "      <th>London, ON</th>\n",
       "      <td>1.0</td>\n",
       "      <td>0.0</td>\n",
       "      <td>1.0</td>\n",
       "    </tr>\n",
       "    <tr>\n",
       "      <th>Toronto, ON</th>\n",
       "      <td>2.0</td>\n",
       "      <td>0.0</td>\n",
       "      <td>0.0</td>\n",
       "    </tr>\n",
       "    <tr>\n",
       "      <th rowspan=\"34\" valign=\"top\">China</th>\n",
       "      <th>Anhui</th>\n",
       "      <td>950.0</td>\n",
       "      <td>6.0</td>\n",
       "      <td>221.0</td>\n",
       "    </tr>\n",
       "    <tr>\n",
       "      <th>Beijing</th>\n",
       "      <td>375.0</td>\n",
       "      <td>4.0</td>\n",
       "      <td>98.0</td>\n",
       "    </tr>\n",
       "    <tr>\n",
       "      <th>Chongqing</th>\n",
       "      <td>544.0</td>\n",
       "      <td>5.0</td>\n",
       "      <td>184.0</td>\n",
       "    </tr>\n",
       "    <tr>\n",
       "      <th>Fujian</th>\n",
       "      <td>285.0</td>\n",
       "      <td>0.0</td>\n",
       "      <td>71.0</td>\n",
       "    </tr>\n",
       "    <tr>\n",
       "      <th>Gansu</th>\n",
       "      <td>90.0</td>\n",
       "      <td>2.0</td>\n",
       "      <td>49.0</td>\n",
       "    </tr>\n",
       "    <tr>\n",
       "      <th>Guangdong</th>\n",
       "      <td>1294.0</td>\n",
       "      <td>2.0</td>\n",
       "      <td>410.0</td>\n",
       "    </tr>\n",
       "    <tr>\n",
       "      <th>Guangxi</th>\n",
       "      <td>235.0</td>\n",
       "      <td>2.0</td>\n",
       "      <td>44.0</td>\n",
       "    </tr>\n",
       "    <tr>\n",
       "      <th>Guizhou</th>\n",
       "      <td>143.0</td>\n",
       "      <td>1.0</td>\n",
       "      <td>41.0</td>\n",
       "    </tr>\n",
       "    <tr>\n",
       "      <th>Hainan</th>\n",
       "      <td>162.0</td>\n",
       "      <td>4.0</td>\n",
       "      <td>39.0</td>\n",
       "    </tr>\n",
       "    <tr>\n",
       "      <th>Hebei</th>\n",
       "      <td>291.0</td>\n",
       "      <td>3.0</td>\n",
       "      <td>101.0</td>\n",
       "    </tr>\n",
       "    <tr>\n",
       "      <th>Heilongjiang</th>\n",
       "      <td>425.0</td>\n",
       "      <td>11.0</td>\n",
       "      <td>68.0</td>\n",
       "    </tr>\n",
       "    <tr>\n",
       "      <th>Henan</th>\n",
       "      <td>1212.0</td>\n",
       "      <td>13.0</td>\n",
       "      <td>391.0</td>\n",
       "    </tr>\n",
       "    <tr>\n",
       "      <th>Hong Kong</th>\n",
       "      <td>56.0</td>\n",
       "      <td>1.0</td>\n",
       "      <td>1.0</td>\n",
       "    </tr>\n",
       "    <tr>\n",
       "      <th>Hubei</th>\n",
       "      <td>56249.0</td>\n",
       "      <td>1596.0</td>\n",
       "      <td>5623.0</td>\n",
       "    </tr>\n",
       "    <tr>\n",
       "      <th>Hunan</th>\n",
       "      <td>1001.0</td>\n",
       "      <td>2.0</td>\n",
       "      <td>425.0</td>\n",
       "    </tr>\n",
       "    <tr>\n",
       "      <th>Inner Mongolia</th>\n",
       "      <td>68.0</td>\n",
       "      <td>0.0</td>\n",
       "      <td>7.0</td>\n",
       "    </tr>\n",
       "    <tr>\n",
       "      <th>Jiangsu</th>\n",
       "      <td>604.0</td>\n",
       "      <td>0.0</td>\n",
       "      <td>186.0</td>\n",
       "    </tr>\n",
       "    <tr>\n",
       "      <th>Jiangxi</th>\n",
       "      <td>913.0</td>\n",
       "      <td>1.0</td>\n",
       "      <td>210.0</td>\n",
       "    </tr>\n",
       "    <tr>\n",
       "      <th>Jilin</th>\n",
       "      <td>88.0</td>\n",
       "      <td>1.0</td>\n",
       "      <td>26.0</td>\n",
       "    </tr>\n",
       "    <tr>\n",
       "      <th>Liaoning</th>\n",
       "      <td>119.0</td>\n",
       "      <td>1.0</td>\n",
       "      <td>31.0</td>\n",
       "    </tr>\n",
       "    <tr>\n",
       "      <th>Macau</th>\n",
       "      <td>10.0</td>\n",
       "      <td>0.0</td>\n",
       "      <td>3.0</td>\n",
       "    </tr>\n",
       "    <tr>\n",
       "      <th>Ningxia</th>\n",
       "      <td>70.0</td>\n",
       "      <td>0.0</td>\n",
       "      <td>33.0</td>\n",
       "    </tr>\n",
       "    <tr>\n",
       "      <th>Qinghai</th>\n",
       "      <td>18.0</td>\n",
       "      <td>0.0</td>\n",
       "      <td>13.0</td>\n",
       "    </tr>\n",
       "    <tr>\n",
       "      <th>Shaanxi</th>\n",
       "      <td>232.0</td>\n",
       "      <td>0.0</td>\n",
       "      <td>60.0</td>\n",
       "    </tr>\n",
       "    <tr>\n",
       "      <th>Shandong</th>\n",
       "      <td>532.0</td>\n",
       "      <td>2.0</td>\n",
       "      <td>156.0</td>\n",
       "    </tr>\n",
       "    <tr>\n",
       "      <th>Shanghai</th>\n",
       "      <td>326.0</td>\n",
       "      <td>1.0</td>\n",
       "      <td>124.0</td>\n",
       "    </tr>\n",
       "    <tr>\n",
       "      <th>Shanxi</th>\n",
       "      <td>128.0</td>\n",
       "      <td>0.0</td>\n",
       "      <td>46.0</td>\n",
       "    </tr>\n",
       "    <tr>\n",
       "      <th>Sichuan</th>\n",
       "      <td>470.0</td>\n",
       "      <td>1.0</td>\n",
       "      <td>119.0</td>\n",
       "    </tr>\n",
       "    <tr>\n",
       "      <th>Taiwan</th>\n",
       "      <td>18.0</td>\n",
       "      <td>0.0</td>\n",
       "      <td>2.0</td>\n",
       "    </tr>\n",
       "    <tr>\n",
       "      <th>Tianjin</th>\n",
       "      <td>122.0</td>\n",
       "      <td>3.0</td>\n",
       "      <td>37.0</td>\n",
       "    </tr>\n",
       "    <tr>\n",
       "      <th>Tibet</th>\n",
       "      <td>1.0</td>\n",
       "      <td>0.0</td>\n",
       "      <td>1.0</td>\n",
       "    </tr>\n",
       "    <tr>\n",
       "      <th>Xinjiang</th>\n",
       "      <td>70.0</td>\n",
       "      <td>1.0</td>\n",
       "      <td>10.0</td>\n",
       "    </tr>\n",
       "    <tr>\n",
       "      <th>Yunnan</th>\n",
       "      <td>168.0</td>\n",
       "      <td>0.0</td>\n",
       "      <td>42.0</td>\n",
       "    </tr>\n",
       "    <tr>\n",
       "      <th>Zhejiang</th>\n",
       "      <td>1162.0</td>\n",
       "      <td>0.0</td>\n",
       "      <td>428.0</td>\n",
       "    </tr>\n",
       "    <tr>\n",
       "      <th>Others</th>\n",
       "      <th>Diamond Princess cruise ship</th>\n",
       "      <td>285.0</td>\n",
       "      <td>0.0</td>\n",
       "      <td>0.0</td>\n",
       "    </tr>\n",
       "    <tr>\n",
       "      <th rowspan=\"11\" valign=\"top\">US</th>\n",
       "      <th>Boston, MA</th>\n",
       "      <td>1.0</td>\n",
       "      <td>0.0</td>\n",
       "      <td>0.0</td>\n",
       "    </tr>\n",
       "    <tr>\n",
       "      <th>Chicago, IL</th>\n",
       "      <td>2.0</td>\n",
       "      <td>0.0</td>\n",
       "      <td>2.0</td>\n",
       "    </tr>\n",
       "    <tr>\n",
       "      <th>Los Angeles, CA</th>\n",
       "      <td>1.0</td>\n",
       "      <td>0.0</td>\n",
       "      <td>0.0</td>\n",
       "    </tr>\n",
       "    <tr>\n",
       "      <th>Madison, WI</th>\n",
       "      <td>1.0</td>\n",
       "      <td>0.0</td>\n",
       "      <td>0.0</td>\n",
       "    </tr>\n",
       "    <tr>\n",
       "      <th>Orange, CA</th>\n",
       "      <td>1.0</td>\n",
       "      <td>0.0</td>\n",
       "      <td>0.0</td>\n",
       "    </tr>\n",
       "    <tr>\n",
       "      <th>San Antonio, TX</th>\n",
       "      <td>1.0</td>\n",
       "      <td>0.0</td>\n",
       "      <td>0.0</td>\n",
       "    </tr>\n",
       "    <tr>\n",
       "      <th>San Benito, CA</th>\n",
       "      <td>2.0</td>\n",
       "      <td>0.0</td>\n",
       "      <td>0.0</td>\n",
       "    </tr>\n",
       "    <tr>\n",
       "      <th>San Diego County, CA</th>\n",
       "      <td>2.0</td>\n",
       "      <td>0.0</td>\n",
       "      <td>0.0</td>\n",
       "    </tr>\n",
       "    <tr>\n",
       "      <th>Santa Clara, CA</th>\n",
       "      <td>2.0</td>\n",
       "      <td>0.0</td>\n",
       "      <td>0.0</td>\n",
       "    </tr>\n",
       "    <tr>\n",
       "      <th>Seattle, WA</th>\n",
       "      <td>1.0</td>\n",
       "      <td>0.0</td>\n",
       "      <td>1.0</td>\n",
       "    </tr>\n",
       "    <tr>\n",
       "      <th>Tempe, AZ</th>\n",
       "      <td>1.0</td>\n",
       "      <td>0.0</td>\n",
       "      <td>0.0</td>\n",
       "    </tr>\n",
       "  </tbody>\n",
       "</table>\n",
       "</div>"
      ],
      "text/plain": [
       "                                        Confirmed  Deaths  Recovered\n",
       "Country   Province/State                                            \n",
       "Australia New South Wales                     4.0     0.0        4.0\n",
       "          Queensland                          5.0     0.0        0.0\n",
       "          South Australia                     2.0     0.0        0.0\n",
       "          Victoria                            4.0     0.0        4.0\n",
       "Canada    British Columbia                    4.0     0.0        0.0\n",
       "          London, ON                          1.0     0.0        1.0\n",
       "          Toronto, ON                         2.0     0.0        0.0\n",
       "China     Anhui                             950.0     6.0      221.0\n",
       "          Beijing                           375.0     4.0       98.0\n",
       "          Chongqing                         544.0     5.0      184.0\n",
       "          Fujian                            285.0     0.0       71.0\n",
       "          Gansu                              90.0     2.0       49.0\n",
       "          Guangdong                        1294.0     2.0      410.0\n",
       "          Guangxi                           235.0     2.0       44.0\n",
       "          Guizhou                           143.0     1.0       41.0\n",
       "          Hainan                            162.0     4.0       39.0\n",
       "          Hebei                             291.0     3.0      101.0\n",
       "          Heilongjiang                      425.0    11.0       68.0\n",
       "          Henan                            1212.0    13.0      391.0\n",
       "          Hong Kong                          56.0     1.0        1.0\n",
       "          Hubei                           56249.0  1596.0     5623.0\n",
       "          Hunan                            1001.0     2.0      425.0\n",
       "          Inner Mongolia                     68.0     0.0        7.0\n",
       "          Jiangsu                           604.0     0.0      186.0\n",
       "          Jiangxi                           913.0     1.0      210.0\n",
       "          Jilin                              88.0     1.0       26.0\n",
       "          Liaoning                          119.0     1.0       31.0\n",
       "          Macau                              10.0     0.0        3.0\n",
       "          Ningxia                            70.0     0.0       33.0\n",
       "          Qinghai                            18.0     0.0       13.0\n",
       "          Shaanxi                           232.0     0.0       60.0\n",
       "          Shandong                          532.0     2.0      156.0\n",
       "          Shanghai                          326.0     1.0      124.0\n",
       "          Shanxi                            128.0     0.0       46.0\n",
       "          Sichuan                           470.0     1.0      119.0\n",
       "          Taiwan                             18.0     0.0        2.0\n",
       "          Tianjin                           122.0     3.0       37.0\n",
       "          Tibet                               1.0     0.0        1.0\n",
       "          Xinjiang                           70.0     1.0       10.0\n",
       "          Yunnan                            168.0     0.0       42.0\n",
       "          Zhejiang                         1162.0     0.0      428.0\n",
       "Others    Diamond Princess cruise ship      285.0     0.0        0.0\n",
       "US        Boston, MA                          1.0     0.0        0.0\n",
       "          Chicago, IL                         2.0     0.0        2.0\n",
       "          Los Angeles, CA                     1.0     0.0        0.0\n",
       "          Madison, WI                         1.0     0.0        0.0\n",
       "          Orange, CA                          1.0     0.0        0.0\n",
       "          San Antonio, TX                     1.0     0.0        0.0\n",
       "          San Benito, CA                      2.0     0.0        0.0\n",
       "          San Diego County, CA                2.0     0.0        0.0\n",
       "          Santa Clara, CA                     2.0     0.0        0.0\n",
       "          Seattle, WA                         1.0     0.0        1.0\n",
       "          Tempe, AZ                           1.0     0.0        0.0"
      ]
     },
     "execution_count": 15,
     "metadata": {},
     "output_type": "execute_result"
    }
   ],
   "source": [
    "data_latest.groupby(['Country','Province/State']).sum()"
   ]
  },
  {
   "cell_type": "code",
   "execution_count": 16,
   "metadata": {},
   "outputs": [
    {
     "data": {
      "text/plain": [
       "Country\n",
       "China          1663.0\n",
       "France            1.0\n",
       "Philippines       1.0\n",
       "Japan             1.0\n",
       "Vietnam           0.0\n",
       "Name: Deaths, dtype: float64"
      ]
     },
     "execution_count": 16,
     "metadata": {},
     "output_type": "execute_result"
    }
   ],
   "source": [
    "data_latest.groupby('Country')['Deaths'].sum().sort_values(ascending=False)[:5]"
   ]
  },
  {
   "cell_type": "code",
   "execution_count": 17,
   "metadata": {},
   "outputs": [
    {
     "data": {
      "text/plain": [
       "Country\n",
       "China          9300.0\n",
       "Singapore        18.0\n",
       "Japan            12.0\n",
       "Thailand         12.0\n",
       "South Korea       9.0\n",
       "Name: Recovered, dtype: float64"
      ]
     },
     "execution_count": 17,
     "metadata": {},
     "output_type": "execute_result"
    }
   ],
   "source": [
    "data_latest.groupby('Country')['Recovered'].sum().sort_values(ascending=False)[:5]"
   ]
  },
  {
   "cell_type": "code",
   "execution_count": 18,
   "metadata": {},
   "outputs": [
    {
     "data": {
      "text/plain": [
       "Country\n",
       "China        68431.0\n",
       "Others         285.0\n",
       "Singapore       72.0\n",
       "Japan           43.0\n",
       "Thailand        33.0\n",
       "Name: Confirmed, dtype: float64"
      ]
     },
     "execution_count": 18,
     "metadata": {},
     "output_type": "execute_result"
    }
   ],
   "source": [
    "data_latest.groupby('Country')['Confirmed'].sum().sort_values(ascending=False)[:5]"
   ]
  },
  {
   "cell_type": "markdown",
   "metadata": {},
   "source": [
    "- confirmed_data\n",
    "- recovered_data\n",
    "- death_data"
   ]
  },
  {
   "cell_type": "code",
   "execution_count": 19,
   "metadata": {},
   "outputs": [
    {
     "name": "stdout",
     "output_type": "stream",
     "text": [
      "<class 'pandas.core.frame.DataFrame'>\n",
      "RangeIndex: 72 entries, 0 to 71\n",
      "Data columns (total 40 columns):\n",
      "Province/State    51 non-null object\n",
      "Country/Region    72 non-null object\n",
      "Lat               72 non-null float64\n",
      "Long              72 non-null float64\n",
      "1/21/20 22:00     16 non-null float64\n",
      "1/22/20 12:00     29 non-null float64\n",
      "1/23/20 12:00     37 non-null float64\n",
      "1/24/20 0:00      38 non-null float64\n",
      "1/24/20 12:00     40 non-null float64\n",
      "1/25/20 0:00      42 non-null float64\n",
      "1/25/20 12:00     43 non-null float64\n",
      "1/25/20 22:00     43 non-null float64\n",
      "1/26/20 11:00     49 non-null float64\n",
      "1/26/20 23:00     49 non-null float64\n",
      "1/27/20 9:00      50 non-null float64\n",
      "1/27/20 19:00     51 non-null float64\n",
      "1/27/20 20:30     52 non-null float64\n",
      "1/28/20 13:00     53 non-null float64\n",
      "1/28/20 18:00     53 non-null float64\n",
      "1/28/20 23:00     53 non-null float64\n",
      "1/29/20 13:30     56 non-null float64\n",
      "1/29/20 14:30     55 non-null float64\n",
      "1/29/20 21:00     57 non-null float64\n",
      "1/30/20 11:00     59 non-null float64\n",
      "1/31/20 14:00     65 non-null float64\n",
      "02/01/20 10:00    67 non-null float64\n",
      "02/02/20 21:00    68 non-null float64\n",
      "02/03/20 21:00    69 non-null float64\n",
      "02/04/20 9:40     70 non-null float64\n",
      "02/04/20 22:00    70 non-null float64\n",
      "02/05/20 9:00     70 non-null float64\n",
      "02/05/20 23:00    71 non-null float64\n",
      "02/06/20 9:00     71 non-null float64\n",
      "02/06/20 14:20    71 non-null float64\n",
      "02/07/20 20:13    72 non-null int64\n",
      "02/07/20 22:50    72 non-null int64\n",
      "02/08/20 22:04    72 non-null int64\n",
      "02/08/20 23:04    72 non-null int64\n",
      "02/09/20 10:30    72 non-null int64\n",
      "02/09/20 23:20    72 non-null int64\n",
      "dtypes: float64(32), int64(6), object(2)\n",
      "memory usage: 22.6+ KB\n"
     ]
    }
   ],
   "source": [
    "confirmed_data.info()"
   ]
  },
  {
   "cell_type": "markdown",
   "metadata": {},
   "source": [
    "### 数据只截止到2020-02-09/ from 2020-01-21 to 2020-02-09"
   ]
  },
  {
   "cell_type": "code",
   "execution_count": 20,
   "metadata": {},
   "outputs": [],
   "source": [
    "confirmed_time_cols = confirmed_data.columns.tolist()[4:]\n",
    "death_time_cols = death_data.columns.tolist()[4:]\n",
    "recovered_time_cols = recovered_data.columns.tolist()[4:]"
   ]
  },
  {
   "cell_type": "markdown",
   "metadata": {},
   "source": [
    "## 以时间顺序，大体观察确诊/死亡/痊愈情况 \n",
    "## Overview over the Confirmed/Death/Recovered Cases by time "
   ]
  },
  {
   "cell_type": "code",
   "execution_count": 21,
   "metadata": {},
   "outputs": [
    {
     "data": {
      "text/plain": [
       "<matplotlib.axes._subplots.AxesSubplot at 0x1a220b7668>"
      ]
     },
     "execution_count": 21,
     "metadata": {},
     "output_type": "execute_result"
    },
    {
     "data": {
      "image/png": "[encoded data removed]",
      "text/plain": [
       "<Figure size 3240x1440 with 1 Axes>"
      ]
     },
     "metadata": {
      "needs_background": "light"
     },
     "output_type": "display_data"
    }
   ],
   "source": [
    "confirmed_data[confirmed_time_cols].describe().boxplot(figsize=(45,20))"
   ]
  },
  {
   "cell_type": "code",
   "execution_count": 22,
   "metadata": {},
   "outputs": [
    {
     "data": {
      "text/plain": [
       "<matplotlib.axes._subplots.AxesSubplot at 0x1a226dc9e8>"
      ]
     },
     "execution_count": 22,
     "metadata": {},
     "output_type": "execute_result"
    },
    {
     "data": {
      "image/png": "[encoded data removed]",
      "text/plain": [
       "<Figure size 3240x1440 with 1 Axes>"
      ]
     },
     "metadata": {
      "needs_background": "light"
     },
     "output_type": "display_data"
    }
   ],
   "source": [
    "death_data[death_time_cols].describe().boxplot(figsize=(45,20))"
   ]
  },
  {
   "cell_type": "code",
   "execution_count": 23,
   "metadata": {},
   "outputs": [
    {
     "data": {
      "text/plain": [
       "<matplotlib.axes._subplots.AxesSubplot at 0x1a23b6ddd8>"
      ]
     },
     "execution_count": 23,
     "metadata": {},
     "output_type": "execute_result"
    },
    {
     "data": {
      "image/png": "[encoded data removed]",
      "text/plain": [
       "<Figure size 3240x1440 with 1 Axes>"
      ]
     },
     "metadata": {
      "needs_background": "light"
     },
     "output_type": "display_data"
    }
   ],
   "source": [
    "recovered_data[recovered_time_cols].describe().boxplot(figsize=(45,20))"
   ]
  },
  {
   "cell_type": "markdown",
   "metadata": {},
   "source": [
    "## 中国/China "
   ]
  },
  {
   "cell_type": "code",
   "execution_count": 24,
   "metadata": {},
   "outputs": [
    {
     "data": {
      "text/html": [
       "<div>\n",
       "<style scoped>\n",
       "    .dataframe tbody tr th:only-of-type {\n",
       "        vertical-align: middle;\n",
       "    }\n",
       "\n",
       "    .dataframe tbody tr th {\n",
       "        vertical-align: top;\n",
       "    }\n",
       "\n",
       "    .dataframe thead th {\n",
       "        text-align: right;\n",
       "    }\n",
       "</style>\n",
       "<table border=\"1\" class=\"dataframe\">\n",
       "  <thead>\n",
       "    <tr style=\"text-align: right;\">\n",
       "      <th></th>\n",
       "      <th>Date</th>\n",
       "      <th>Province/State</th>\n",
       "      <th>Country</th>\n",
       "      <th>Last Update</th>\n",
       "      <th>Confirmed</th>\n",
       "      <th>Deaths</th>\n",
       "      <th>Recovered</th>\n",
       "      <th></th>\n",
       "    </tr>\n",
       "  </thead>\n",
       "  <tbody>\n",
       "    <tr>\n",
       "      <th>1494</th>\n",
       "      <td>2020-02-15 22:00:00</td>\n",
       "      <td>Hubei</td>\n",
       "      <td>China</td>\n",
       "      <td>2020-02-15T23:13:05</td>\n",
       "      <td>56249.0</td>\n",
       "      <td>1596.0</td>\n",
       "      <td>5623.0</td>\n",
       "      <td>2020-02-15 22:00:00</td>\n",
       "    </tr>\n",
       "    <tr>\n",
       "      <th>1495</th>\n",
       "      <td>2020-02-15 22:00:00</td>\n",
       "      <td>Guangdong</td>\n",
       "      <td>China</td>\n",
       "      <td>2020-02-15T14:03:04</td>\n",
       "      <td>1294.0</td>\n",
       "      <td>2.0</td>\n",
       "      <td>410.0</td>\n",
       "      <td>2020-02-15 22:00:00</td>\n",
       "    </tr>\n",
       "    <tr>\n",
       "      <th>1496</th>\n",
       "      <td>2020-02-15 22:00:00</td>\n",
       "      <td>Henan</td>\n",
       "      <td>China</td>\n",
       "      <td>2020-02-15T12:13:08</td>\n",
       "      <td>1212.0</td>\n",
       "      <td>13.0</td>\n",
       "      <td>391.0</td>\n",
       "      <td>2020-02-15 22:00:00</td>\n",
       "    </tr>\n",
       "    <tr>\n",
       "      <th>1497</th>\n",
       "      <td>2020-02-15 22:00:00</td>\n",
       "      <td>Zhejiang</td>\n",
       "      <td>China</td>\n",
       "      <td>2020-02-15T11:23:17</td>\n",
       "      <td>1162.0</td>\n",
       "      <td>0.0</td>\n",
       "      <td>428.0</td>\n",
       "      <td>2020-02-15 22:00:00</td>\n",
       "    </tr>\n",
       "    <tr>\n",
       "      <th>1498</th>\n",
       "      <td>2020-02-15 22:00:00</td>\n",
       "      <td>Hunan</td>\n",
       "      <td>China</td>\n",
       "      <td>2020-02-15T13:03:04</td>\n",
       "      <td>1001.0</td>\n",
       "      <td>2.0</td>\n",
       "      <td>425.0</td>\n",
       "      <td>2020-02-15 22:00:00</td>\n",
       "    </tr>\n",
       "  </tbody>\n",
       "</table>\n",
       "</div>"
      ],
      "text/plain": [
       "                    Date Province/State Country          Last Update  \\\n",
       "1494 2020-02-15 22:00:00          Hubei   China  2020-02-15T23:13:05   \n",
       "1495 2020-02-15 22:00:00      Guangdong   China  2020-02-15T14:03:04   \n",
       "1496 2020-02-15 22:00:00          Henan   China  2020-02-15T12:13:08   \n",
       "1497 2020-02-15 22:00:00       Zhejiang   China  2020-02-15T11:23:17   \n",
       "1498 2020-02-15 22:00:00          Hunan   China  2020-02-15T13:03:04   \n",
       "\n",
       "      Confirmed  Deaths  Recovered                      \n",
       "1494    56249.0  1596.0     5623.0 2020-02-15 22:00:00  \n",
       "1495     1294.0     2.0      410.0 2020-02-15 22:00:00  \n",
       "1496     1212.0    13.0      391.0 2020-02-15 22:00:00  \n",
       "1497     1162.0     0.0      428.0 2020-02-15 22:00:00  \n",
       "1498     1001.0     2.0      425.0 2020-02-15 22:00:00  "
      ]
     },
     "execution_count": 24,
     "metadata": {},
     "output_type": "execute_result"
    }
   ],
   "source": [
    "China = data_latest[data_latest['Country']=='China']\n",
    "China.head()"
   ]
  },
  {
   "cell_type": "code",
   "execution_count": 25,
   "metadata": {},
   "outputs": [
    {
     "data": {
      "image/png": "[encoded data removed]",
      "text/plain": [
       "<Figure size 1440x576 with 1 Axes>"
      ]
     },
     "metadata": {
      "needs_background": "light"
     },
     "output_type": "display_data"
    }
   ],
   "source": [
    "f, ax = plt.subplots(figsize=(20, 8))\n",
    "\n",
    "sns.set_color_codes(\"pastel\")\n",
    "sns.barplot(x=\"Confirmed\", y=\"Province/State\", data=China[0:],\n",
    "            label=\"Confirmed\", color=\"r\")\n",
    "\n",
    "sns.set_color_codes(\"muted\")\n",
    "sns.barplot(x=\"Recovered\", y=\"Province/State\", data=China[0:],\n",
    "            label=\"Recovered\", color=\"g\")\n",
    "\n",
    "\n",
    "ax.legend(ncol=2, loc=\"lower right\", frameon=True)\n",
    "ax.set(xlim=(0, 60000), ylabel=\"\",\n",
    "       xlabel=\"Stats\")\n",
    "sns.despine(left=True, bottom=True)"
   ]
  },
  {
   "cell_type": "code",
   "execution_count": 26,
   "metadata": {},
   "outputs": [
    {
     "data": {
      "image/png": "[encoded data removed]",
      "text/plain": [
       "<Figure size 1440x576 with 1 Axes>"
      ]
     },
     "metadata": {
      "needs_background": "light"
     },
     "output_type": "display_data"
    }
   ],
   "source": [
    "f, ax = plt.subplots(figsize=(20, 8))\n",
    "\n",
    "sns.set_color_codes(\"pastel\")\n",
    "sns.barplot(x=\"Confirmed\", y=\"Province/State\", data=China[1:],\n",
    "            label=\"Confirmed\", color=\"r\")\n",
    "\n",
    "sns.set_color_codes(\"muted\")\n",
    "sns.barplot(x=\"Recovered\", y=\"Province/State\", data=China[1:],\n",
    "            label=\"Recovered\", color=\"g\")\n",
    "\n",
    "\n",
    "ax.legend(ncol=2, loc=\"lower right\", frameon=True)\n",
    "ax.set(xlim=(0, 1500), ylabel=\"\",\n",
    "       xlabel=\"Stats\")\n",
    "sns.despine(left=True, bottom=True)"
   ]
  },
  {
   "cell_type": "markdown",
   "metadata": {},
   "source": [
    "## 除了中国之外的/Other than China "
   ]
  },
  {
   "cell_type": "code",
   "execution_count": 27,
   "metadata": {},
   "outputs": [
    {
     "data": {
      "application/vnd.plotly.v1+json": {
       "config": {
        "plotlyServerURL": "https://plot.ly"
       },
       "data": [
        {
         "alignmentgroup": "True",
         "hoverlabel": {
          "namelength": 0
         },
         "hovertemplate": "<b>%{hovertext}</b><br><br>Date=01/22/2020 12:00:00<br>Confirmed=%{marker.color}<br>Country=%{y}",
         "hovertext": [
          "US",
          "Japan",
          "Thailand",
          "South Korea"
         ],
         "legendgroup": "",
         "marker": {
          "color": [
           1,
           2,
           2,
           1
          ],
          "coloraxis": "coloraxis"
         },
         "name": "",
         "offsetgroup": "",
         "orientation": "h",
         "showlegend": false,
         "textposition": "auto",
         "type": "bar",
         "x": [
          1,
          2,
          2,
          1
         ],
         "xaxis": "x",
         "y": [
          "US",
          "Japan",
          "Thailand",
          "South Korea"
         ],
         "yaxis": "y"
        }
       ],
       "frames": [
        {
         "data": [
          {
           "alignmentgroup": "True",
           "hoverlabel": {
            "namelength": 0
           },
           "hovertemplate": "<b>%{hovertext}</b><br><br>Date=01/22/2020 12:00:00<br>Confirmed=%{marker.color}<br>Country=%{y}",
           "hovertext": [
            "US",
            "Japan",
            "Thailand",
            "South Korea"
           ],
           "legendgroup": "",
           "marker": {
            "color": [
             1,
             2,
             2,
             1
            ],
            "coloraxis": "coloraxis"
           },
           "name": "",
           "offsetgroup": "",
           "orientation": "h",
           "showlegend": false,
           "textposition": "auto",
           "type": "bar",
           "x": [
            1,
            2,
            2,
            1
           ],
           "xaxis": "x",
           "y": [
            "US",
            "Japan",
            "Thailand",
            "South Korea"
           ],
           "yaxis": "y"
          }
         ],
         "name": "01/22/2020 12:00:00"
        },
        {
         "data": [
          {
           "alignmentgroup": "True",
           "hoverlabel": {
            "namelength": 0
           },
           "hovertemplate": "<b>%{hovertext}</b><br><br>Date=01/23/2020 12:00:00<br>Confirmed=%{marker.color}<br>Country=%{y}",
           "hovertext": [
            "US",
            "Japan",
            "Thailand",
            "South Korea",
            "Singapore",
            "Philippines",
            "Malaysia",
            "Vietnam",
            "Australia",
            "Mexico",
            "Brazil"
           ],
           "legendgroup": "",
           "marker": {
            "color": [
             1,
             1,
             3,
             1,
             1,
             0,
             0,
             2,
             0,
             0,
             0
            ],
            "coloraxis": "coloraxis"
           },
           "name": "",
           "offsetgroup": "",
           "orientation": "h",
           "showlegend": false,
           "textposition": "auto",
           "type": "bar",
           "x": [
            1,
            1,
            3,
            1,
            1,
            0,
            0,
            2,
            0,
            0,
            0
           ],
           "xaxis": "x",
           "y": [
            "US",
            "Japan",
            "Thailand",
            "South Korea",
            "Singapore",
            "Philippines",
            "Malaysia",
            "Vietnam",
            "Australia",
            "Mexico",
            "Brazil"
           ],
           "yaxis": "y"
          }
         ],
         "name": "01/23/2020 12:00:00"
        },
        {
         "data": [
          {
           "alignmentgroup": "True",
           "hoverlabel": {
            "namelength": 0
           },
           "hovertemplate": "<b>%{hovertext}</b><br><br>Date=01/24/2020 12:00:00<br>Confirmed=%{marker.color}<br>Country=%{y}",
           "hovertext": [
            "US",
            "US",
            "Japan",
            "Thailand",
            "South Korea",
            "Singapore",
            "Vietnam",
            "France"
           ],
           "legendgroup": "",
           "marker": {
            "color": [
             1,
             1,
             2,
             5,
             2,
             3,
             2,
             2
            ],
            "coloraxis": "coloraxis"
           },
           "name": "",
           "offsetgroup": "",
           "orientation": "h",
           "showlegend": false,
           "textposition": "auto",
           "type": "bar",
           "x": [
            1,
            1,
            2,
            5,
            2,
            3,
            2,
            2
           ],
           "xaxis": "x",
           "y": [
            "US",
            "US",
            "Japan",
            "Thailand",
            "South Korea",
            "Singapore",
            "Vietnam",
            "France"
           ],
           "yaxis": "y"
          }
         ],
         "name": "01/24/2020 12:00:00"
        },
        {
         "data": [
          {
           "alignmentgroup": "True",
           "hoverlabel": {
            "namelength": 0
           },
           "hovertemplate": "<b>%{hovertext}</b><br><br>Date=01/25/2020 22:00:00<br>Confirmed=%{marker.color}<br>Country=%{y}",
           "hovertext": [
            "US",
            "US",
            "Japan",
            "Thailand",
            "South Korea",
            "Singapore",
            "Vietnam",
            "France",
            "Australia",
            "Nepal",
            "Malaysia"
           ],
           "legendgroup": "",
           "marker": {
            "color": [
             1,
             1,
             2,
             7,
             3,
             3,
             2,
             3,
             4,
             1,
             3
            ],
            "coloraxis": "coloraxis"
           },
           "name": "",
           "offsetgroup": "",
           "orientation": "h",
           "showlegend": false,
           "textposition": "auto",
           "type": "bar",
           "x": [
            1,
            1,
            2,
            7,
            3,
            3,
            2,
            3,
            4,
            1,
            3
           ],
           "xaxis": "x",
           "y": [
            "US",
            "US",
            "Japan",
            "Thailand",
            "South Korea",
            "Singapore",
            "Vietnam",
            "France",
            "Australia",
            "Nepal",
            "Malaysia"
           ],
           "yaxis": "y"
          }
         ],
         "name": "01/25/2020 22:00:00"
        },
        {
         "data": [
          {
           "alignmentgroup": "True",
           "hoverlabel": {
            "namelength": 0
           },
           "hovertemplate": "<b>%{hovertext}</b><br><br>Date=01/26/2020 23:00:00<br>Confirmed=%{marker.color}<br>Country=%{y}",
           "hovertext": [
            "US",
            "US",
            "US",
            "US",
            "Japan",
            "Thailand",
            "South Korea",
            "Singapore",
            "Vietnam",
            "France",
            "Australia",
            "Nepal",
            "Malaysia",
            "Canada"
           ],
           "legendgroup": "",
           "marker": {
            "color": [
             1,
             1,
             2,
             1,
             4,
             8,
             3,
             4,
             2,
             3,
             4,
             1,
             4,
             1
            ],
            "coloraxis": "coloraxis"
           },
           "name": "",
           "offsetgroup": "",
           "orientation": "h",
           "showlegend": false,
           "textposition": "auto",
           "type": "bar",
           "x": [
            1,
            1,
            2,
            1,
            4,
            8,
            3,
            4,
            2,
            3,
            4,
            1,
            4,
            1
           ],
           "xaxis": "x",
           "y": [
            "US",
            "US",
            "US",
            "US",
            "Japan",
            "Thailand",
            "South Korea",
            "Singapore",
            "Vietnam",
            "France",
            "Australia",
            "Nepal",
            "Malaysia",
            "Canada"
           ],
           "yaxis": "y"
          }
         ],
         "name": "01/26/2020 23:00:00"
        },
        {
         "data": [
          {
           "alignmentgroup": "True",
           "hoverlabel": {
            "namelength": 0
           },
           "hovertemplate": "<b>%{hovertext}</b><br><br>Date=01/27/2020 20:30:00<br>Confirmed=%{marker.color}<br>Country=%{y}",
           "hovertext": [
            "US",
            "US",
            "US",
            "US",
            "Japan",
            "Thailand",
            "South Korea",
            "Singapore",
            "Vietnam",
            "France",
            "Nepal",
            "Malaysia",
            "Canada",
            "Cambodia",
            "Sri Lanka",
            "Ivory Coast",
            "Australia",
            "Australia",
            "Germany"
           ],
           "legendgroup": "",
           "marker": {
            "color": [
             1,
             1,
             2,
             1,
             4,
             8,
             4,
             5,
             2,
             3,
             1,
             4,
             1,
             1,
             1,
             0,
             4,
             1,
             1
            ],
            "coloraxis": "coloraxis"
           },
           "name": "",
           "offsetgroup": "",
           "orientation": "h",
           "showlegend": false,
           "textposition": "auto",
           "type": "bar",
           "x": [
            1,
            1,
            2,
            1,
            4,
            8,
            4,
            5,
            2,
            3,
            1,
            4,
            1,
            1,
            1,
            0,
            4,
            1,
            1
           ],
           "xaxis": "x",
           "y": [
            "US",
            "US",
            "US",
            "US",
            "Japan",
            "Thailand",
            "South Korea",
            "Singapore",
            "Vietnam",
            "France",
            "Nepal",
            "Malaysia",
            "Canada",
            "Cambodia",
            "Sri Lanka",
            "Ivory Coast",
            "Australia",
            "Australia",
            "Germany"
           ],
           "yaxis": "y"
          }
         ],
         "name": "01/27/2020 20:30:00"
        },
        {
         "data": [
          {
           "alignmentgroup": "True",
           "hoverlabel": {
            "namelength": 0
           },
           "hovertemplate": "<b>%{hovertext}</b><br><br>Date=01/28/2020 23:00:00<br>Confirmed=%{marker.color}<br>Country=%{y}",
           "hovertext": [
            "US",
            "US",
            "US",
            "US",
            "Japan",
            "Thailand",
            "South Korea",
            "Singapore",
            "Vietnam",
            "France",
            "Nepal",
            "Malaysia",
            "Canada",
            "Canada",
            "Cambodia",
            "Sri Lanka",
            "Australia",
            "Australia",
            "Germany"
           ],
           "legendgroup": "",
           "marker": {
            "color": [
             1,
             1,
             2,
             1,
             7,
             14,
             4,
             7,
             2,
             4,
             1,
             7,
             1,
             1,
             1,
             1,
             4,
             1,
             4
            ],
            "coloraxis": "coloraxis"
           },
           "name": "",
           "offsetgroup": "",
           "orientation": "h",
           "showlegend": false,
           "textposition": "auto",
           "type": "bar",
           "x": [
            1,
            1,
            2,
            1,
            7,
            14,
            4,
            7,
            2,
            4,
            1,
            7,
            1,
            1,
            1,
            1,
            4,
            1,
            4
           ],
           "xaxis": "x",
           "y": [
            "US",
            "US",
            "US",
            "US",
            "Japan",
            "Thailand",
            "South Korea",
            "Singapore",
            "Vietnam",
            "France",
            "Nepal",
            "Malaysia",
            "Canada",
            "Canada",
            "Cambodia",
            "Sri Lanka",
            "Australia",
            "Australia",
            "Germany"
           ],
           "yaxis": "y"
          }
         ],
         "name": "01/28/2020 23:00:00"
        },
        {
         "data": [
          {
           "alignmentgroup": "True",
           "hoverlabel": {
            "namelength": 0
           },
           "hovertemplate": "<b>%{hovertext}</b><br><br>Date=01/29/2020 21:00:00<br>Confirmed=%{marker.color}<br>Country=%{y}",
           "hovertext": [
            "US",
            "US",
            "US",
            "US",
            "Japan",
            "Thailand",
            "South Korea",
            "Singapore",
            "Vietnam",
            "France",
            "Nepal",
            "Malaysia",
            "Canada",
            "Canada",
            "Cambodia",
            "Sri Lanka",
            "Australia",
            "Australia",
            "Australia",
            "Germany",
            "Finland",
            "United Arab Emirates"
           ],
           "legendgroup": "",
           "marker": {
            "color": [
             1,
             1,
             2,
             1,
             11,
             14,
             4,
             10,
             2,
             5,
             1,
             7,
             2,
             1,
             1,
             1,
             4,
             2,
             1,
             4,
             1,
             4
            ],
            "coloraxis": "coloraxis"
           },
           "name": "",
           "offsetgroup": "",
           "orientation": "h",
           "showlegend": false,
           "textposition": "auto",
           "type": "bar",
           "x": [
            1,
            1,
            2,
            1,
            11,
            14,
            4,
            10,
            2,
            5,
            1,
            7,
            2,
            1,
            1,
            1,
            4,
            2,
            1,
            4,
            1,
            4
           ],
           "xaxis": "x",
           "y": [
            "US",
            "US",
            "US",
            "US",
            "Japan",
            "Thailand",
            "South Korea",
            "Singapore",
            "Vietnam",
            "France",
            "Nepal",
            "Malaysia",
            "Canada",
            "Canada",
            "Cambodia",
            "Sri Lanka",
            "Australia",
            "Australia",
            "Australia",
            "Germany",
            "Finland",
            "United Arab Emirates"
           ],
           "yaxis": "y"
          }
         ],
         "name": "01/29/2020 21:00:00"
        },
        {
         "data": [
          {
           "alignmentgroup": "True",
           "hoverlabel": {
            "namelength": 0
           },
           "hovertemplate": "<b>%{hovertext}</b><br><br>Date=01/30/2020 21:30:00<br>Confirmed=%{marker.color}<br>Country=%{y}",
           "hovertext": [
            "US",
            "US",
            "US",
            "US",
            "Japan",
            "Thailand",
            "South Korea",
            "Singapore",
            "Vietnam",
            "France",
            "Nepal",
            "Malaysia",
            "Canada",
            "Canada",
            "Cambodia",
            "Sri Lanka",
            "Australia",
            "Australia",
            "Australia",
            "Germany",
            "Finland",
            "United Arab Emirates",
            "Philippines",
            "India",
            "Italy"
           ],
           "legendgroup": "",
           "marker": {
            "color": [
             1,
             2,
             2,
             1,
             11,
             14,
             6,
             10,
             2,
             5,
             1,
             8,
             2,
             1,
             1,
             1,
             4,
             2,
             3,
             4,
             1,
             4,
             1,
             1,
             2
            ],
            "coloraxis": "coloraxis"
           },
           "name": "",
           "offsetgroup": "",
           "orientation": "h",
           "showlegend": false,
           "textposition": "auto",
           "type": "bar",
           "x": [
            1,
            2,
            2,
            1,
            11,
            14,
            6,
            10,
            2,
            5,
            1,
            8,
            2,
            1,
            1,
            1,
            4,
            2,
            3,
            4,
            1,
            4,
            1,
            1,
            2
           ],
           "xaxis": "x",
           "y": [
            "US",
            "US",
            "US",
            "US",
            "Japan",
            "Thailand",
            "South Korea",
            "Singapore",
            "Vietnam",
            "France",
            "Nepal",
            "Malaysia",
            "Canada",
            "Canada",
            "Cambodia",
            "Sri Lanka",
            "Australia",
            "Australia",
            "Australia",
            "Germany",
            "Finland",
            "United Arab Emirates",
            "Philippines",
            "India",
            "Italy"
           ],
           "yaxis": "y"
          }
         ],
         "name": "01/30/2020 21:30:00"
        },
        {
         "data": [
          {
           "alignmentgroup": "True",
           "hoverlabel": {
            "namelength": 0
           },
           "hovertemplate": "<b>%{hovertext}</b><br><br>Date=01/31/2020 19:00:00<br>Confirmed=%{marker.color}<br>Country=%{y}",
           "hovertext": [
            "US",
            "US",
            "US",
            "US",
            "Japan",
            "Thailand",
            "South Korea",
            "Singapore",
            "Vietnam",
            "France",
            "Nepal",
            "Malaysia",
            "Canada",
            "Canada",
            "Cambodia",
            "Sri Lanka",
            "Australia",
            "Australia",
            "Australia",
            "Germany",
            "Finland",
            "United Arab Emirates",
            "Philippines",
            "India",
            "Italy",
            "Sweden",
            "Russia",
            "Spain",
            "UK"
           ],
           "legendgroup": "",
           "marker": {
            "color": [
             1,
             2,
             3,
             1,
             17,
             19,
             11,
             16,
             2,
             6,
             1,
             8,
             2,
             1,
             1,
             1,
             4,
             2,
             3,
             7,
             1,
             4,
             1,
             1,
             2,
             1,
             2,
             1,
             2
            ],
            "coloraxis": "coloraxis"
           },
           "name": "",
           "offsetgroup": "",
           "orientation": "h",
           "showlegend": false,
           "textposition": "auto",
           "type": "bar",
           "x": [
            1,
            2,
            3,
            1,
            17,
            19,
            11,
            16,
            2,
            6,
            1,
            8,
            2,
            1,
            1,
            1,
            4,
            2,
            3,
            7,
            1,
            4,
            1,
            1,
            2,
            1,
            2,
            1,
            2
           ],
           "xaxis": "x",
           "y": [
            "US",
            "US",
            "US",
            "US",
            "Japan",
            "Thailand",
            "South Korea",
            "Singapore",
            "Vietnam",
            "France",
            "Nepal",
            "Malaysia",
            "Canada",
            "Canada",
            "Cambodia",
            "Sri Lanka",
            "Australia",
            "Australia",
            "Australia",
            "Germany",
            "Finland",
            "United Arab Emirates",
            "Philippines",
            "India",
            "Italy",
            "Sweden",
            "Russia",
            "Spain",
            "UK"
           ],
           "yaxis": "y"
          }
         ],
         "name": "01/31/2020 19:00:00"
        },
        {
         "data": [
          {
           "alignmentgroup": "True",
           "hoverlabel": {
            "namelength": 0
           },
           "hovertemplate": "<b>%{hovertext}</b><br><br>Date=02/01/2020 23:00:00<br>Confirmed=%{marker.color}<br>Country=%{y}",
           "hovertext": [
            "Japan",
            "Thailand",
            "Singapore",
            "South Korea",
            "Germany",
            "Malaysia",
            "France",
            "Vietnam",
            "Australia",
            "Australia",
            "United Arab Emirates",
            "Australia",
            "Canada",
            "Italy",
            "Philippines",
            "Russia",
            "UK",
            "US",
            "Australia",
            "Cambodia",
            "Canada",
            "Finland",
            "India",
            "Nepal",
            "Spain",
            "Sri Lanka",
            "Sweden",
            "US",
            "US",
            "US",
            "US",
            "US",
            "US"
           ],
           "legendgroup": "",
           "marker": {
            "color": [
             20,
             19,
             18,
             15,
             8,
             8,
             6,
             6,
             4,
             4,
             4,
             2,
             3,
             2,
             2,
             2,
             2,
             2,
             2,
             1,
             1,
             1,
             1,
             1,
             1,
             1,
             1,
             1,
             1,
             1,
             1,
             1,
             1
            ],
            "coloraxis": "coloraxis"
           },
           "name": "",
           "offsetgroup": "",
           "orientation": "h",
           "showlegend": false,
           "textposition": "auto",
           "type": "bar",
           "x": [
            20,
            19,
            18,
            15,
            8,
            8,
            6,
            6,
            4,
            4,
            4,
            2,
            3,
            2,
            2,
            2,
            2,
            2,
            2,
            1,
            1,
            1,
            1,
            1,
            1,
            1,
            1,
            1,
            1,
            1,
            1,
            1,
            1
           ],
           "xaxis": "x",
           "y": [
            "Japan",
            "Thailand",
            "Singapore",
            "South Korea",
            "Germany",
            "Malaysia",
            "France",
            "Vietnam",
            "Australia",
            "Australia",
            "United Arab Emirates",
            "Australia",
            "Canada",
            "Italy",
            "Philippines",
            "Russia",
            "UK",
            "US",
            "Australia",
            "Cambodia",
            "Canada",
            "Finland",
            "India",
            "Nepal",
            "Spain",
            "Sri Lanka",
            "Sweden",
            "US",
            "US",
            "US",
            "US",
            "US",
            "US"
           ],
           "yaxis": "y"
          }
         ],
         "name": "02/01/2020 23:00:00"
        },
        {
         "data": [
          {
           "alignmentgroup": "True",
           "hoverlabel": {
            "namelength": 0
           },
           "hovertemplate": "<b>%{hovertext}</b><br><br>Date=02/02/2020 21:00:00<br>Confirmed=%{marker.color}<br>Country=%{y}",
           "hovertext": [
            "Japan",
            "Thailand",
            "Singapore",
            "South Korea",
            "Germany",
            "Malaysia",
            "France",
            "Vietnam",
            "United Arab Emirates",
            "Australia",
            "Australia",
            "Canada",
            "Australia",
            "Australia",
            "India",
            "Italy",
            "Philippines",
            "Russia",
            "UK",
            "US",
            "US",
            "Cambodia",
            "Canada",
            "Finland",
            "Nepal",
            "Spain",
            "Sri Lanka",
            "Sweden",
            "US",
            "US",
            "US",
            "US",
            "US"
           ],
           "legendgroup": "",
           "marker": {
            "color": [
             20,
             19,
             18,
             15,
             10,
             8,
             6,
             6,
             5,
             4,
             4,
             3,
             2,
             2,
             2,
             2,
             2,
             2,
             2,
             2,
             2,
             1,
             1,
             1,
             1,
             1,
             1,
             1,
             1,
             1,
             1,
             1,
             1
            ],
            "coloraxis": "coloraxis"
           },
           "name": "",
           "offsetgroup": "",
           "orientation": "h",
           "showlegend": false,
           "textposition": "auto",
           "type": "bar",
           "x": [
            20,
            19,
            18,
            15,
            10,
            8,
            6,
            6,
            5,
            4,
            4,
            3,
            2,
            2,
            2,
            2,
            2,
            2,
            2,
            2,
            2,
            1,
            1,
            1,
            1,
            1,
            1,
            1,
            1,
            1,
            1,
            1,
            1
           ],
           "xaxis": "x",
           "y": [
            "Japan",
            "Thailand",
            "Singapore",
            "South Korea",
            "Germany",
            "Malaysia",
            "France",
            "Vietnam",
            "United Arab Emirates",
            "Australia",
            "Australia",
            "Canada",
            "Australia",
            "Australia",
            "India",
            "Italy",
            "Philippines",
            "Russia",
            "UK",
            "US",
            "US",
            "Cambodia",
            "Canada",
            "Finland",
            "Nepal",
            "Spain",
            "Sri Lanka",
            "Sweden",
            "US",
            "US",
            "US",
            "US",
            "US"
           ],
           "yaxis": "y"
          }
         ],
         "name": "02/02/2020 21:00:00"
        },
        {
         "data": [
          {
           "alignmentgroup": "True",
           "hoverlabel": {
            "namelength": 0
           },
           "hovertemplate": "<b>%{hovertext}</b><br><br>Date=02/03/2020 21:40:00<br>Confirmed=%{marker.color}<br>Country=%{y}",
           "hovertext": [
            "Japan",
            "Thailand",
            "Singapore",
            "South Korea",
            "Germany",
            "Malaysia",
            "Vietnam",
            "France",
            "United Arab Emirates",
            "Australia",
            "Australia",
            "India",
            "Australia",
            "Australia",
            "Canada",
            "Italy",
            "Philippines",
            "Russia",
            "UK",
            "US",
            "US",
            "US",
            "Cambodia",
            "Canada",
            "Canada",
            "Finland",
            "Nepal",
            "Spain",
            "Sri Lanka",
            "Sweden",
            "US",
            "US",
            "US",
            "US",
            "US"
           ],
           "legendgroup": "",
           "marker": {
            "color": [
             20,
             19,
             18,
             15,
             12,
             8,
             8,
             6,
             5,
             4,
             4,
             3,
             2,
             2,
             2,
             2,
             2,
             2,
             2,
             2,
             2,
             2,
             1,
             1,
             1,
             1,
             1,
             1,
             1,
             1,
             1,
             1,
             1,
             1,
             1
            ],
            "coloraxis": "coloraxis"
           },
           "name": "",
           "offsetgroup": "",
           "orientation": "h",
           "showlegend": false,
           "textposition": "auto",
           "type": "bar",
           "x": [
            20,
            19,
            18,
            15,
            12,
            8,
            8,
            6,
            5,
            4,
            4,
            3,
            2,
            2,
            2,
            2,
            2,
            2,
            2,
            2,
            2,
            2,
            1,
            1,
            1,
            1,
            1,
            1,
            1,
            1,
            1,
            1,
            1,
            1,
            1
           ],
           "xaxis": "x",
           "y": [
            "Japan",
            "Thailand",
            "Singapore",
            "South Korea",
            "Germany",
            "Malaysia",
            "Vietnam",
            "France",
            "United Arab Emirates",
            "Australia",
            "Australia",
            "India",
            "Australia",
            "Australia",
            "Canada",
            "Italy",
            "Philippines",
            "Russia",
            "UK",
            "US",
            "US",
            "US",
            "Cambodia",
            "Canada",
            "Canada",
            "Finland",
            "Nepal",
            "Spain",
            "Sri Lanka",
            "Sweden",
            "US",
            "US",
            "US",
            "US",
            "US"
           ],
           "yaxis": "y"
          }
         ],
         "name": "02/03/2020 21:40:00"
        },
        {
         "data": [
          {
           "alignmentgroup": "True",
           "hoverlabel": {
            "namelength": 0
           },
           "hovertemplate": "<b>%{hovertext}</b><br><br>Date=02/04/2020 22:00:00<br>Confirmed=%{marker.color}<br>Country=%{y}",
           "hovertext": [
            "Thailand",
            "Singapore",
            "Japan",
            "South Korea",
            "Germany",
            "Malaysia",
            "Vietnam",
            "France",
            "United Arab Emirates",
            "Australia",
            "Australia",
            "Australia",
            "India",
            "Australia",
            "Canada",
            "Italy",
            "Philippines",
            "Russia",
            "UK",
            "US",
            "US",
            "US",
            "Belgium",
            "Cambodia",
            "Canada",
            "Canada",
            "Finland",
            "Nepal",
            "Spain",
            "Sri Lanka",
            "Sweden",
            "US",
            "US",
            "US",
            "US",
            "US"
           ],
           "legendgroup": "",
           "marker": {
            "color": [
             25,
             24,
             22,
             16,
             12,
             10,
             8,
             6,
             5,
             4,
             4,
             3,
             3,
             2,
             2,
             2,
             2,
             2,
             2,
             2,
             2,
             2,
             1,
             1,
             1,
             1,
             1,
             1,
             1,
             1,
             1,
             1,
             1,
             1,
             1,
             1
            ],
            "coloraxis": "coloraxis"
           },
           "name": "",
           "offsetgroup": "",
           "orientation": "h",
           "showlegend": false,
           "textposition": "auto",
           "type": "bar",
           "x": [
            25,
            24,
            22,
            16,
            12,
            10,
            8,
            6,
            5,
            4,
            4,
            3,
            3,
            2,
            2,
            2,
            2,
            2,
            2,
            2,
            2,
            2,
            1,
            1,
            1,
            1,
            1,
            1,
            1,
            1,
            1,
            1,
            1,
            1,
            1,
            1
           ],
           "xaxis": "x",
           "y": [
            "Thailand",
            "Singapore",
            "Japan",
            "South Korea",
            "Germany",
            "Malaysia",
            "Vietnam",
            "France",
            "United Arab Emirates",
            "Australia",
            "Australia",
            "Australia",
            "India",
            "Australia",
            "Canada",
            "Italy",
            "Philippines",
            "Russia",
            "UK",
            "US",
            "US",
            "US",
            "Belgium",
            "Cambodia",
            "Canada",
            "Canada",
            "Finland",
            "Nepal",
            "Spain",
            "Sri Lanka",
            "Sweden",
            "US",
            "US",
            "US",
            "US",
            "US"
           ],
           "yaxis": "y"
          }
         ],
         "name": "02/04/2020 22:00:00"
        },
        {
         "data": [
          {
           "alignmentgroup": "True",
           "hoverlabel": {
            "namelength": 0
           },
           "hovertemplate": "<b>%{hovertext}</b><br><br>Date=02/05/2020 12:20:00<br>Confirmed=%{marker.color}<br>Country=%{y}",
           "hovertext": [
            "Singapore",
            "Thailand",
            "Japan",
            "South Korea",
            "Germany",
            "Malaysia",
            "Vietnam",
            "France",
            "United Arab Emirates",
            "Australia",
            "Australia",
            "Australia",
            "India",
            "Australia",
            "Canada",
            "Italy",
            "Philippines",
            "Russia",
            "UK",
            "US",
            "US",
            "US",
            "Belgium",
            "Cambodia",
            "Canada",
            "Canada",
            "Finland",
            "Nepal",
            "Spain",
            "Sri Lanka",
            "Sweden",
            "US",
            "US",
            "US",
            "US",
            "US"
           ],
           "legendgroup": "",
           "marker": {
            "color": [
             28,
             25,
             22,
             19,
             12,
             12,
             8,
             6,
             5,
             4,
             4,
             3,
             3,
             2,
             2,
             2,
             2,
             2,
             2,
             2,
             2,
             2,
             1,
             1,
             1,
             1,
             1,
             1,
             1,
             1,
             1,
             1,
             1,
             1,
             1,
             1
            ],
            "coloraxis": "coloraxis"
           },
           "name": "",
           "offsetgroup": "",
           "orientation": "h",
           "showlegend": false,
           "textposition": "auto",
           "type": "bar",
           "x": [
            28,
            25,
            22,
            19,
            12,
            12,
            8,
            6,
            5,
            4,
            4,
            3,
            3,
            2,
            2,
            2,
            2,
            2,
            2,
            2,
            2,
            2,
            1,
            1,
            1,
            1,
            1,
            1,
            1,
            1,
            1,
            1,
            1,
            1,
            1,
            1
           ],
           "xaxis": "x",
           "y": [
            "Singapore",
            "Thailand",
            "Japan",
            "South Korea",
            "Germany",
            "Malaysia",
            "Vietnam",
            "France",
            "United Arab Emirates",
            "Australia",
            "Australia",
            "Australia",
            "India",
            "Australia",
            "Canada",
            "Italy",
            "Philippines",
            "Russia",
            "UK",
            "US",
            "US",
            "US",
            "Belgium",
            "Cambodia",
            "Canada",
            "Canada",
            "Finland",
            "Nepal",
            "Spain",
            "Sri Lanka",
            "Sweden",
            "US",
            "US",
            "US",
            "US",
            "US"
           ],
           "yaxis": "y"
          }
         ],
         "name": "02/05/2020 12:20:00"
        },
        {
         "data": [
          {
           "alignmentgroup": "True",
           "hoverlabel": {
            "namelength": 0
           },
           "hovertemplate": "<b>%{hovertext}</b><br><br>Date=02/06/2020 20:05:00<br>Confirmed=%{marker.color}<br>Country=%{y}",
           "hovertext": [
            "Japan",
            "Singapore",
            "Thailand",
            "South Korea",
            "Germany",
            "Malaysia",
            "Vietnam",
            "France",
            "United Arab Emirates",
            "Australia",
            "Australia",
            "Australia",
            "India",
            "Australia",
            "Canada",
            "Canada",
            "Italy",
            "Philippines",
            "Russia",
            "UK",
            "US",
            "US",
            "US",
            "Belgium",
            "Cambodia",
            "Canada",
            "Finland",
            "Nepal",
            "Spain",
            "Sri Lanka",
            "Sweden",
            "US",
            "US",
            "US",
            "US",
            "US",
            "US"
           ],
           "legendgroup": "",
           "marker": {
            "color": [
             45,
             28,
             25,
             23,
             12,
             12,
             10,
             6,
             5,
             4,
             4,
             4,
             3,
             2,
             2,
             2,
             2,
             2,
             2,
             2,
             2,
             2,
             2,
             1,
             1,
             1,
             1,
             1,
             1,
             1,
             1,
             1,
             1,
             1,
             1,
             1,
             1
            ],
            "coloraxis": "coloraxis"
           },
           "name": "",
           "offsetgroup": "",
           "orientation": "h",
           "showlegend": false,
           "textposition": "auto",
           "type": "bar",
           "x": [
            45,
            28,
            25,
            23,
            12,
            12,
            10,
            6,
            5,
            4,
            4,
            4,
            3,
            2,
            2,
            2,
            2,
            2,
            2,
            2,
            2,
            2,
            2,
            1,
            1,
            1,
            1,
            1,
            1,
            1,
            1,
            1,
            1,
            1,
            1,
            1,
            1
           ],
           "xaxis": "x",
           "y": [
            "Japan",
            "Singapore",
            "Thailand",
            "South Korea",
            "Germany",
            "Malaysia",
            "Vietnam",
            "France",
            "United Arab Emirates",
            "Australia",
            "Australia",
            "Australia",
            "India",
            "Australia",
            "Canada",
            "Canada",
            "Italy",
            "Philippines",
            "Russia",
            "UK",
            "US",
            "US",
            "US",
            "Belgium",
            "Cambodia",
            "Canada",
            "Finland",
            "Nepal",
            "Spain",
            "Sri Lanka",
            "Sweden",
            "US",
            "US",
            "US",
            "US",
            "US",
            "US"
           ],
           "yaxis": "y"
          }
         ],
         "name": "02/06/2020 20:05:00"
        },
        {
         "data": [
          {
           "alignmentgroup": "True",
           "hoverlabel": {
            "namelength": 0
           },
           "hovertemplate": "<b>%{hovertext}</b><br><br>Date=02/07/2020 20:24:00<br>Confirmed=%{marker.color}<br>Country=%{y}",
           "hovertext": [
            "Singapore",
            "Japan",
            "Thailand",
            "South Korea",
            "Germany",
            "Malaysia",
            "Vietnam",
            "France",
            "Australia",
            "United Arab Emirates",
            "Australia",
            "Australia",
            "Canada",
            "India",
            "Italy",
            "Philippines",
            "UK",
            "Australia",
            "Canada",
            "Russia",
            "US",
            "US",
            "US",
            "Belgium",
            "Cambodia",
            "Canada",
            "Finland",
            "Nepal",
            "Spain",
            "Sri Lanka",
            "Sweden",
            "US",
            "US",
            "US",
            "US",
            "US",
            "US"
           ],
           "legendgroup": "",
           "marker": {
            "color": [
             30,
             25,
             25,
             24,
             13,
             12,
             10,
             6,
             5,
             5,
             4,
             4,
             4,
             3,
             3,
             3,
             3,
             2,
             2,
             2,
             2,
             2,
             2,
             1,
             1,
             1,
             1,
             1,
             1,
             1,
             1,
             1,
             1,
             1,
             1,
             1,
             1
            ],
            "coloraxis": "coloraxis"
           },
           "name": "",
           "offsetgroup": "",
           "orientation": "h",
           "showlegend": false,
           "textposition": "auto",
           "type": "bar",
           "x": [
            30,
            25,
            25,
            24,
            13,
            12,
            10,
            6,
            5,
            5,
            4,
            4,
            4,
            3,
            3,
            3,
            3,
            2,
            2,
            2,
            2,
            2,
            2,
            1,
            1,
            1,
            1,
            1,
            1,
            1,
            1,
            1,
            1,
            1,
            1,
            1,
            1
           ],
           "xaxis": "x",
           "y": [
            "Singapore",
            "Japan",
            "Thailand",
            "South Korea",
            "Germany",
            "Malaysia",
            "Vietnam",
            "France",
            "Australia",
            "United Arab Emirates",
            "Australia",
            "Australia",
            "Canada",
            "India",
            "Italy",
            "Philippines",
            "UK",
            "Australia",
            "Canada",
            "Russia",
            "US",
            "US",
            "US",
            "Belgium",
            "Cambodia",
            "Canada",
            "Finland",
            "Nepal",
            "Spain",
            "Sri Lanka",
            "Sweden",
            "US",
            "US",
            "US",
            "US",
            "US",
            "US"
           ],
           "yaxis": "y"
          }
         ],
         "name": "02/07/2020 20:24:00"
        },
        {
         "data": [
          {
           "alignmentgroup": "True",
           "hoverlabel": {
            "namelength": 0
           },
           "hovertemplate": "<b>%{hovertext}</b><br><br>Date=02/08/2020 23:04:00<br>Confirmed=%{marker.color}<br>Country=%{y}",
           "hovertext": [
            "Singapore",
            "Thailand",
            "Japan",
            "South Korea",
            "Malaysia",
            "Germany",
            "Vietnam",
            "France",
            "United Arab Emirates",
            "Australia",
            "Australia",
            "Australia",
            "Canada",
            "India",
            "Italy",
            "Philippines",
            "UK",
            "Australia",
            "Canada",
            "Russia",
            "US",
            "US",
            "US",
            "Belgium",
            "Cambodia",
            "Canada",
            "Finland",
            "Nepal",
            "Spain",
            "Sri Lanka",
            "Sweden",
            "US",
            "US",
            "US",
            "US",
            "US",
            "US"
           ],
           "legendgroup": "",
           "marker": {
            "color": [
             40,
             32,
             25,
             25,
             16,
             13,
             13,
             11,
             7,
             5,
             4,
             4,
             4,
             3,
             3,
             3,
             3,
             2,
             2,
             2,
             2,
             2,
             2,
             1,
             1,
             1,
             1,
             1,
             1,
             1,
             1,
             1,
             1,
             1,
             1,
             1,
             1
            ],
            "coloraxis": "coloraxis"
           },
           "name": "",
           "offsetgroup": "",
           "orientation": "h",
           "showlegend": false,
           "textposition": "auto",
           "type": "bar",
           "x": [
            40,
            32,
            25,
            25,
            16,
            13,
            13,
            11,
            7,
            5,
            4,
            4,
            4,
            3,
            3,
            3,
            3,
            2,
            2,
            2,
            2,
            2,
            2,
            1,
            1,
            1,
            1,
            1,
            1,
            1,
            1,
            1,
            1,
            1,
            1,
            1,
            1
           ],
           "xaxis": "x",
           "y": [
            "Singapore",
            "Thailand",
            "Japan",
            "South Korea",
            "Malaysia",
            "Germany",
            "Vietnam",
            "France",
            "United Arab Emirates",
            "Australia",
            "Australia",
            "Australia",
            "Canada",
            "India",
            "Italy",
            "Philippines",
            "UK",
            "Australia",
            "Canada",
            "Russia",
            "US",
            "US",
            "US",
            "Belgium",
            "Cambodia",
            "Canada",
            "Finland",
            "Nepal",
            "Spain",
            "Sri Lanka",
            "Sweden",
            "US",
            "US",
            "US",
            "US",
            "US",
            "US"
           ],
           "yaxis": "y"
          }
         ],
         "name": "02/08/2020 23:04:00"
        },
        {
         "data": [
          {
           "alignmentgroup": "True",
           "hoverlabel": {
            "namelength": 0
           },
           "hovertemplate": "<b>%{hovertext}</b><br><br>Date=02/09/2020 23:20:00<br>Confirmed=%{marker.color}<br>Country=%{y}",
           "hovertext": [
            "Singapore",
            "Thailand",
            "South Korea",
            "Japan",
            "Malaysia",
            "Germany",
            "Vietnam",
            "France",
            "United Arab Emirates",
            "Australia",
            "Australia",
            "Australia",
            "Canada",
            "India",
            "Italy",
            "Philippines",
            "UK",
            "Australia",
            "Canada",
            "Russia",
            "Spain",
            "US",
            "US",
            "US",
            "Belgium",
            "Cambodia",
            "Canada",
            "Finland",
            "Nepal",
            "Sri Lanka",
            "Sweden",
            "US",
            "US",
            "US",
            "US",
            "US",
            "US"
           ],
           "legendgroup": "",
           "marker": {
            "color": [
             43,
             32,
             27,
             26,
             18,
             14,
             14,
             11,
             7,
             5,
             4,
             4,
             4,
             3,
             3,
             3,
             3,
             2,
             2,
             2,
             2,
             2,
             2,
             2,
             1,
             1,
             1,
             1,
             1,
             1,
             1,
             1,
             1,
             1,
             1,
             1,
             1
            ],
            "coloraxis": "coloraxis"
           },
           "name": "",
           "offsetgroup": "",
           "orientation": "h",
           "showlegend": false,
           "textposition": "auto",
           "type": "bar",
           "x": [
            43,
            32,
            27,
            26,
            18,
            14,
            14,
            11,
            7,
            5,
            4,
            4,
            4,
            3,
            3,
            3,
            3,
            2,
            2,
            2,
            2,
            2,
            2,
            2,
            1,
            1,
            1,
            1,
            1,
            1,
            1,
            1,
            1,
            1,
            1,
            1,
            1
           ],
           "xaxis": "x",
           "y": [
            "Singapore",
            "Thailand",
            "South Korea",
            "Japan",
            "Malaysia",
            "Germany",
            "Vietnam",
            "France",
            "United Arab Emirates",
            "Australia",
            "Australia",
            "Australia",
            "Canada",
            "India",
            "Italy",
            "Philippines",
            "UK",
            "Australia",
            "Canada",
            "Russia",
            "Spain",
            "US",
            "US",
            "US",
            "Belgium",
            "Cambodia",
            "Canada",
            "Finland",
            "Nepal",
            "Sri Lanka",
            "Sweden",
            "US",
            "US",
            "US",
            "US",
            "US",
            "US"
           ],
           "yaxis": "y"
          }
         ],
         "name": "02/09/2020 23:20:00"
        },
        {
         "data": [
          {
           "alignmentgroup": "True",
           "hoverlabel": {
            "namelength": 0
           },
           "hovertemplate": "<b>%{hovertext}</b><br><br>Date=02/10/2020 19:30:00<br>Confirmed=%{marker.color}<br>Country=%{y}",
           "hovertext": [
            "Singapore",
            "Thailand",
            "South Korea",
            "Japan",
            "Malaysia",
            "Germany",
            "Vietnam",
            "France",
            "UK",
            "United Arab Emirates",
            "Australia",
            "Australia",
            "Australia",
            "Canada",
            "India",
            "Italy",
            "Philippines",
            "Australia",
            "Canada",
            "Russia",
            "Spain",
            "US",
            "US",
            "US",
            "Belgium",
            "Cambodia",
            "Canada",
            "Finland",
            "Nepal",
            "Sri Lanka",
            "Sweden",
            "US",
            "US",
            "US",
            "US",
            "US",
            "US"
           ],
           "legendgroup": "",
           "marker": {
            "color": [
             45,
             32,
             27,
             26,
             18,
             14,
             14,
             11,
             8,
             8,
             5,
             4,
             4,
             4,
             3,
             3,
             3,
             2,
             2,
             2,
             2,
             2,
             2,
             2,
             1,
             1,
             1,
             1,
             1,
             1,
             1,
             1,
             1,
             1,
             1,
             1,
             1
            ],
            "coloraxis": "coloraxis"
           },
           "name": "",
           "offsetgroup": "",
           "orientation": "h",
           "showlegend": false,
           "textposition": "auto",
           "type": "bar",
           "x": [
            45,
            32,
            27,
            26,
            18,
            14,
            14,
            11,
            8,
            8,
            5,
            4,
            4,
            4,
            3,
            3,
            3,
            2,
            2,
            2,
            2,
            2,
            2,
            2,
            1,
            1,
            1,
            1,
            1,
            1,
            1,
            1,
            1,
            1,
            1,
            1,
            1
           ],
           "xaxis": "x",
           "y": [
            "Singapore",
            "Thailand",
            "South Korea",
            "Japan",
            "Malaysia",
            "Germany",
            "Vietnam",
            "France",
            "UK",
            "United Arab Emirates",
            "Australia",
            "Australia",
            "Australia",
            "Canada",
            "India",
            "Italy",
            "Philippines",
            "Australia",
            "Canada",
            "Russia",
            "Spain",
            "US",
            "US",
            "US",
            "Belgium",
            "Cambodia",
            "Canada",
            "Finland",
            "Nepal",
            "Sri Lanka",
            "Sweden",
            "US",
            "US",
            "US",
            "US",
            "US",
            "US"
           ],
           "yaxis": "y"
          }
         ],
         "name": "02/10/2020 19:30:00"
        },
        {
         "data": [
          {
           "alignmentgroup": "True",
           "hoverlabel": {
            "namelength": 0
           },
           "hovertemplate": "<b>%{hovertext}</b><br><br>Date=02/11/2020 20:44:00<br>Confirmed=%{marker.color}<br>Country=%{y}",
           "hovertext": [
            "Singapore",
            "Thailand",
            "South Korea",
            "Japan",
            "Malaysia",
            "Germany",
            "Vietnam",
            "France",
            "UK",
            "United Arab Emirates",
            "Australia",
            "Australia",
            "Australia",
            "Canada",
            "India",
            "Italy",
            "Philippines",
            "Australia",
            "Canada",
            "Russia",
            "Spain",
            "US",
            "US",
            "US",
            "Belgium",
            "Cambodia",
            "Canada",
            "Finland",
            "Nepal",
            "Sri Lanka",
            "Sweden",
            "US",
            "US",
            "US",
            "US",
            "US",
            "US",
            "US"
           ],
           "legendgroup": "",
           "marker": {
            "color": [
             47,
             33,
             28,
             26,
             18,
             16,
             15,
             11,
             8,
             8,
             5,
             4,
             4,
             4,
             3,
             3,
             3,
             2,
             2,
             2,
             2,
             2,
             2,
             2,
             1,
             1,
             1,
             1,
             1,
             1,
             1,
             1,
             1,
             1,
             1,
             1,
             1,
             1
            ],
            "coloraxis": "coloraxis"
           },
           "name": "",
           "offsetgroup": "",
           "orientation": "h",
           "showlegend": false,
           "textposition": "auto",
           "type": "bar",
           "x": [
            47,
            33,
            28,
            26,
            18,
            16,
            15,
            11,
            8,
            8,
            5,
            4,
            4,
            4,
            3,
            3,
            3,
            2,
            2,
            2,
            2,
            2,
            2,
            2,
            1,
            1,
            1,
            1,
            1,
            1,
            1,
            1,
            1,
            1,
            1,
            1,
            1,
            1
           ],
           "xaxis": "x",
           "y": [
            "Singapore",
            "Thailand",
            "South Korea",
            "Japan",
            "Malaysia",
            "Germany",
            "Vietnam",
            "France",
            "UK",
            "United Arab Emirates",
            "Australia",
            "Australia",
            "Australia",
            "Canada",
            "India",
            "Italy",
            "Philippines",
            "Australia",
            "Canada",
            "Russia",
            "Spain",
            "US",
            "US",
            "US",
            "Belgium",
            "Cambodia",
            "Canada",
            "Finland",
            "Nepal",
            "Sri Lanka",
            "Sweden",
            "US",
            "US",
            "US",
            "US",
            "US",
            "US",
            "US"
           ],
           "yaxis": "y"
          }
         ],
         "name": "02/11/2020 20:44:00"
        },
        {
         "data": [
          {
           "alignmentgroup": "True",
           "hoverlabel": {
            "namelength": 0
           },
           "hovertemplate": "<b>%{hovertext}</b><br><br>Date=02/12/2020 22:00:00<br>Confirmed=%{marker.color}<br>Country=%{y}",
           "hovertext": [
            "Singapore",
            "Thailand",
            "Japan",
            "South Korea",
            "Malaysia",
            "Germany",
            "Vietnam",
            "France",
            "UK",
            "United Arab Emirates",
            "Australia",
            "Australia",
            "Australia",
            "Canada",
            "India",
            "Italy",
            "Philippines",
            "Australia",
            "Canada",
            "Russia",
            "Spain",
            "US",
            "US",
            "US",
            "Belgium",
            "Cambodia",
            "Canada",
            "Finland",
            "Nepal",
            "Sri Lanka",
            "Sweden",
            "US",
            "US",
            "US",
            "US",
            "US",
            "US",
            "US"
           ],
           "legendgroup": "",
           "marker": {
            "color": [
             50,
             33,
             28,
             28,
             18,
             16,
             15,
             11,
             9,
             8,
             5,
             4,
             4,
             4,
             3,
             3,
             3,
             2,
             2,
             2,
             2,
             2,
             2,
             2,
             1,
             1,
             1,
             1,
             1,
             1,
             1,
             1,
             1,
             1,
             1,
             1,
             1,
             1
            ],
            "coloraxis": "coloraxis"
           },
           "name": "",
           "offsetgroup": "",
           "orientation": "h",
           "showlegend": false,
           "textposition": "auto",
           "type": "bar",
           "x": [
            50,
            33,
            28,
            28,
            18,
            16,
            15,
            11,
            9,
            8,
            5,
            4,
            4,
            4,
            3,
            3,
            3,
            2,
            2,
            2,
            2,
            2,
            2,
            2,
            1,
            1,
            1,
            1,
            1,
            1,
            1,
            1,
            1,
            1,
            1,
            1,
            1,
            1
           ],
           "xaxis": "x",
           "y": [
            "Singapore",
            "Thailand",
            "Japan",
            "South Korea",
            "Malaysia",
            "Germany",
            "Vietnam",
            "France",
            "UK",
            "United Arab Emirates",
            "Australia",
            "Australia",
            "Australia",
            "Canada",
            "India",
            "Italy",
            "Philippines",
            "Australia",
            "Canada",
            "Russia",
            "Spain",
            "US",
            "US",
            "US",
            "Belgium",
            "Cambodia",
            "Canada",
            "Finland",
            "Nepal",
            "Sri Lanka",
            "Sweden",
            "US",
            "US",
            "US",
            "US",
            "US",
            "US",
            "US"
           ],
           "yaxis": "y"
          }
         ],
         "name": "02/12/2020 22:00:00"
        },
        {
         "data": [
          {
           "alignmentgroup": "True",
           "hoverlabel": {
            "namelength": 0
           },
           "hovertemplate": "<b>%{hovertext}</b><br><br>Date=02/13/2020 21:15:00<br>Confirmed=%{marker.color}<br>Country=%{y}",
           "hovertext": [
            "Singapore",
            "Thailand",
            "Japan",
            "South Korea",
            "Malaysia",
            "Germany",
            "Vietnam",
            "France",
            "UK",
            "United Arab Emirates",
            "Australia",
            "Australia",
            "Australia",
            "Canada",
            "India",
            "Italy",
            "Philippines",
            "Australia",
            "Canada",
            "Russia",
            "Spain",
            "US",
            "US",
            "US",
            "US",
            "Belgium",
            "Cambodia",
            "Canada",
            "Finland",
            "Nepal",
            "Sri Lanka",
            "Sweden",
            "US",
            "US",
            "US",
            "US",
            "US",
            "US",
            "US"
           ],
           "legendgroup": "",
           "marker": {
            "color": [
             58,
             33,
             28,
             28,
             19,
             16,
             16,
             11,
             9,
             8,
             5,
             4,
             4,
             4,
             3,
             3,
             3,
             2,
             2,
             2,
             2,
             2,
             2,
             2,
             2,
             1,
             1,
             1,
             1,
             1,
             1,
             1,
             1,
             1,
             1,
             1,
             1,
             1,
             1
            ],
            "coloraxis": "coloraxis"
           },
           "name": "",
           "offsetgroup": "",
           "orientation": "h",
           "showlegend": false,
           "textposition": "auto",
           "type": "bar",
           "x": [
            58,
            33,
            28,
            28,
            19,
            16,
            16,
            11,
            9,
            8,
            5,
            4,
            4,
            4,
            3,
            3,
            3,
            2,
            2,
            2,
            2,
            2,
            2,
            2,
            2,
            1,
            1,
            1,
            1,
            1,
            1,
            1,
            1,
            1,
            1,
            1,
            1,
            1,
            1
           ],
           "xaxis": "x",
           "y": [
            "Singapore",
            "Thailand",
            "Japan",
            "South Korea",
            "Malaysia",
            "Germany",
            "Vietnam",
            "France",
            "UK",
            "United Arab Emirates",
            "Australia",
            "Australia",
            "Australia",
            "Canada",
            "India",
            "Italy",
            "Philippines",
            "Australia",
            "Canada",
            "Russia",
            "Spain",
            "US",
            "US",
            "US",
            "US",
            "Belgium",
            "Cambodia",
            "Canada",
            "Finland",
            "Nepal",
            "Sri Lanka",
            "Sweden",
            "US",
            "US",
            "US",
            "US",
            "US",
            "US",
            "US"
           ],
           "yaxis": "y"
          }
         ],
         "name": "02/13/2020 21:15:00"
        },
        {
         "data": [
          {
           "alignmentgroup": "True",
           "hoverlabel": {
            "namelength": 0
           },
           "hovertemplate": "<b>%{hovertext}</b><br><br>Date=02/14/2020 22:00:00<br>Confirmed=%{marker.color}<br>Country=%{y}",
           "hovertext": [
            "Singapore",
            "Thailand",
            "Japan",
            "South Korea",
            "Malaysia",
            "Germany",
            "Vietnam",
            "France",
            "UK",
            "United Arab Emirates",
            "Australia",
            "Australia",
            "Australia",
            "Canada",
            "India",
            "Italy",
            "Philippines",
            "Australia",
            "Canada",
            "Russia",
            "Spain",
            "US",
            "US",
            "US",
            "US",
            "Belgium",
            "Cambodia",
            "Canada",
            "Egypt",
            "Finland",
            "Nepal",
            "Sri Lanka",
            "Sweden",
            "US",
            "US",
            "US",
            "US",
            "US",
            "US",
            "US"
           ],
           "legendgroup": "",
           "marker": {
            "color": [
             67,
             33,
             29,
             28,
             19,
             16,
             16,
             11,
             9,
             8,
             5,
             4,
             4,
             4,
             3,
             3,
             3,
             2,
             2,
             2,
             2,
             2,
             2,
             2,
             2,
             1,
             1,
             1,
             1,
             1,
             1,
             1,
             1,
             1,
             1,
             1,
             1,
             1,
             1,
             1
            ],
            "coloraxis": "coloraxis"
           },
           "name": "",
           "offsetgroup": "",
           "orientation": "h",
           "showlegend": false,
           "textposition": "auto",
           "type": "bar",
           "x": [
            67,
            33,
            29,
            28,
            19,
            16,
            16,
            11,
            9,
            8,
            5,
            4,
            4,
            4,
            3,
            3,
            3,
            2,
            2,
            2,
            2,
            2,
            2,
            2,
            2,
            1,
            1,
            1,
            1,
            1,
            1,
            1,
            1,
            1,
            1,
            1,
            1,
            1,
            1,
            1
           ],
           "xaxis": "x",
           "y": [
            "Singapore",
            "Thailand",
            "Japan",
            "South Korea",
            "Malaysia",
            "Germany",
            "Vietnam",
            "France",
            "UK",
            "United Arab Emirates",
            "Australia",
            "Australia",
            "Australia",
            "Canada",
            "India",
            "Italy",
            "Philippines",
            "Australia",
            "Canada",
            "Russia",
            "Spain",
            "US",
            "US",
            "US",
            "US",
            "Belgium",
            "Cambodia",
            "Canada",
            "Egypt",
            "Finland",
            "Nepal",
            "Sri Lanka",
            "Sweden",
            "US",
            "US",
            "US",
            "US",
            "US",
            "US",
            "US"
           ],
           "yaxis": "y"
          }
         ],
         "name": "02/14/2020 22:00:00"
        },
        {
         "data": [
          {
           "alignmentgroup": "True",
           "hoverlabel": {
            "namelength": 0
           },
           "hovertemplate": "<b>%{hovertext}</b><br><br>Date=02/15/2020 22:00:00<br>Confirmed=%{marker.color}<br>Country=%{y}",
           "hovertext": [
            "Singapore",
            "Japan",
            "Thailand",
            "South Korea",
            "Malaysia",
            "Germany",
            "Vietnam",
            "France",
            "UK",
            "United Arab Emirates",
            "Australia",
            "Australia",
            "Australia",
            "Canada",
            "India",
            "Italy",
            "Philippines",
            "Australia",
            "Canada",
            "Russia",
            "Spain",
            "US",
            "US",
            "US",
            "US",
            "Belgium",
            "Cambodia",
            "Canada",
            "Egypt",
            "Finland",
            "Nepal",
            "Sri Lanka",
            "Sweden",
            "US",
            "US",
            "US",
            "US",
            "US",
            "US",
            "US"
           ],
           "legendgroup": "",
           "marker": {
            "color": [
             72,
             43,
             33,
             28,
             22,
             16,
             16,
             12,
             9,
             8,
             5,
             4,
             4,
             4,
             3,
             3,
             3,
             2,
             2,
             2,
             2,
             2,
             2,
             2,
             2,
             1,
             1,
             1,
             1,
             1,
             1,
             1,
             1,
             1,
             1,
             1,
             1,
             1,
             1,
             1
            ],
            "coloraxis": "coloraxis"
           },
           "name": "",
           "offsetgroup": "",
           "orientation": "h",
           "showlegend": false,
           "textposition": "auto",
           "type": "bar",
           "x": [
            72,
            43,
            33,
            28,
            22,
            16,
            16,
            12,
            9,
            8,
            5,
            4,
            4,
            4,
            3,
            3,
            3,
            2,
            2,
            2,
            2,
            2,
            2,
            2,
            2,
            1,
            1,
            1,
            1,
            1,
            1,
            1,
            1,
            1,
            1,
            1,
            1,
            1,
            1,
            1
           ],
           "xaxis": "x",
           "y": [
            "Singapore",
            "Japan",
            "Thailand",
            "South Korea",
            "Malaysia",
            "Germany",
            "Vietnam",
            "France",
            "UK",
            "United Arab Emirates",
            "Australia",
            "Australia",
            "Australia",
            "Canada",
            "India",
            "Italy",
            "Philippines",
            "Australia",
            "Canada",
            "Russia",
            "Spain",
            "US",
            "US",
            "US",
            "US",
            "Belgium",
            "Cambodia",
            "Canada",
            "Egypt",
            "Finland",
            "Nepal",
            "Sri Lanka",
            "Sweden",
            "US",
            "US",
            "US",
            "US",
            "US",
            "US",
            "US"
           ],
           "yaxis": "y"
          }
         ],
         "name": "02/15/2020 22:00:00"
        }
       ],
       "layout": {
        "barmode": "relative",
        "coloraxis": {
         "colorbar": {
          "title": {
           "text": "Confirmed"
          }
         },
         "colorscale": [
          [
           0,
           "#0d0887"
          ],
          [
           0.1111111111111111,
           "#46039f"
          ],
          [
           0.2222222222222222,
           "#7201a8"
          ],
          [
           0.3333333333333333,
           "#9c179e"
          ],
          [
           0.4444444444444444,
           "#bd3786"
          ],
          [
           0.5555555555555556,
           "#d8576b"
          ],
          [
           0.6666666666666666,
           "#ed7953"
          ],
          [
           0.7777777777777778,
           "#fb9f3a"
          ],
          [
           0.8888888888888888,
           "#fdca26"
          ],
          [
           1,
           "#f0f921"
          ]
         ]
        },
        "height": 800,
        "legend": {
         "tracegroupgap": 0
        },
        "margin": {
         "t": 60
        },
        "sliders": [
         {
          "active": 0,
          "currentvalue": {
           "prefix": "Date="
          },
          "len": 0.9,
          "pad": {
           "b": 10,
           "t": 60
          },
          "steps": [
           {
            "args": [
             [
              "01/22/2020 12:00:00"
             ],
             {
              "frame": {
               "duration": 0,
               "redraw": true
              },
              "fromcurrent": true,
              "mode": "immediate",
              "transition": {
               "duration": 0,
               "easing": "linear"
              }
             }
            ],
            "label": "01/22/2020 12:00:00",
            "method": "animate"
           },
           {
            "args": [
             [
              "01/23/2020 12:00:00"
             ],
             {
              "frame": {
               "duration": 0,
               "redraw": true
              },
              "fromcurrent": true,
              "mode": "immediate",
              "transition": {
               "duration": 0,
               "easing": "linear"
              }
             }
            ],
            "label": "01/23/2020 12:00:00",
            "method": "animate"
           },
           {
            "args": [
             [
              "01/24/2020 12:00:00"
             ],
             {
              "frame": {
               "duration": 0,
               "redraw": true
              },
              "fromcurrent": true,
              "mode": "immediate",
              "transition": {
               "duration": 0,
               "easing": "linear"
              }
             }
            ],
            "label": "01/24/2020 12:00:00",
            "method": "animate"
           },
           {
            "args": [
             [
              "01/25/2020 22:00:00"
             ],
             {
              "frame": {
               "duration": 0,
               "redraw": true
              },
              "fromcurrent": true,
              "mode": "immediate",
              "transition": {
               "duration": 0,
               "easing": "linear"
              }
             }
            ],
            "label": "01/25/2020 22:00:00",
            "method": "animate"
           },
           {
            "args": [
             [
              "01/26/2020 23:00:00"
             ],
             {
              "frame": {
               "duration": 0,
               "redraw": true
              },
              "fromcurrent": true,
              "mode": "immediate",
              "transition": {
               "duration": 0,
               "easing": "linear"
              }
             }
            ],
            "label": "01/26/2020 23:00:00",
            "method": "animate"
           },
           {
            "args": [
             [
              "01/27/2020 20:30:00"
             ],
             {
              "frame": {
               "duration": 0,
               "redraw": true
              },
              "fromcurrent": true,
              "mode": "immediate",
              "transition": {
               "duration": 0,
               "easing": "linear"
              }
             }
            ],
            "label": "01/27/2020 20:30:00",
            "method": "animate"
           },
           {
            "args": [
             [
              "01/28/2020 23:00:00"
             ],
             {
              "frame": {
               "duration": 0,
               "redraw": true
              },
              "fromcurrent": true,
              "mode": "immediate",
              "transition": {
               "duration": 0,
               "easing": "linear"
              }
             }
            ],
            "label": "01/28/2020 23:00:00",
            "method": "animate"
           },
           {
            "args": [
             [
              "01/29/2020 21:00:00"
             ],
             {
              "frame": {
               "duration": 0,
               "redraw": true
              },
              "fromcurrent": true,
              "mode": "immediate",
              "transition": {
               "duration": 0,
               "easing": "linear"
              }
             }
            ],
            "label": "01/29/2020 21:00:00",
            "method": "animate"
           },
           {
            "args": [
             [
              "01/30/2020 21:30:00"
             ],
             {
              "frame": {
               "duration": 0,
               "redraw": true
              },
              "fromcurrent": true,
              "mode": "immediate",
              "transition": {
               "duration": 0,
               "easing": "linear"
              }
             }
            ],
            "label": "01/30/2020 21:30:00",
            "method": "animate"
           },
           {
            "args": [
             [
              "01/31/2020 19:00:00"
             ],
             {
              "frame": {
               "duration": 0,
               "redraw": true
              },
              "fromcurrent": true,
              "mode": "immediate",
              "transition": {
               "duration": 0,
               "easing": "linear"
              }
             }
            ],
            "label": "01/31/2020 19:00:00",
            "method": "animate"
           },
           {
            "args": [
             [
              "02/01/2020 23:00:00"
             ],
             {
              "frame": {
               "duration": 0,
               "redraw": true
              },
              "fromcurrent": true,
              "mode": "immediate",
              "transition": {
               "duration": 0,
               "easing": "linear"
              }
             }
            ],
            "label": "02/01/2020 23:00:00",
            "method": "animate"
           },
           {
            "args": [
             [
              "02/02/2020 21:00:00"
             ],
             {
              "frame": {
               "duration": 0,
               "redraw": true
              },
              "fromcurrent": true,
              "mode": "immediate",
              "transition": {
               "duration": 0,
               "easing": "linear"
              }
             }
            ],
            "label": "02/02/2020 21:00:00",
            "method": "animate"
           },
           {
            "args": [
             [
              "02/03/2020 21:40:00"
             ],
             {
              "frame": {
               "duration": 0,
               "redraw": true
              },
              "fromcurrent": true,
              "mode": "immediate",
              "transition": {
               "duration": 0,
               "easing": "linear"
              }
             }
            ],
            "label": "02/03/2020 21:40:00",
            "method": "animate"
           },
           {
            "args": [
             [
              "02/04/2020 22:00:00"
             ],
             {
              "frame": {
               "duration": 0,
               "redraw": true
              },
              "fromcurrent": true,
              "mode": "immediate",
              "transition": {
               "duration": 0,
               "easing": "linear"
              }
             }
            ],
            "label": "02/04/2020 22:00:00",
            "method": "animate"
           },
           {
            "args": [
             [
              "02/05/2020 12:20:00"
             ],
             {
              "frame": {
               "duration": 0,
               "redraw": true
              },
              "fromcurrent": true,
              "mode": "immediate",
              "transition": {
               "duration": 0,
               "easing": "linear"
              }
             }
            ],
            "label": "02/05/2020 12:20:00",
            "method": "animate"
           },
           {
            "args": [
             [
              "02/06/2020 20:05:00"
             ],
             {
              "frame": {
               "duration": 0,
               "redraw": true
              },
              "fromcurrent": true,
              "mode": "immediate",
              "transition": {
               "duration": 0,
               "easing": "linear"
              }
             }
            ],
            "label": "02/06/2020 20:05:00",
            "method": "animate"
           },
           {
            "args": [
             [
              "02/07/2020 20:24:00"
             ],
             {
              "frame": {
               "duration": 0,
               "redraw": true
              },
              "fromcurrent": true,
              "mode": "immediate",
              "transition": {
               "duration": 0,
               "easing": "linear"
              }
             }
            ],
            "label": "02/07/2020 20:24:00",
            "method": "animate"
           },
           {
            "args": [
             [
              "02/08/2020 23:04:00"
             ],
             {
              "frame": {
               "duration": 0,
               "redraw": true
              },
              "fromcurrent": true,
              "mode": "immediate",
              "transition": {
               "duration": 0,
               "easing": "linear"
              }
             }
            ],
            "label": "02/08/2020 23:04:00",
            "method": "animate"
           },
           {
            "args": [
             [
              "02/09/2020 23:20:00"
             ],
             {
              "frame": {
               "duration": 0,
               "redraw": true
              },
              "fromcurrent": true,
              "mode": "immediate",
              "transition": {
               "duration": 0,
               "easing": "linear"
              }
             }
            ],
            "label": "02/09/2020 23:20:00",
            "method": "animate"
           },
           {
            "args": [
             [
              "02/10/2020 19:30:00"
             ],
             {
              "frame": {
               "duration": 0,
               "redraw": true
              },
              "fromcurrent": true,
              "mode": "immediate",
              "transition": {
               "duration": 0,
               "easing": "linear"
              }
             }
            ],
            "label": "02/10/2020 19:30:00",
            "method": "animate"
           },
           {
            "args": [
             [
              "02/11/2020 20:44:00"
             ],
             {
              "frame": {
               "duration": 0,
               "redraw": true
              },
              "fromcurrent": true,
              "mode": "immediate",
              "transition": {
               "duration": 0,
               "easing": "linear"
              }
             }
            ],
            "label": "02/11/2020 20:44:00",
            "method": "animate"
           },
           {
            "args": [
             [
              "02/12/2020 22:00:00"
             ],
             {
              "frame": {
               "duration": 0,
               "redraw": true
              },
              "fromcurrent": true,
              "mode": "immediate",
              "transition": {
               "duration": 0,
               "easing": "linear"
              }
             }
            ],
            "label": "02/12/2020 22:00:00",
            "method": "animate"
           },
           {
            "args": [
             [
              "02/13/2020 21:15:00"
             ],
             {
              "frame": {
               "duration": 0,
               "redraw": true
              },
              "fromcurrent": true,
              "mode": "immediate",
              "transition": {
               "duration": 0,
               "easing": "linear"
              }
             }
            ],
            "label": "02/13/2020 21:15:00",
            "method": "animate"
           },
           {
            "args": [
             [
              "02/14/2020 22:00:00"
             ],
             {
              "frame": {
               "duration": 0,
               "redraw": true
              },
              "fromcurrent": true,
              "mode": "immediate",
              "transition": {
               "duration": 0,
               "easing": "linear"
              }
             }
            ],
            "label": "02/14/2020 22:00:00",
            "method": "animate"
           },
           {
            "args": [
             [
              "02/15/2020 22:00:00"
             ],
             {
              "frame": {
               "duration": 0,
               "redraw": true
              },
              "fromcurrent": true,
              "mode": "immediate",
              "transition": {
               "duration": 0,
               "easing": "linear"
              }
             }
            ],
            "label": "02/15/2020 22:00:00",
            "method": "animate"
           }
          ],
          "x": 0.1,
          "xanchor": "left",
          "y": 0,
          "yanchor": "top"
         }
        ],
        "template": {
         "data": {
          "bar": [
           {
            "error_x": {
             "color": "#2a3f5f"
            },
            "error_y": {
             "color": "#2a3f5f"
            },
            "marker": {
             "line": {
              "color": "#E5ECF6",
              "width": 0.5
             }
            },
            "type": "bar"
           }
          ],
          "barpolar": [
           {
            "marker": {
             "line": {
              "color": "#E5ECF6",
              "width": 0.5
             }
            },
            "type": "barpolar"
           }
          ],
          "carpet": [
           {
            "aaxis": {
             "endlinecolor": "#2a3f5f",
             "gridcolor": "white",
             "linecolor": "white",
             "minorgridcolor": "white",
             "startlinecolor": "#2a3f5f"
            },
            "baxis": {
             "endlinecolor": "#2a3f5f",
             "gridcolor": "white",
             "linecolor": "white",
             "minorgridcolor": "white",
             "startlinecolor": "#2a3f5f"
            },
            "type": "carpet"
           }
          ],
          "choropleth": [
           {
            "colorbar": {
             "outlinewidth": 0,
             "ticks": ""
            },
            "type": "choropleth"
           }
          ],
          "contour": [
           {
            "colorbar": {
             "outlinewidth": 0,
             "ticks": ""
            },
            "colorscale": [
             [
              0,
              "#0d0887"
             ],
             [
              0.1111111111111111,
              "#46039f"
             ],
             [
              0.2222222222222222,
              "#7201a8"
             ],
             [
              0.3333333333333333,
              "#9c179e"
             ],
             [
              0.4444444444444444,
              "#bd3786"
             ],
             [
              0.5555555555555556,
              "#d8576b"
             ],
             [
              0.6666666666666666,
              "#ed7953"
             ],
             [
              0.7777777777777778,
              "#fb9f3a"
             ],
             [
              0.8888888888888888,
              "#fdca26"
             ],
             [
              1,
              "#f0f921"
             ]
            ],
            "type": "contour"
           }
          ],
          "contourcarpet": [
           {
            "colorbar": {
             "outlinewidth": 0,
             "ticks": ""
            },
            "type": "contourcarpet"
           }
          ],
          "heatmap": [
           {
            "colorbar": {
             "outlinewidth": 0,
             "ticks": ""
            },
            "colorscale": [
             [
              0,
              "#0d0887"
             ],
             [
              0.1111111111111111,
              "#46039f"
             ],
             [
              0.2222222222222222,
              "#7201a8"
             ],
             [
              0.3333333333333333,
              "#9c179e"
             ],
             [
              0.4444444444444444,
              "#bd3786"
             ],
             [
              0.5555555555555556,
              "#d8576b"
             ],
             [
              0.6666666666666666,
              "#ed7953"
             ],
             [
              0.7777777777777778,
              "#fb9f3a"
             ],
             [
              0.8888888888888888,
              "#fdca26"
             ],
             [
              1,
              "#f0f921"
             ]
            ],
            "type": "heatmap"
           }
          ],
          "heatmapgl": [
           {
            "colorbar": {
             "outlinewidth": 0,
             "ticks": ""
            },
            "colorscale": [
             [
              0,
              "#0d0887"
             ],
             [
              0.1111111111111111,
              "#46039f"
             ],
             [
              0.2222222222222222,
              "#7201a8"
             ],
             [
              0.3333333333333333,
              "#9c179e"
             ],
             [
              0.4444444444444444,
              "#bd3786"
             ],
             [
              0.5555555555555556,
              "#d8576b"
             ],
             [
              0.6666666666666666,
              "#ed7953"
             ],
             [
              0.7777777777777778,
              "#fb9f3a"
             ],
             [
              0.8888888888888888,
              "#fdca26"
             ],
             [
              1,
              "#f0f921"
             ]
            ],
            "type": "heatmapgl"
           }
          ],
          "histogram": [
           {
            "marker": {
             "colorbar": {
              "outlinewidth": 0,
              "ticks": ""
             }
            },
            "type": "histogram"
           }
          ],
          "histogram2d": [
           {
            "colorbar": {
             "outlinewidth": 0,
             "ticks": ""
            },
            "colorscale": [
             [
              0,
              "#0d0887"
             ],
             [
              0.1111111111111111,
              "#46039f"
             ],
             [
              0.2222222222222222,
              "#7201a8"
             ],
             [
              0.3333333333333333,
              "#9c179e"
             ],
             [
              0.4444444444444444,
              "#bd3786"
             ],
             [
              0.5555555555555556,
              "#d8576b"
             ],
             [
              0.6666666666666666,
              "#ed7953"
             ],
             [
              0.7777777777777778,
              "#fb9f3a"
             ],
             [
              0.8888888888888888,
              "#fdca26"
             ],
             [
              1,
              "#f0f921"
             ]
            ],
            "type": "histogram2d"
           }
          ],
          "histogram2dcontour": [
           {
            "colorbar": {
             "outlinewidth": 0,
             "ticks": ""
            },
            "colorscale": [
             [
              0,
              "#0d0887"
             ],
             [
              0.1111111111111111,
              "#46039f"
             ],
             [
              0.2222222222222222,
              "#7201a8"
             ],
             [
              0.3333333333333333,
              "#9c179e"
             ],
             [
              0.4444444444444444,
              "#bd3786"
             ],
             [
              0.5555555555555556,
              "#d8576b"
             ],
             [
              0.6666666666666666,
              "#ed7953"
             ],
             [
              0.7777777777777778,
              "#fb9f3a"
             ],
             [
              0.8888888888888888,
              "#fdca26"
             ],
             [
              1,
              "#f0f921"
             ]
            ],
            "type": "histogram2dcontour"
           }
          ],
          "mesh3d": [
           {
            "colorbar": {
             "outlinewidth": 0,
             "ticks": ""
            },
            "type": "mesh3d"
           }
          ],
          "parcoords": [
           {
            "line": {
             "colorbar": {
              "outlinewidth": 0,
              "ticks": ""
             }
            },
            "type": "parcoords"
           }
          ],
          "pie": [
           {
            "automargin": true,
            "type": "pie"
           }
          ],
          "scatter": [
           {
            "marker": {
             "colorbar": {
              "outlinewidth": 0,
              "ticks": ""
             }
            },
            "type": "scatter"
           }
          ],
          "scatter3d": [
           {
            "line": {
             "colorbar": {
              "outlinewidth": 0,
              "ticks": ""
             }
            },
            "marker": {
             "colorbar": {
              "outlinewidth": 0,
              "ticks": ""
             }
            },
            "type": "scatter3d"
           }
          ],
          "scattercarpet": [
           {
            "marker": {
             "colorbar": {
              "outlinewidth": 0,
              "ticks": ""
             }
            },
            "type": "scattercarpet"
           }
          ],
          "scattergeo": [
           {
            "marker": {
             "colorbar": {
              "outlinewidth": 0,
              "ticks": ""
             }
            },
            "type": "scattergeo"
           }
          ],
          "scattergl": [
           {
            "marker": {
             "colorbar": {
              "outlinewidth": 0,
              "ticks": ""
             }
            },
            "type": "scattergl"
           }
          ],
          "scattermapbox": [
           {
            "marker": {
             "colorbar": {
              "outlinewidth": 0,
              "ticks": ""
             }
            },
            "type": "scattermapbox"
           }
          ],
          "scatterpolar": [
           {
            "marker": {
             "colorbar": {
              "outlinewidth": 0,
              "ticks": ""
             }
            },
            "type": "scatterpolar"
           }
          ],
          "scatterpolargl": [
           {
            "marker": {
             "colorbar": {
              "outlinewidth": 0,
              "ticks": ""
             }
            },
            "type": "scatterpolargl"
           }
          ],
          "scatterternary": [
           {
            "marker": {
             "colorbar": {
              "outlinewidth": 0,
              "ticks": ""
             }
            },
            "type": "scatterternary"
           }
          ],
          "surface": [
           {
            "colorbar": {
             "outlinewidth": 0,
             "ticks": ""
            },
            "colorscale": [
             [
              0,
              "#0d0887"
             ],
             [
              0.1111111111111111,
              "#46039f"
             ],
             [
              0.2222222222222222,
              "#7201a8"
             ],
             [
              0.3333333333333333,
              "#9c179e"
             ],
             [
              0.4444444444444444,
              "#bd3786"
             ],
             [
              0.5555555555555556,
              "#d8576b"
             ],
             [
              0.6666666666666666,
              "#ed7953"
             ],
             [
              0.7777777777777778,
              "#fb9f3a"
             ],
             [
              0.8888888888888888,
              "#fdca26"
             ],
             [
              1,
              "#f0f921"
             ]
            ],
            "type": "surface"
           }
          ],
          "table": [
           {
            "cells": {
             "fill": {
              "color": "#EBF0F8"
             },
             "line": {
              "color": "white"
             }
            },
            "header": {
             "fill": {
              "color": "#C8D4E3"
             },
             "line": {
              "color": "white"
             }
            },
            "type": "table"
           }
          ]
         },
         "layout": {
          "annotationdefaults": {
           "arrowcolor": "#2a3f5f",
           "arrowhead": 0,
           "arrowwidth": 1
          },
          "coloraxis": {
           "colorbar": {
            "outlinewidth": 0,
            "ticks": ""
           }
          },
          "colorscale": {
           "diverging": [
            [
             0,
             "#8e0152"
            ],
            [
             0.1,
             "#c51b7d"
            ],
            [
             0.2,
             "#de77ae"
            ],
            [
             0.3,
             "#f1b6da"
            ],
            [
             0.4,
             "#fde0ef"
            ],
            [
             0.5,
             "#f7f7f7"
            ],
            [
             0.6,
             "#e6f5d0"
            ],
            [
             0.7,
             "#b8e186"
            ],
            [
             0.8,
             "#7fbc41"
            ],
            [
             0.9,
             "#4d9221"
            ],
            [
             1,
             "#276419"
            ]
           ],
           "sequential": [
            [
             0,
             "#0d0887"
            ],
            [
             0.1111111111111111,
             "#46039f"
            ],
            [
             0.2222222222222222,
             "#7201a8"
            ],
            [
             0.3333333333333333,
             "#9c179e"
            ],
            [
             0.4444444444444444,
             "#bd3786"
            ],
            [
             0.5555555555555556,
             "#d8576b"
            ],
            [
             0.6666666666666666,
             "#ed7953"
            ],
            [
             0.7777777777777778,
             "#fb9f3a"
            ],
            [
             0.8888888888888888,
             "#fdca26"
            ],
            [
             1,
             "#f0f921"
            ]
           ],
           "sequentialminus": [
            [
             0,
             "#0d0887"
            ],
            [
             0.1111111111111111,
             "#46039f"
            ],
            [
             0.2222222222222222,
             "#7201a8"
            ],
            [
             0.3333333333333333,
             "#9c179e"
            ],
            [
             0.4444444444444444,
             "#bd3786"
            ],
            [
             0.5555555555555556,
             "#d8576b"
            ],
            [
             0.6666666666666666,
             "#ed7953"
            ],
            [
             0.7777777777777778,
             "#fb9f3a"
            ],
            [
             0.8888888888888888,
             "#fdca26"
            ],
            [
             1,
             "#f0f921"
            ]
           ]
          },
          "colorway": [
           "#636efa",
           "#EF553B",
           "#00cc96",
           "#ab63fa",
           "#FFA15A",
           "#19d3f3",
           "#FF6692",
           "#B6E880",
           "#FF97FF",
           "#FECB52"
          ],
          "font": {
           "color": "#2a3f5f"
          },
          "geo": {
           "bgcolor": "white",
           "lakecolor": "white",
           "landcolor": "#E5ECF6",
           "showlakes": true,
           "showland": true,
           "subunitcolor": "white"
          },
          "hoverlabel": {
           "align": "left"
          },
          "hovermode": "closest",
          "mapbox": {
           "style": "light"
          },
          "paper_bgcolor": "white",
          "plot_bgcolor": "#E5ECF6",
          "polar": {
           "angularaxis": {
            "gridcolor": "white",
            "linecolor": "white",
            "ticks": ""
           },
           "bgcolor": "#E5ECF6",
           "radialaxis": {
            "gridcolor": "white",
            "linecolor": "white",
            "ticks": ""
           }
          },
          "scene": {
           "xaxis": {
            "backgroundcolor": "#E5ECF6",
            "gridcolor": "white",
            "gridwidth": 2,
            "linecolor": "white",
            "showbackground": true,
            "ticks": "",
            "zerolinecolor": "white"
           },
           "yaxis": {
            "backgroundcolor": "#E5ECF6",
            "gridcolor": "white",
            "gridwidth": 2,
            "linecolor": "white",
            "showbackground": true,
            "ticks": "",
            "zerolinecolor": "white"
           },
           "zaxis": {
            "backgroundcolor": "#E5ECF6",
            "gridcolor": "white",
            "gridwidth": 2,
            "linecolor": "white",
            "showbackground": true,
            "ticks": "",
            "zerolinecolor": "white"
           }
          },
          "shapedefaults": {
           "line": {
            "color": "#2a3f5f"
           }
          },
          "ternary": {
           "aaxis": {
            "gridcolor": "white",
            "linecolor": "white",
            "ticks": ""
           },
           "baxis": {
            "gridcolor": "white",
            "linecolor": "white",
            "ticks": ""
           },
           "bgcolor": "#E5ECF6",
           "caxis": {
            "gridcolor": "white",
            "linecolor": "white",
            "ticks": ""
           }
          },
          "title": {
           "x": 0.05
          },
          "xaxis": {
           "automargin": true,
           "gridcolor": "white",
           "linecolor": "white",
           "ticks": "",
           "title": {
            "standoff": 15
           },
           "zerolinecolor": "white",
           "zerolinewidth": 2
          },
          "yaxis": {
           "automargin": true,
           "gridcolor": "white",
           "linecolor": "white",
           "ticks": "",
           "title": {
            "standoff": 15
           },
           "zerolinecolor": "white",
           "zerolinewidth": 2
          }
         }
        },
        "title": {
         "text": "other than China"
        },
        "updatemenus": [
         {
          "buttons": [
           {
            "args": [
             null,
             {
              "frame": {
               "duration": 500,
               "redraw": true
              },
              "fromcurrent": true,
              "mode": "immediate",
              "transition": {
               "duration": 500,
               "easing": "linear"
              }
             }
            ],
            "label": "&#9654;",
            "method": "animate"
           },
           {
            "args": [
             [
              null
             ],
             {
              "frame": {
               "duration": 0,
               "redraw": true
              },
              "fromcurrent": true,
              "mode": "immediate",
              "transition": {
               "duration": 0,
               "easing": "linear"
              }
             }
            ],
            "label": "&#9724;",
            "method": "animate"
           }
          ],
          "direction": "left",
          "pad": {
           "r": 10,
           "t": 70
          },
          "showactive": false,
          "type": "buttons",
          "x": 0.1,
          "xanchor": "right",
          "y": 0,
          "yanchor": "top"
         }
        ],
        "xaxis": {
         "anchor": "y",
         "domain": [
          0,
          1
         ],
         "range": [
          0,
          100
         ],
         "title": {
          "text": "Confirmed"
         }
        },
        "yaxis": {
         "anchor": "x",
         "categoryorder": "total ascending",
         "domain": [
          0,
          1
         ],
         "title": {
          "text": "Country"
         }
        }
       }
      },
      "text/html": [
       "<div>\n",
       "        \n",
       "        \n",
       "            <div id=\"75c153b5-66a7-4a1d-9a74-ac31c898ea97\" class=\"plotly-graph-div\" style=\"height:800px; width:100%;\"></div>\n",
       "            <script type=\"text/javascript\">\n",
       "                require([\"plotly\"], function(Plotly) {\n",
       "                    window.PLOTLYENV=window.PLOTLYENV || {};\n",
       "                    \n",
       "                if (document.getElementById(\"75c153b5-66a7-4a1d-9a74-ac31c898ea97\")) {\n",
       "                    Plotly.newPlot(\n",
       "                        '75c153b5-66a7-4a1d-9a74-ac31c898ea97',\n",
       "                        [{\"alignmentgroup\": \"True\", \"hoverlabel\": {\"namelength\": 0}, \"hovertemplate\": \"<b>%{hovertext}</b><br><br>Date=01/22/2020 12:00:00<br>Confirmed=%{marker.color}<br>Country=%{y}\", \"hovertext\": [\"US\", \"Japan\", \"Thailand\", \"South Korea\"], \"legendgroup\": \"\", \"marker\": {\"color\": [1.0, 2.0, 2.0, 1.0], \"coloraxis\": \"coloraxis\"}, \"name\": \"\", \"offsetgroup\": \"\", \"orientation\": \"h\", \"showlegend\": false, \"textposition\": \"auto\", \"type\": \"bar\", \"x\": [1.0, 2.0, 2.0, 1.0], \"xaxis\": \"x\", \"y\": [\"US\", \"Japan\", \"Thailand\", \"South Korea\"], \"yaxis\": \"y\"}],\n",
       "                        {\"barmode\": \"relative\", \"coloraxis\": {\"colorbar\": {\"title\": {\"text\": \"Confirmed\"}}, \"colorscale\": [[0.0, \"#0d0887\"], [0.1111111111111111, \"#46039f\"], [0.2222222222222222, \"#7201a8\"], [0.3333333333333333, \"#9c179e\"], [0.4444444444444444, \"#bd3786\"], [0.5555555555555556, \"#d8576b\"], [0.6666666666666666, \"#ed7953\"], [0.7777777777777778, \"#fb9f3a\"], [0.8888888888888888, \"#fdca26\"], [1.0, \"#f0f921\"]]}, \"height\": 800, \"legend\": {\"tracegroupgap\": 0}, \"margin\": {\"t\": 60}, \"sliders\": [{\"active\": 0, \"currentvalue\": {\"prefix\": \"Date=\"}, \"len\": 0.9, \"pad\": {\"b\": 10, \"t\": 60}, \"steps\": [{\"args\": [[\"01/22/2020 12:00:00\"], {\"frame\": {\"duration\": 0, \"redraw\": true}, \"fromcurrent\": true, \"mode\": \"immediate\", \"transition\": {\"duration\": 0, \"easing\": \"linear\"}}], \"label\": \"01/22/2020 12:00:00\", \"method\": \"animate\"}, {\"args\": [[\"01/23/2020 12:00:00\"], {\"frame\": {\"duration\": 0, \"redraw\": true}, \"fromcurrent\": true, \"mode\": \"immediate\", \"transition\": {\"duration\": 0, \"easing\": \"linear\"}}], \"label\": \"01/23/2020 12:00:00\", \"method\": \"animate\"}, {\"args\": [[\"01/24/2020 12:00:00\"], {\"frame\": {\"duration\": 0, \"redraw\": true}, \"fromcurrent\": true, \"mode\": \"immediate\", \"transition\": {\"duration\": 0, \"easing\": \"linear\"}}], \"label\": \"01/24/2020 12:00:00\", \"method\": \"animate\"}, {\"args\": [[\"01/25/2020 22:00:00\"], {\"frame\": {\"duration\": 0, \"redraw\": true}, \"fromcurrent\": true, \"mode\": \"immediate\", \"transition\": {\"duration\": 0, \"easing\": \"linear\"}}], \"label\": \"01/25/2020 22:00:00\", \"method\": \"animate\"}, {\"args\": [[\"01/26/2020 23:00:00\"], {\"frame\": {\"duration\": 0, \"redraw\": true}, \"fromcurrent\": true, \"mode\": \"immediate\", \"transition\": {\"duration\": 0, \"easing\": \"linear\"}}], \"label\": \"01/26/2020 23:00:00\", \"method\": \"animate\"}, {\"args\": [[\"01/27/2020 20:30:00\"], {\"frame\": {\"duration\": 0, \"redraw\": true}, \"fromcurrent\": true, \"mode\": \"immediate\", \"transition\": {\"duration\": 0, \"easing\": \"linear\"}}], \"label\": \"01/27/2020 20:30:00\", \"method\": \"animate\"}, {\"args\": [[\"01/28/2020 23:00:00\"], {\"frame\": {\"duration\": 0, \"redraw\": true}, \"fromcurrent\": true, \"mode\": \"immediate\", \"transition\": {\"duration\": 0, \"easing\": \"linear\"}}], \"label\": \"01/28/2020 23:00:00\", \"method\": \"animate\"}, {\"args\": [[\"01/29/2020 21:00:00\"], {\"frame\": {\"duration\": 0, \"redraw\": true}, \"fromcurrent\": true, \"mode\": \"immediate\", \"transition\": {\"duration\": 0, \"easing\": \"linear\"}}], \"label\": \"01/29/2020 21:00:00\", \"method\": \"animate\"}, {\"args\": [[\"01/30/2020 21:30:00\"], {\"frame\": {\"duration\": 0, \"redraw\": true}, \"fromcurrent\": true, \"mode\": \"immediate\", \"transition\": {\"duration\": 0, \"easing\": \"linear\"}}], \"label\": \"01/30/2020 21:30:00\", \"method\": \"animate\"}, {\"args\": [[\"01/31/2020 19:00:00\"], {\"frame\": {\"duration\": 0, \"redraw\": true}, \"fromcurrent\": true, \"mode\": \"immediate\", \"transition\": {\"duration\": 0, \"easing\": \"linear\"}}], \"label\": \"01/31/2020 19:00:00\", \"method\": \"animate\"}, {\"args\": [[\"02/01/2020 23:00:00\"], {\"frame\": {\"duration\": 0, \"redraw\": true}, \"fromcurrent\": true, \"mode\": \"immediate\", \"transition\": {\"duration\": 0, \"easing\": \"linear\"}}], \"label\": \"02/01/2020 23:00:00\", \"method\": \"animate\"}, {\"args\": [[\"02/02/2020 21:00:00\"], {\"frame\": {\"duration\": 0, \"redraw\": true}, \"fromcurrent\": true, \"mode\": \"immediate\", \"transition\": {\"duration\": 0, \"easing\": \"linear\"}}], \"label\": \"02/02/2020 21:00:00\", \"method\": \"animate\"}, {\"args\": [[\"02/03/2020 21:40:00\"], {\"frame\": {\"duration\": 0, \"redraw\": true}, \"fromcurrent\": true, \"mode\": \"immediate\", \"transition\": {\"duration\": 0, \"easing\": \"linear\"}}], \"label\": \"02/03/2020 21:40:00\", \"method\": \"animate\"}, {\"args\": [[\"02/04/2020 22:00:00\"], {\"frame\": {\"duration\": 0, \"redraw\": true}, \"fromcurrent\": true, \"mode\": \"immediate\", \"transition\": {\"duration\": 0, \"easing\": \"linear\"}}], \"label\": \"02/04/2020 22:00:00\", \"method\": \"animate\"}, {\"args\": [[\"02/05/2020 12:20:00\"], {\"frame\": {\"duration\": 0, \"redraw\": true}, \"fromcurrent\": true, \"mode\": \"immediate\", \"transition\": {\"duration\": 0, \"easing\": \"linear\"}}], \"label\": \"02/05/2020 12:20:00\", \"method\": \"animate\"}, {\"args\": [[\"02/06/2020 20:05:00\"], {\"frame\": {\"duration\": 0, \"redraw\": true}, \"fromcurrent\": true, \"mode\": \"immediate\", \"transition\": {\"duration\": 0, \"easing\": \"linear\"}}], \"label\": \"02/06/2020 20:05:00\", \"method\": \"animate\"}, {\"args\": [[\"02/07/2020 20:24:00\"], {\"frame\": {\"duration\": 0, \"redraw\": true}, \"fromcurrent\": true, \"mode\": \"immediate\", \"transition\": {\"duration\": 0, \"easing\": \"linear\"}}], \"label\": \"02/07/2020 20:24:00\", \"method\": \"animate\"}, {\"args\": [[\"02/08/2020 23:04:00\"], {\"frame\": {\"duration\": 0, \"redraw\": true}, \"fromcurrent\": true, \"mode\": \"immediate\", \"transition\": {\"duration\": 0, \"easing\": \"linear\"}}], \"label\": \"02/08/2020 23:04:00\", \"method\": \"animate\"}, {\"args\": [[\"02/09/2020 23:20:00\"], {\"frame\": {\"duration\": 0, \"redraw\": true}, \"fromcurrent\": true, \"mode\": \"immediate\", \"transition\": {\"duration\": 0, \"easing\": \"linear\"}}], \"label\": \"02/09/2020 23:20:00\", \"method\": \"animate\"}, {\"args\": [[\"02/10/2020 19:30:00\"], {\"frame\": {\"duration\": 0, \"redraw\": true}, \"fromcurrent\": true, \"mode\": \"immediate\", \"transition\": {\"duration\": 0, \"easing\": \"linear\"}}], \"label\": \"02/10/2020 19:30:00\", \"method\": \"animate\"}, {\"args\": [[\"02/11/2020 20:44:00\"], {\"frame\": {\"duration\": 0, \"redraw\": true}, \"fromcurrent\": true, \"mode\": \"immediate\", \"transition\": {\"duration\": 0, \"easing\": \"linear\"}}], \"label\": \"02/11/2020 20:44:00\", \"method\": \"animate\"}, {\"args\": [[\"02/12/2020 22:00:00\"], {\"frame\": {\"duration\": 0, \"redraw\": true}, \"fromcurrent\": true, \"mode\": \"immediate\", \"transition\": {\"duration\": 0, \"easing\": \"linear\"}}], \"label\": \"02/12/2020 22:00:00\", \"method\": \"animate\"}, {\"args\": [[\"02/13/2020 21:15:00\"], {\"frame\": {\"duration\": 0, \"redraw\": true}, \"fromcurrent\": true, \"mode\": \"immediate\", \"transition\": {\"duration\": 0, \"easing\": \"linear\"}}], \"label\": \"02/13/2020 21:15:00\", \"method\": \"animate\"}, {\"args\": [[\"02/14/2020 22:00:00\"], {\"frame\": {\"duration\": 0, \"redraw\": true}, \"fromcurrent\": true, \"mode\": \"immediate\", \"transition\": {\"duration\": 0, \"easing\": \"linear\"}}], \"label\": \"02/14/2020 22:00:00\", \"method\": \"animate\"}, {\"args\": [[\"02/15/2020 22:00:00\"], {\"frame\": {\"duration\": 0, \"redraw\": true}, \"fromcurrent\": true, \"mode\": \"immediate\", \"transition\": {\"duration\": 0, \"easing\": \"linear\"}}], \"label\": \"02/15/2020 22:00:00\", \"method\": \"animate\"}], \"x\": 0.1, \"xanchor\": \"left\", \"y\": 0, \"yanchor\": \"top\"}], \"template\": {\"data\": {\"bar\": [{\"error_x\": {\"color\": \"#2a3f5f\"}, \"error_y\": {\"color\": \"#2a3f5f\"}, \"marker\": {\"line\": {\"color\": \"#E5ECF6\", \"width\": 0.5}}, \"type\": \"bar\"}], \"barpolar\": [{\"marker\": {\"line\": {\"color\": \"#E5ECF6\", \"width\": 0.5}}, \"type\": \"barpolar\"}], \"carpet\": [{\"aaxis\": {\"endlinecolor\": \"#2a3f5f\", \"gridcolor\": \"white\", \"linecolor\": \"white\", \"minorgridcolor\": \"white\", \"startlinecolor\": \"#2a3f5f\"}, \"baxis\": {\"endlinecolor\": \"#2a3f5f\", \"gridcolor\": \"white\", \"linecolor\": \"white\", \"minorgridcolor\": \"white\", \"startlinecolor\": \"#2a3f5f\"}, \"type\": \"carpet\"}], \"choropleth\": [{\"colorbar\": {\"outlinewidth\": 0, \"ticks\": \"\"}, \"type\": \"choropleth\"}], \"contour\": [{\"colorbar\": {\"outlinewidth\": 0, \"ticks\": \"\"}, \"colorscale\": [[0.0, \"#0d0887\"], [0.1111111111111111, \"#46039f\"], [0.2222222222222222, \"#7201a8\"], [0.3333333333333333, \"#9c179e\"], [0.4444444444444444, \"#bd3786\"], [0.5555555555555556, \"#d8576b\"], [0.6666666666666666, \"#ed7953\"], [0.7777777777777778, \"#fb9f3a\"], [0.8888888888888888, \"#fdca26\"], [1.0, \"#f0f921\"]], \"type\": \"contour\"}], \"contourcarpet\": [{\"colorbar\": {\"outlinewidth\": 0, \"ticks\": \"\"}, \"type\": \"contourcarpet\"}], \"heatmap\": [{\"colorbar\": {\"outlinewidth\": 0, \"ticks\": \"\"}, \"colorscale\": [[0.0, \"#0d0887\"], [0.1111111111111111, \"#46039f\"], [0.2222222222222222, \"#7201a8\"], [0.3333333333333333, \"#9c179e\"], [0.4444444444444444, \"#bd3786\"], [0.5555555555555556, \"#d8576b\"], [0.6666666666666666, \"#ed7953\"], [0.7777777777777778, \"#fb9f3a\"], [0.8888888888888888, \"#fdca26\"], [1.0, \"#f0f921\"]], \"type\": \"heatmap\"}], \"heatmapgl\": [{\"colorbar\": {\"outlinewidth\": 0, \"ticks\": \"\"}, \"colorscale\": [[0.0, \"#0d0887\"], [0.1111111111111111, \"#46039f\"], [0.2222222222222222, \"#7201a8\"], [0.3333333333333333, \"#9c179e\"], [0.4444444444444444, \"#bd3786\"], [0.5555555555555556, \"#d8576b\"], [0.6666666666666666, \"#ed7953\"], [0.7777777777777778, \"#fb9f3a\"], [0.8888888888888888, \"#fdca26\"], [1.0, \"#f0f921\"]], \"type\": \"heatmapgl\"}], \"histogram\": [{\"marker\": {\"colorbar\": {\"outlinewidth\": 0, \"ticks\": \"\"}}, \"type\": \"histogram\"}], \"histogram2d\": [{\"colorbar\": {\"outlinewidth\": 0, \"ticks\": \"\"}, \"colorscale\": [[0.0, \"#0d0887\"], [0.1111111111111111, \"#46039f\"], [0.2222222222222222, \"#7201a8\"], [0.3333333333333333, \"#9c179e\"], [0.4444444444444444, \"#bd3786\"], [0.5555555555555556, \"#d8576b\"], [0.6666666666666666, \"#ed7953\"], [0.7777777777777778, \"#fb9f3a\"], [0.8888888888888888, \"#fdca26\"], [1.0, \"#f0f921\"]], \"type\": \"histogram2d\"}], \"histogram2dcontour\": [{\"colorbar\": {\"outlinewidth\": 0, \"ticks\": \"\"}, \"colorscale\": [[0.0, \"#0d0887\"], [0.1111111111111111, \"#46039f\"], [0.2222222222222222, \"#7201a8\"], [0.3333333333333333, \"#9c179e\"], [0.4444444444444444, \"#bd3786\"], [0.5555555555555556, \"#d8576b\"], [0.6666666666666666, \"#ed7953\"], [0.7777777777777778, \"#fb9f3a\"], [0.8888888888888888, \"#fdca26\"], [1.0, \"#f0f921\"]], \"type\": \"histogram2dcontour\"}], \"mesh3d\": [{\"colorbar\": {\"outlinewidth\": 0, \"ticks\": \"\"}, \"type\": \"mesh3d\"}], \"parcoords\": [{\"line\": {\"colorbar\": {\"outlinewidth\": 0, \"ticks\": \"\"}}, \"type\": \"parcoords\"}], \"pie\": [{\"automargin\": true, \"type\": \"pie\"}], \"scatter\": [{\"marker\": {\"colorbar\": {\"outlinewidth\": 0, \"ticks\": \"\"}}, \"type\": \"scatter\"}], \"scatter3d\": [{\"line\": {\"colorbar\": {\"outlinewidth\": 0, \"ticks\": \"\"}}, \"marker\": {\"colorbar\": {\"outlinewidth\": 0, \"ticks\": \"\"}}, \"type\": \"scatter3d\"}], \"scattercarpet\": [{\"marker\": {\"colorbar\": {\"outlinewidth\": 0, \"ticks\": \"\"}}, \"type\": \"scattercarpet\"}], \"scattergeo\": [{\"marker\": {\"colorbar\": {\"outlinewidth\": 0, \"ticks\": \"\"}}, \"type\": \"scattergeo\"}], \"scattergl\": [{\"marker\": {\"colorbar\": {\"outlinewidth\": 0, \"ticks\": \"\"}}, \"type\": \"scattergl\"}], \"scattermapbox\": [{\"marker\": {\"colorbar\": {\"outlinewidth\": 0, \"ticks\": \"\"}}, \"type\": \"scattermapbox\"}], \"scatterpolar\": [{\"marker\": {\"colorbar\": {\"outlinewidth\": 0, \"ticks\": \"\"}}, \"type\": \"scatterpolar\"}], \"scatterpolargl\": [{\"marker\": {\"colorbar\": {\"outlinewidth\": 0, \"ticks\": \"\"}}, \"type\": \"scatterpolargl\"}], \"scatterternary\": [{\"marker\": {\"colorbar\": {\"outlinewidth\": 0, \"ticks\": \"\"}}, \"type\": \"scatterternary\"}], \"surface\": [{\"colorbar\": {\"outlinewidth\": 0, \"ticks\": \"\"}, \"colorscale\": [[0.0, \"#0d0887\"], [0.1111111111111111, \"#46039f\"], [0.2222222222222222, \"#7201a8\"], [0.3333333333333333, \"#9c179e\"], [0.4444444444444444, \"#bd3786\"], [0.5555555555555556, \"#d8576b\"], [0.6666666666666666, \"#ed7953\"], [0.7777777777777778, \"#fb9f3a\"], [0.8888888888888888, \"#fdca26\"], [1.0, \"#f0f921\"]], \"type\": \"surface\"}], \"table\": [{\"cells\": {\"fill\": {\"color\": \"#EBF0F8\"}, \"line\": {\"color\": \"white\"}}, \"header\": {\"fill\": {\"color\": \"#C8D4E3\"}, \"line\": {\"color\": \"white\"}}, \"type\": \"table\"}]}, \"layout\": {\"annotationdefaults\": {\"arrowcolor\": \"#2a3f5f\", \"arrowhead\": 0, \"arrowwidth\": 1}, \"coloraxis\": {\"colorbar\": {\"outlinewidth\": 0, \"ticks\": \"\"}}, \"colorscale\": {\"diverging\": [[0, \"#8e0152\"], [0.1, \"#c51b7d\"], [0.2, \"#de77ae\"], [0.3, \"#f1b6da\"], [0.4, \"#fde0ef\"], [0.5, \"#f7f7f7\"], [0.6, \"#e6f5d0\"], [0.7, \"#b8e186\"], [0.8, \"#7fbc41\"], [0.9, \"#4d9221\"], [1, \"#276419\"]], \"sequential\": [[0.0, \"#0d0887\"], [0.1111111111111111, \"#46039f\"], [0.2222222222222222, \"#7201a8\"], [0.3333333333333333, \"#9c179e\"], [0.4444444444444444, \"#bd3786\"], [0.5555555555555556, \"#d8576b\"], [0.6666666666666666, \"#ed7953\"], [0.7777777777777778, \"#fb9f3a\"], [0.8888888888888888, \"#fdca26\"], [1.0, \"#f0f921\"]], \"sequentialminus\": [[0.0, \"#0d0887\"], [0.1111111111111111, \"#46039f\"], [0.2222222222222222, \"#7201a8\"], [0.3333333333333333, \"#9c179e\"], [0.4444444444444444, \"#bd3786\"], [0.5555555555555556, \"#d8576b\"], [0.6666666666666666, \"#ed7953\"], [0.7777777777777778, \"#fb9f3a\"], [0.8888888888888888, \"#fdca26\"], [1.0, \"#f0f921\"]]}, \"colorway\": [\"#636efa\", \"#EF553B\", \"#00cc96\", \"#ab63fa\", \"#FFA15A\", \"#19d3f3\", \"#FF6692\", \"#B6E880\", \"#FF97FF\", \"#FECB52\"], \"font\": {\"color\": \"#2a3f5f\"}, \"geo\": {\"bgcolor\": \"white\", \"lakecolor\": \"white\", \"landcolor\": \"#E5ECF6\", \"showlakes\": true, \"showland\": true, \"subunitcolor\": \"white\"}, \"hoverlabel\": {\"align\": \"left\"}, \"hovermode\": \"closest\", \"mapbox\": {\"style\": \"light\"}, \"paper_bgcolor\": \"white\", \"plot_bgcolor\": \"#E5ECF6\", \"polar\": {\"angularaxis\": {\"gridcolor\": \"white\", \"linecolor\": \"white\", \"ticks\": \"\"}, \"bgcolor\": \"#E5ECF6\", \"radialaxis\": {\"gridcolor\": \"white\", \"linecolor\": \"white\", \"ticks\": \"\"}}, \"scene\": {\"xaxis\": {\"backgroundcolor\": \"#E5ECF6\", \"gridcolor\": \"white\", \"gridwidth\": 2, \"linecolor\": \"white\", \"showbackground\": true, \"ticks\": \"\", \"zerolinecolor\": \"white\"}, \"yaxis\": {\"backgroundcolor\": \"#E5ECF6\", \"gridcolor\": \"white\", \"gridwidth\": 2, \"linecolor\": \"white\", \"showbackground\": true, \"ticks\": \"\", \"zerolinecolor\": \"white\"}, \"zaxis\": {\"backgroundcolor\": \"#E5ECF6\", \"gridcolor\": \"white\", \"gridwidth\": 2, \"linecolor\": \"white\", \"showbackground\": true, \"ticks\": \"\", \"zerolinecolor\": \"white\"}}, \"shapedefaults\": {\"line\": {\"color\": \"#2a3f5f\"}}, \"ternary\": {\"aaxis\": {\"gridcolor\": \"white\", \"linecolor\": \"white\", \"ticks\": \"\"}, \"baxis\": {\"gridcolor\": \"white\", \"linecolor\": \"white\", \"ticks\": \"\"}, \"bgcolor\": \"#E5ECF6\", \"caxis\": {\"gridcolor\": \"white\", \"linecolor\": \"white\", \"ticks\": \"\"}}, \"title\": {\"x\": 0.05}, \"xaxis\": {\"automargin\": true, \"gridcolor\": \"white\", \"linecolor\": \"white\", \"ticks\": \"\", \"title\": {\"standoff\": 15}, \"zerolinecolor\": \"white\", \"zerolinewidth\": 2}, \"yaxis\": {\"automargin\": true, \"gridcolor\": \"white\", \"linecolor\": \"white\", \"ticks\": \"\", \"title\": {\"standoff\": 15}, \"zerolinecolor\": \"white\", \"zerolinewidth\": 2}}}, \"title\": {\"text\": \"other than China\"}, \"updatemenus\": [{\"buttons\": [{\"args\": [null, {\"frame\": {\"duration\": 500, \"redraw\": true}, \"fromcurrent\": true, \"mode\": \"immediate\", \"transition\": {\"duration\": 500, \"easing\": \"linear\"}}], \"label\": \"&#9654;\", \"method\": \"animate\"}, {\"args\": [[null], {\"frame\": {\"duration\": 0, \"redraw\": true}, \"fromcurrent\": true, \"mode\": \"immediate\", \"transition\": {\"duration\": 0, \"easing\": \"linear\"}}], \"label\": \"&#9724;\", \"method\": \"animate\"}], \"direction\": \"left\", \"pad\": {\"r\": 10, \"t\": 70}, \"showactive\": false, \"type\": \"buttons\", \"x\": 0.1, \"xanchor\": \"right\", \"y\": 0, \"yanchor\": \"top\"}], \"xaxis\": {\"anchor\": \"y\", \"domain\": [0.0, 1.0], \"range\": [0, 100], \"title\": {\"text\": \"Confirmed\"}}, \"yaxis\": {\"anchor\": \"x\", \"categoryorder\": \"total ascending\", \"domain\": [0.0, 1.0], \"title\": {\"text\": \"Country\"}}},\n",
       "                        {\"responsive\": true}\n",
       "                    ).then(function(){\n",
       "                            Plotly.addFrames('75c153b5-66a7-4a1d-9a74-ac31c898ea97', [{\"data\": [{\"alignmentgroup\": \"True\", \"hoverlabel\": {\"namelength\": 0}, \"hovertemplate\": \"<b>%{hovertext}</b><br><br>Date=01/22/2020 12:00:00<br>Confirmed=%{marker.color}<br>Country=%{y}\", \"hovertext\": [\"US\", \"Japan\", \"Thailand\", \"South Korea\"], \"legendgroup\": \"\", \"marker\": {\"color\": [1.0, 2.0, 2.0, 1.0], \"coloraxis\": \"coloraxis\"}, \"name\": \"\", \"offsetgroup\": \"\", \"orientation\": \"h\", \"showlegend\": false, \"textposition\": \"auto\", \"x\": [1.0, 2.0, 2.0, 1.0], \"xaxis\": \"x\", \"y\": [\"US\", \"Japan\", \"Thailand\", \"South Korea\"], \"yaxis\": \"y\", \"type\": \"bar\"}], \"name\": \"01/22/2020 12:00:00\"}, {\"data\": [{\"alignmentgroup\": \"True\", \"hoverlabel\": {\"namelength\": 0}, \"hovertemplate\": \"<b>%{hovertext}</b><br><br>Date=01/23/2020 12:00:00<br>Confirmed=%{marker.color}<br>Country=%{y}\", \"hovertext\": [\"US\", \"Japan\", \"Thailand\", \"South Korea\", \"Singapore\", \"Philippines\", \"Malaysia\", \"Vietnam\", \"Australia\", \"Mexico\", \"Brazil\"], \"legendgroup\": \"\", \"marker\": {\"color\": [1.0, 1.0, 3.0, 1.0, 1.0, 0.0, 0.0, 2.0, 0.0, 0.0, 0.0], \"coloraxis\": \"coloraxis\"}, \"name\": \"\", \"offsetgroup\": \"\", \"orientation\": \"h\", \"showlegend\": false, \"textposition\": \"auto\", \"x\": [1.0, 1.0, 3.0, 1.0, 1.0, 0.0, 0.0, 2.0, 0.0, 0.0, 0.0], \"xaxis\": \"x\", \"y\": [\"US\", \"Japan\", \"Thailand\", \"South Korea\", \"Singapore\", \"Philippines\", \"Malaysia\", \"Vietnam\", \"Australia\", \"Mexico\", \"Brazil\"], \"yaxis\": \"y\", \"type\": \"bar\"}], \"name\": \"01/23/2020 12:00:00\"}, {\"data\": [{\"alignmentgroup\": \"True\", \"hoverlabel\": {\"namelength\": 0}, \"hovertemplate\": \"<b>%{hovertext}</b><br><br>Date=01/24/2020 12:00:00<br>Confirmed=%{marker.color}<br>Country=%{y}\", \"hovertext\": [\"US\", \"US\", \"Japan\", \"Thailand\", \"South Korea\", \"Singapore\", \"Vietnam\", \"France\"], \"legendgroup\": \"\", \"marker\": {\"color\": [1.0, 1.0, 2.0, 5.0, 2.0, 3.0, 2.0, 2.0], \"coloraxis\": \"coloraxis\"}, \"name\": \"\", \"offsetgroup\": \"\", \"orientation\": \"h\", \"showlegend\": false, \"textposition\": \"auto\", \"x\": [1.0, 1.0, 2.0, 5.0, 2.0, 3.0, 2.0, 2.0], \"xaxis\": \"x\", \"y\": [\"US\", \"US\", \"Japan\", \"Thailand\", \"South Korea\", \"Singapore\", \"Vietnam\", \"France\"], \"yaxis\": \"y\", \"type\": \"bar\"}], \"name\": \"01/24/2020 12:00:00\"}, {\"data\": [{\"alignmentgroup\": \"True\", \"hoverlabel\": {\"namelength\": 0}, \"hovertemplate\": \"<b>%{hovertext}</b><br><br>Date=01/25/2020 22:00:00<br>Confirmed=%{marker.color}<br>Country=%{y}\", \"hovertext\": [\"US\", \"US\", \"Japan\", \"Thailand\", \"South Korea\", \"Singapore\", \"Vietnam\", \"France\", \"Australia\", \"Nepal\", \"Malaysia\"], \"legendgroup\": \"\", \"marker\": {\"color\": [1.0, 1.0, 2.0, 7.0, 3.0, 3.0, 2.0, 3.0, 4.0, 1.0, 3.0], \"coloraxis\": \"coloraxis\"}, \"name\": \"\", \"offsetgroup\": \"\", \"orientation\": \"h\", \"showlegend\": false, \"textposition\": \"auto\", \"x\": [1.0, 1.0, 2.0, 7.0, 3.0, 3.0, 2.0, 3.0, 4.0, 1.0, 3.0], \"xaxis\": \"x\", \"y\": [\"US\", \"US\", \"Japan\", \"Thailand\", \"South Korea\", \"Singapore\", \"Vietnam\", \"France\", \"Australia\", \"Nepal\", \"Malaysia\"], \"yaxis\": \"y\", \"type\": \"bar\"}], \"name\": \"01/25/2020 22:00:00\"}, {\"data\": [{\"alignmentgroup\": \"True\", \"hoverlabel\": {\"namelength\": 0}, \"hovertemplate\": \"<b>%{hovertext}</b><br><br>Date=01/26/2020 23:00:00<br>Confirmed=%{marker.color}<br>Country=%{y}\", \"hovertext\": [\"US\", \"US\", \"US\", \"US\", \"Japan\", \"Thailand\", \"South Korea\", \"Singapore\", \"Vietnam\", \"France\", \"Australia\", \"Nepal\", \"Malaysia\", \"Canada\"], \"legendgroup\": \"\", \"marker\": {\"color\": [1.0, 1.0, 2.0, 1.0, 4.0, 8.0, 3.0, 4.0, 2.0, 3.0, 4.0, 1.0, 4.0, 1.0], \"coloraxis\": \"coloraxis\"}, \"name\": \"\", \"offsetgroup\": \"\", \"orientation\": \"h\", \"showlegend\": false, \"textposition\": \"auto\", \"x\": [1.0, 1.0, 2.0, 1.0, 4.0, 8.0, 3.0, 4.0, 2.0, 3.0, 4.0, 1.0, 4.0, 1.0], \"xaxis\": \"x\", \"y\": [\"US\", \"US\", \"US\", \"US\", \"Japan\", \"Thailand\", \"South Korea\", \"Singapore\", \"Vietnam\", \"France\", \"Australia\", \"Nepal\", \"Malaysia\", \"Canada\"], \"yaxis\": \"y\", \"type\": \"bar\"}], \"name\": \"01/26/2020 23:00:00\"}, {\"data\": [{\"alignmentgroup\": \"True\", \"hoverlabel\": {\"namelength\": 0}, \"hovertemplate\": \"<b>%{hovertext}</b><br><br>Date=01/27/2020 20:30:00<br>Confirmed=%{marker.color}<br>Country=%{y}\", \"hovertext\": [\"US\", \"US\", \"US\", \"US\", \"Japan\", \"Thailand\", \"South Korea\", \"Singapore\", \"Vietnam\", \"France\", \"Nepal\", \"Malaysia\", \"Canada\", \"Cambodia\", \"Sri Lanka\", \"Ivory Coast\", \"Australia\", \"Australia\", \"Germany\"], \"legendgroup\": \"\", \"marker\": {\"color\": [1.0, 1.0, 2.0, 1.0, 4.0, 8.0, 4.0, 5.0, 2.0, 3.0, 1.0, 4.0, 1.0, 1.0, 1.0, 0.0, 4.0, 1.0, 1.0], \"coloraxis\": \"coloraxis\"}, \"name\": \"\", \"offsetgroup\": \"\", \"orientation\": \"h\", \"showlegend\": false, \"textposition\": \"auto\", \"x\": [1.0, 1.0, 2.0, 1.0, 4.0, 8.0, 4.0, 5.0, 2.0, 3.0, 1.0, 4.0, 1.0, 1.0, 1.0, 0.0, 4.0, 1.0, 1.0], \"xaxis\": \"x\", \"y\": [\"US\", \"US\", \"US\", \"US\", \"Japan\", \"Thailand\", \"South Korea\", \"Singapore\", \"Vietnam\", \"France\", \"Nepal\", \"Malaysia\", \"Canada\", \"Cambodia\", \"Sri Lanka\", \"Ivory Coast\", \"Australia\", \"Australia\", \"Germany\"], \"yaxis\": \"y\", \"type\": \"bar\"}], \"name\": \"01/27/2020 20:30:00\"}, {\"data\": [{\"alignmentgroup\": \"True\", \"hoverlabel\": {\"namelength\": 0}, \"hovertemplate\": \"<b>%{hovertext}</b><br><br>Date=01/28/2020 23:00:00<br>Confirmed=%{marker.color}<br>Country=%{y}\", \"hovertext\": [\"US\", \"US\", \"US\", \"US\", \"Japan\", \"Thailand\", \"South Korea\", \"Singapore\", \"Vietnam\", \"France\", \"Nepal\", \"Malaysia\", \"Canada\", \"Canada\", \"Cambodia\", \"Sri Lanka\", \"Australia\", \"Australia\", \"Germany\"], \"legendgroup\": \"\", \"marker\": {\"color\": [1.0, 1.0, 2.0, 1.0, 7.0, 14.0, 4.0, 7.0, 2.0, 4.0, 1.0, 7.0, 1.0, 1.0, 1.0, 1.0, 4.0, 1.0, 4.0], \"coloraxis\": \"coloraxis\"}, \"name\": \"\", \"offsetgroup\": \"\", \"orientation\": \"h\", \"showlegend\": false, \"textposition\": \"auto\", \"x\": [1.0, 1.0, 2.0, 1.0, 7.0, 14.0, 4.0, 7.0, 2.0, 4.0, 1.0, 7.0, 1.0, 1.0, 1.0, 1.0, 4.0, 1.0, 4.0], \"xaxis\": \"x\", \"y\": [\"US\", \"US\", \"US\", \"US\", \"Japan\", \"Thailand\", \"South Korea\", \"Singapore\", \"Vietnam\", \"France\", \"Nepal\", \"Malaysia\", \"Canada\", \"Canada\", \"Cambodia\", \"Sri Lanka\", \"Australia\", \"Australia\", \"Germany\"], \"yaxis\": \"y\", \"type\": \"bar\"}], \"name\": \"01/28/2020 23:00:00\"}, {\"data\": [{\"alignmentgroup\": \"True\", \"hoverlabel\": {\"namelength\": 0}, \"hovertemplate\": \"<b>%{hovertext}</b><br><br>Date=01/29/2020 21:00:00<br>Confirmed=%{marker.color}<br>Country=%{y}\", \"hovertext\": [\"US\", \"US\", \"US\", \"US\", \"Japan\", \"Thailand\", \"South Korea\", \"Singapore\", \"Vietnam\", \"France\", \"Nepal\", \"Malaysia\", \"Canada\", \"Canada\", \"Cambodia\", \"Sri Lanka\", \"Australia\", \"Australia\", \"Australia\", \"Germany\", \"Finland\", \"United Arab Emirates\"], \"legendgroup\": \"\", \"marker\": {\"color\": [1.0, 1.0, 2.0, 1.0, 11.0, 14.0, 4.0, 10.0, 2.0, 5.0, 1.0, 7.0, 2.0, 1.0, 1.0, 1.0, 4.0, 2.0, 1.0, 4.0, 1.0, 4.0], \"coloraxis\": \"coloraxis\"}, \"name\": \"\", \"offsetgroup\": \"\", \"orientation\": \"h\", \"showlegend\": false, \"textposition\": \"auto\", \"x\": [1.0, 1.0, 2.0, 1.0, 11.0, 14.0, 4.0, 10.0, 2.0, 5.0, 1.0, 7.0, 2.0, 1.0, 1.0, 1.0, 4.0, 2.0, 1.0, 4.0, 1.0, 4.0], \"xaxis\": \"x\", \"y\": [\"US\", \"US\", \"US\", \"US\", \"Japan\", \"Thailand\", \"South Korea\", \"Singapore\", \"Vietnam\", \"France\", \"Nepal\", \"Malaysia\", \"Canada\", \"Canada\", \"Cambodia\", \"Sri Lanka\", \"Australia\", \"Australia\", \"Australia\", \"Germany\", \"Finland\", \"United Arab Emirates\"], \"yaxis\": \"y\", \"type\": \"bar\"}], \"name\": \"01/29/2020 21:00:00\"}, {\"data\": [{\"alignmentgroup\": \"True\", \"hoverlabel\": {\"namelength\": 0}, \"hovertemplate\": \"<b>%{hovertext}</b><br><br>Date=01/30/2020 21:30:00<br>Confirmed=%{marker.color}<br>Country=%{y}\", \"hovertext\": [\"US\", \"US\", \"US\", \"US\", \"Japan\", \"Thailand\", \"South Korea\", \"Singapore\", \"Vietnam\", \"France\", \"Nepal\", \"Malaysia\", \"Canada\", \"Canada\", \"Cambodia\", \"Sri Lanka\", \"Australia\", \"Australia\", \"Australia\", \"Germany\", \"Finland\", \"United Arab Emirates\", \"Philippines\", \"India\", \"Italy\"], \"legendgroup\": \"\", \"marker\": {\"color\": [1.0, 2.0, 2.0, 1.0, 11.0, 14.0, 6.0, 10.0, 2.0, 5.0, 1.0, 8.0, 2.0, 1.0, 1.0, 1.0, 4.0, 2.0, 3.0, 4.0, 1.0, 4.0, 1.0, 1.0, 2.0], \"coloraxis\": \"coloraxis\"}, \"name\": \"\", \"offsetgroup\": \"\", \"orientation\": \"h\", \"showlegend\": false, \"textposition\": \"auto\", \"x\": [1.0, 2.0, 2.0, 1.0, 11.0, 14.0, 6.0, 10.0, 2.0, 5.0, 1.0, 8.0, 2.0, 1.0, 1.0, 1.0, 4.0, 2.0, 3.0, 4.0, 1.0, 4.0, 1.0, 1.0, 2.0], \"xaxis\": \"x\", \"y\": [\"US\", \"US\", \"US\", \"US\", \"Japan\", \"Thailand\", \"South Korea\", \"Singapore\", \"Vietnam\", \"France\", \"Nepal\", \"Malaysia\", \"Canada\", \"Canada\", \"Cambodia\", \"Sri Lanka\", \"Australia\", \"Australia\", \"Australia\", \"Germany\", \"Finland\", \"United Arab Emirates\", \"Philippines\", \"India\", \"Italy\"], \"yaxis\": \"y\", \"type\": \"bar\"}], \"name\": \"01/30/2020 21:30:00\"}, {\"data\": [{\"alignmentgroup\": \"True\", \"hoverlabel\": {\"namelength\": 0}, \"hovertemplate\": \"<b>%{hovertext}</b><br><br>Date=01/31/2020 19:00:00<br>Confirmed=%{marker.color}<br>Country=%{y}\", \"hovertext\": [\"US\", \"US\", \"US\", \"US\", \"Japan\", \"Thailand\", \"South Korea\", \"Singapore\", \"Vietnam\", \"France\", \"Nepal\", \"Malaysia\", \"Canada\", \"Canada\", \"Cambodia\", \"Sri Lanka\", \"Australia\", \"Australia\", \"Australia\", \"Germany\", \"Finland\", \"United Arab Emirates\", \"Philippines\", \"India\", \"Italy\", \"Sweden\", \"Russia\", \"Spain\", \"UK\"], \"legendgroup\": \"\", \"marker\": {\"color\": [1.0, 2.0, 3.0, 1.0, 17.0, 19.0, 11.0, 16.0, 2.0, 6.0, 1.0, 8.0, 2.0, 1.0, 1.0, 1.0, 4.0, 2.0, 3.0, 7.0, 1.0, 4.0, 1.0, 1.0, 2.0, 1.0, 2.0, 1.0, 2.0], \"coloraxis\": \"coloraxis\"}, \"name\": \"\", \"offsetgroup\": \"\", \"orientation\": \"h\", \"showlegend\": false, \"textposition\": \"auto\", \"x\": [1.0, 2.0, 3.0, 1.0, 17.0, 19.0, 11.0, 16.0, 2.0, 6.0, 1.0, 8.0, 2.0, 1.0, 1.0, 1.0, 4.0, 2.0, 3.0, 7.0, 1.0, 4.0, 1.0, 1.0, 2.0, 1.0, 2.0, 1.0, 2.0], \"xaxis\": \"x\", \"y\": [\"US\", \"US\", \"US\", \"US\", \"Japan\", \"Thailand\", \"South Korea\", \"Singapore\", \"Vietnam\", \"France\", \"Nepal\", \"Malaysia\", \"Canada\", \"Canada\", \"Cambodia\", \"Sri Lanka\", \"Australia\", \"Australia\", \"Australia\", \"Germany\", \"Finland\", \"United Arab Emirates\", \"Philippines\", \"India\", \"Italy\", \"Sweden\", \"Russia\", \"Spain\", \"UK\"], \"yaxis\": \"y\", \"type\": \"bar\"}], \"name\": \"01/31/2020 19:00:00\"}, {\"data\": [{\"alignmentgroup\": \"True\", \"hoverlabel\": {\"namelength\": 0}, \"hovertemplate\": \"<b>%{hovertext}</b><br><br>Date=02/01/2020 23:00:00<br>Confirmed=%{marker.color}<br>Country=%{y}\", \"hovertext\": [\"Japan\", \"Thailand\", \"Singapore\", \"South Korea\", \"Germany\", \"Malaysia\", \"France\", \"Vietnam\", \"Australia\", \"Australia\", \"United Arab Emirates\", \"Australia\", \"Canada\", \"Italy\", \"Philippines\", \"Russia\", \"UK\", \"US\", \"Australia\", \"Cambodia\", \"Canada\", \"Finland\", \"India\", \"Nepal\", \"Spain\", \"Sri Lanka\", \"Sweden\", \"US\", \"US\", \"US\", \"US\", \"US\", \"US\"], \"legendgroup\": \"\", \"marker\": {\"color\": [20.0, 19.0, 18.0, 15.0, 8.0, 8.0, 6.0, 6.0, 4.0, 4.0, 4.0, 2.0, 3.0, 2.0, 2.0, 2.0, 2.0, 2.0, 2.0, 1.0, 1.0, 1.0, 1.0, 1.0, 1.0, 1.0, 1.0, 1.0, 1.0, 1.0, 1.0, 1.0, 1.0], \"coloraxis\": \"coloraxis\"}, \"name\": \"\", \"offsetgroup\": \"\", \"orientation\": \"h\", \"showlegend\": false, \"textposition\": \"auto\", \"x\": [20.0, 19.0, 18.0, 15.0, 8.0, 8.0, 6.0, 6.0, 4.0, 4.0, 4.0, 2.0, 3.0, 2.0, 2.0, 2.0, 2.0, 2.0, 2.0, 1.0, 1.0, 1.0, 1.0, 1.0, 1.0, 1.0, 1.0, 1.0, 1.0, 1.0, 1.0, 1.0, 1.0], \"xaxis\": \"x\", \"y\": [\"Japan\", \"Thailand\", \"Singapore\", \"South Korea\", \"Germany\", \"Malaysia\", \"France\", \"Vietnam\", \"Australia\", \"Australia\", \"United Arab Emirates\", \"Australia\", \"Canada\", \"Italy\", \"Philippines\", \"Russia\", \"UK\", \"US\", \"Australia\", \"Cambodia\", \"Canada\", \"Finland\", \"India\", \"Nepal\", \"Spain\", \"Sri Lanka\", \"Sweden\", \"US\", \"US\", \"US\", \"US\", \"US\", \"US\"], \"yaxis\": \"y\", \"type\": \"bar\"}], \"name\": \"02/01/2020 23:00:00\"}, {\"data\": [{\"alignmentgroup\": \"True\", \"hoverlabel\": {\"namelength\": 0}, \"hovertemplate\": \"<b>%{hovertext}</b><br><br>Date=02/02/2020 21:00:00<br>Confirmed=%{marker.color}<br>Country=%{y}\", \"hovertext\": [\"Japan\", \"Thailand\", \"Singapore\", \"South Korea\", \"Germany\", \"Malaysia\", \"France\", \"Vietnam\", \"United Arab Emirates\", \"Australia\", \"Australia\", \"Canada\", \"Australia\", \"Australia\", \"India\", \"Italy\", \"Philippines\", \"Russia\", \"UK\", \"US\", \"US\", \"Cambodia\", \"Canada\", \"Finland\", \"Nepal\", \"Spain\", \"Sri Lanka\", \"Sweden\", \"US\", \"US\", \"US\", \"US\", \"US\"], \"legendgroup\": \"\", \"marker\": {\"color\": [20.0, 19.0, 18.0, 15.0, 10.0, 8.0, 6.0, 6.0, 5.0, 4.0, 4.0, 3.0, 2.0, 2.0, 2.0, 2.0, 2.0, 2.0, 2.0, 2.0, 2.0, 1.0, 1.0, 1.0, 1.0, 1.0, 1.0, 1.0, 1.0, 1.0, 1.0, 1.0, 1.0], \"coloraxis\": \"coloraxis\"}, \"name\": \"\", \"offsetgroup\": \"\", \"orientation\": \"h\", \"showlegend\": false, \"textposition\": \"auto\", \"x\": [20.0, 19.0, 18.0, 15.0, 10.0, 8.0, 6.0, 6.0, 5.0, 4.0, 4.0, 3.0, 2.0, 2.0, 2.0, 2.0, 2.0, 2.0, 2.0, 2.0, 2.0, 1.0, 1.0, 1.0, 1.0, 1.0, 1.0, 1.0, 1.0, 1.0, 1.0, 1.0, 1.0], \"xaxis\": \"x\", \"y\": [\"Japan\", \"Thailand\", \"Singapore\", \"South Korea\", \"Germany\", \"Malaysia\", \"France\", \"Vietnam\", \"United Arab Emirates\", \"Australia\", \"Australia\", \"Canada\", \"Australia\", \"Australia\", \"India\", \"Italy\", \"Philippines\", \"Russia\", \"UK\", \"US\", \"US\", \"Cambodia\", \"Canada\", \"Finland\", \"Nepal\", \"Spain\", \"Sri Lanka\", \"Sweden\", \"US\", \"US\", \"US\", \"US\", \"US\"], \"yaxis\": \"y\", \"type\": \"bar\"}], \"name\": \"02/02/2020 21:00:00\"}, {\"data\": [{\"alignmentgroup\": \"True\", \"hoverlabel\": {\"namelength\": 0}, \"hovertemplate\": \"<b>%{hovertext}</b><br><br>Date=02/03/2020 21:40:00<br>Confirmed=%{marker.color}<br>Country=%{y}\", \"hovertext\": [\"Japan\", \"Thailand\", \"Singapore\", \"South Korea\", \"Germany\", \"Malaysia\", \"Vietnam\", \"France\", \"United Arab Emirates\", \"Australia\", \"Australia\", \"India\", \"Australia\", \"Australia\", \"Canada\", \"Italy\", \"Philippines\", \"Russia\", \"UK\", \"US\", \"US\", \"US\", \"Cambodia\", \"Canada\", \"Canada\", \"Finland\", \"Nepal\", \"Spain\", \"Sri Lanka\", \"Sweden\", \"US\", \"US\", \"US\", \"US\", \"US\"], \"legendgroup\": \"\", \"marker\": {\"color\": [20.0, 19.0, 18.0, 15.0, 12.0, 8.0, 8.0, 6.0, 5.0, 4.0, 4.0, 3.0, 2.0, 2.0, 2.0, 2.0, 2.0, 2.0, 2.0, 2.0, 2.0, 2.0, 1.0, 1.0, 1.0, 1.0, 1.0, 1.0, 1.0, 1.0, 1.0, 1.0, 1.0, 1.0, 1.0], \"coloraxis\": \"coloraxis\"}, \"name\": \"\", \"offsetgroup\": \"\", \"orientation\": \"h\", \"showlegend\": false, \"textposition\": \"auto\", \"x\": [20.0, 19.0, 18.0, 15.0, 12.0, 8.0, 8.0, 6.0, 5.0, 4.0, 4.0, 3.0, 2.0, 2.0, 2.0, 2.0, 2.0, 2.0, 2.0, 2.0, 2.0, 2.0, 1.0, 1.0, 1.0, 1.0, 1.0, 1.0, 1.0, 1.0, 1.0, 1.0, 1.0, 1.0, 1.0], \"xaxis\": \"x\", \"y\": [\"Japan\", \"Thailand\", \"Singapore\", \"South Korea\", \"Germany\", \"Malaysia\", \"Vietnam\", \"France\", \"United Arab Emirates\", \"Australia\", \"Australia\", \"India\", \"Australia\", \"Australia\", \"Canada\", \"Italy\", \"Philippines\", \"Russia\", \"UK\", \"US\", \"US\", \"US\", \"Cambodia\", \"Canada\", \"Canada\", \"Finland\", \"Nepal\", \"Spain\", \"Sri Lanka\", \"Sweden\", \"US\", \"US\", \"US\", \"US\", \"US\"], \"yaxis\": \"y\", \"type\": \"bar\"}], \"name\": \"02/03/2020 21:40:00\"}, {\"data\": [{\"alignmentgroup\": \"True\", \"hoverlabel\": {\"namelength\": 0}, \"hovertemplate\": \"<b>%{hovertext}</b><br><br>Date=02/04/2020 22:00:00<br>Confirmed=%{marker.color}<br>Country=%{y}\", \"hovertext\": [\"Thailand\", \"Singapore\", \"Japan\", \"South Korea\", \"Germany\", \"Malaysia\", \"Vietnam\", \"France\", \"United Arab Emirates\", \"Australia\", \"Australia\", \"Australia\", \"India\", \"Australia\", \"Canada\", \"Italy\", \"Philippines\", \"Russia\", \"UK\", \"US\", \"US\", \"US\", \"Belgium\", \"Cambodia\", \"Canada\", \"Canada\", \"Finland\", \"Nepal\", \"Spain\", \"Sri Lanka\", \"Sweden\", \"US\", \"US\", \"US\", \"US\", \"US\"], \"legendgroup\": \"\", \"marker\": {\"color\": [25.0, 24.0, 22.0, 16.0, 12.0, 10.0, 8.0, 6.0, 5.0, 4.0, 4.0, 3.0, 3.0, 2.0, 2.0, 2.0, 2.0, 2.0, 2.0, 2.0, 2.0, 2.0, 1.0, 1.0, 1.0, 1.0, 1.0, 1.0, 1.0, 1.0, 1.0, 1.0, 1.0, 1.0, 1.0, 1.0], \"coloraxis\": \"coloraxis\"}, \"name\": \"\", \"offsetgroup\": \"\", \"orientation\": \"h\", \"showlegend\": false, \"textposition\": \"auto\", \"x\": [25.0, 24.0, 22.0, 16.0, 12.0, 10.0, 8.0, 6.0, 5.0, 4.0, 4.0, 3.0, 3.0, 2.0, 2.0, 2.0, 2.0, 2.0, 2.0, 2.0, 2.0, 2.0, 1.0, 1.0, 1.0, 1.0, 1.0, 1.0, 1.0, 1.0, 1.0, 1.0, 1.0, 1.0, 1.0, 1.0], \"xaxis\": \"x\", \"y\": [\"Thailand\", \"Singapore\", \"Japan\", \"South Korea\", \"Germany\", \"Malaysia\", \"Vietnam\", \"France\", \"United Arab Emirates\", \"Australia\", \"Australia\", \"Australia\", \"India\", \"Australia\", \"Canada\", \"Italy\", \"Philippines\", \"Russia\", \"UK\", \"US\", \"US\", \"US\", \"Belgium\", \"Cambodia\", \"Canada\", \"Canada\", \"Finland\", \"Nepal\", \"Spain\", \"Sri Lanka\", \"Sweden\", \"US\", \"US\", \"US\", \"US\", \"US\"], \"yaxis\": \"y\", \"type\": \"bar\"}], \"name\": \"02/04/2020 22:00:00\"}, {\"data\": [{\"alignmentgroup\": \"True\", \"hoverlabel\": {\"namelength\": 0}, \"hovertemplate\": \"<b>%{hovertext}</b><br><br>Date=02/05/2020 12:20:00<br>Confirmed=%{marker.color}<br>Country=%{y}\", \"hovertext\": [\"Singapore\", \"Thailand\", \"Japan\", \"South Korea\", \"Germany\", \"Malaysia\", \"Vietnam\", \"France\", \"United Arab Emirates\", \"Australia\", \"Australia\", \"Australia\", \"India\", \"Australia\", \"Canada\", \"Italy\", \"Philippines\", \"Russia\", \"UK\", \"US\", \"US\", \"US\", \"Belgium\", \"Cambodia\", \"Canada\", \"Canada\", \"Finland\", \"Nepal\", \"Spain\", \"Sri Lanka\", \"Sweden\", \"US\", \"US\", \"US\", \"US\", \"US\"], \"legendgroup\": \"\", \"marker\": {\"color\": [28.0, 25.0, 22.0, 19.0, 12.0, 12.0, 8.0, 6.0, 5.0, 4.0, 4.0, 3.0, 3.0, 2.0, 2.0, 2.0, 2.0, 2.0, 2.0, 2.0, 2.0, 2.0, 1.0, 1.0, 1.0, 1.0, 1.0, 1.0, 1.0, 1.0, 1.0, 1.0, 1.0, 1.0, 1.0, 1.0], \"coloraxis\": \"coloraxis\"}, \"name\": \"\", \"offsetgroup\": \"\", \"orientation\": \"h\", \"showlegend\": false, \"textposition\": \"auto\", \"x\": [28.0, 25.0, 22.0, 19.0, 12.0, 12.0, 8.0, 6.0, 5.0, 4.0, 4.0, 3.0, 3.0, 2.0, 2.0, 2.0, 2.0, 2.0, 2.0, 2.0, 2.0, 2.0, 1.0, 1.0, 1.0, 1.0, 1.0, 1.0, 1.0, 1.0, 1.0, 1.0, 1.0, 1.0, 1.0, 1.0], \"xaxis\": \"x\", \"y\": [\"Singapore\", \"Thailand\", \"Japan\", \"South Korea\", \"Germany\", \"Malaysia\", \"Vietnam\", \"France\", \"United Arab Emirates\", \"Australia\", \"Australia\", \"Australia\", \"India\", \"Australia\", \"Canada\", \"Italy\", \"Philippines\", \"Russia\", \"UK\", \"US\", \"US\", \"US\", \"Belgium\", \"Cambodia\", \"Canada\", \"Canada\", \"Finland\", \"Nepal\", \"Spain\", \"Sri Lanka\", \"Sweden\", \"US\", \"US\", \"US\", \"US\", \"US\"], \"yaxis\": \"y\", \"type\": \"bar\"}], \"name\": \"02/05/2020 12:20:00\"}, {\"data\": [{\"alignmentgroup\": \"True\", \"hoverlabel\": {\"namelength\": 0}, \"hovertemplate\": \"<b>%{hovertext}</b><br><br>Date=02/06/2020 20:05:00<br>Confirmed=%{marker.color}<br>Country=%{y}\", \"hovertext\": [\"Japan\", \"Singapore\", \"Thailand\", \"South Korea\", \"Germany\", \"Malaysia\", \"Vietnam\", \"France\", \"United Arab Emirates\", \"Australia\", \"Australia\", \"Australia\", \"India\", \"Australia\", \"Canada\", \"Canada\", \"Italy\", \"Philippines\", \"Russia\", \"UK\", \"US\", \"US\", \"US\", \"Belgium\", \"Cambodia\", \"Canada\", \"Finland\", \"Nepal\", \"Spain\", \"Sri Lanka\", \"Sweden\", \"US\", \"US\", \"US\", \"US\", \"US\", \"US\"], \"legendgroup\": \"\", \"marker\": {\"color\": [45.0, 28.0, 25.0, 23.0, 12.0, 12.0, 10.0, 6.0, 5.0, 4.0, 4.0, 4.0, 3.0, 2.0, 2.0, 2.0, 2.0, 2.0, 2.0, 2.0, 2.0, 2.0, 2.0, 1.0, 1.0, 1.0, 1.0, 1.0, 1.0, 1.0, 1.0, 1.0, 1.0, 1.0, 1.0, 1.0, 1.0], \"coloraxis\": \"coloraxis\"}, \"name\": \"\", \"offsetgroup\": \"\", \"orientation\": \"h\", \"showlegend\": false, \"textposition\": \"auto\", \"x\": [45.0, 28.0, 25.0, 23.0, 12.0, 12.0, 10.0, 6.0, 5.0, 4.0, 4.0, 4.0, 3.0, 2.0, 2.0, 2.0, 2.0, 2.0, 2.0, 2.0, 2.0, 2.0, 2.0, 1.0, 1.0, 1.0, 1.0, 1.0, 1.0, 1.0, 1.0, 1.0, 1.0, 1.0, 1.0, 1.0, 1.0], \"xaxis\": \"x\", \"y\": [\"Japan\", \"Singapore\", \"Thailand\", \"South Korea\", \"Germany\", \"Malaysia\", \"Vietnam\", \"France\", \"United Arab Emirates\", \"Australia\", \"Australia\", \"Australia\", \"India\", \"Australia\", \"Canada\", \"Canada\", \"Italy\", \"Philippines\", \"Russia\", \"UK\", \"US\", \"US\", \"US\", \"Belgium\", \"Cambodia\", \"Canada\", \"Finland\", \"Nepal\", \"Spain\", \"Sri Lanka\", \"Sweden\", \"US\", \"US\", \"US\", \"US\", \"US\", \"US\"], \"yaxis\": \"y\", \"type\": \"bar\"}], \"name\": \"02/06/2020 20:05:00\"}, {\"data\": [{\"alignmentgroup\": \"True\", \"hoverlabel\": {\"namelength\": 0}, \"hovertemplate\": \"<b>%{hovertext}</b><br><br>Date=02/07/2020 20:24:00<br>Confirmed=%{marker.color}<br>Country=%{y}\", \"hovertext\": [\"Singapore\", \"Japan\", \"Thailand\", \"South Korea\", \"Germany\", \"Malaysia\", \"Vietnam\", \"France\", \"Australia\", \"United Arab Emirates\", \"Australia\", \"Australia\", \"Canada\", \"India\", \"Italy\", \"Philippines\", \"UK\", \"Australia\", \"Canada\", \"Russia\", \"US\", \"US\", \"US\", \"Belgium\", \"Cambodia\", \"Canada\", \"Finland\", \"Nepal\", \"Spain\", \"Sri Lanka\", \"Sweden\", \"US\", \"US\", \"US\", \"US\", \"US\", \"US\"], \"legendgroup\": \"\", \"marker\": {\"color\": [30.0, 25.0, 25.0, 24.0, 13.0, 12.0, 10.0, 6.0, 5.0, 5.0, 4.0, 4.0, 4.0, 3.0, 3.0, 3.0, 3.0, 2.0, 2.0, 2.0, 2.0, 2.0, 2.0, 1.0, 1.0, 1.0, 1.0, 1.0, 1.0, 1.0, 1.0, 1.0, 1.0, 1.0, 1.0, 1.0, 1.0], \"coloraxis\": \"coloraxis\"}, \"name\": \"\", \"offsetgroup\": \"\", \"orientation\": \"h\", \"showlegend\": false, \"textposition\": \"auto\", \"x\": [30.0, 25.0, 25.0, 24.0, 13.0, 12.0, 10.0, 6.0, 5.0, 5.0, 4.0, 4.0, 4.0, 3.0, 3.0, 3.0, 3.0, 2.0, 2.0, 2.0, 2.0, 2.0, 2.0, 1.0, 1.0, 1.0, 1.0, 1.0, 1.0, 1.0, 1.0, 1.0, 1.0, 1.0, 1.0, 1.0, 1.0], \"xaxis\": \"x\", \"y\": [\"Singapore\", \"Japan\", \"Thailand\", \"South Korea\", \"Germany\", \"Malaysia\", \"Vietnam\", \"France\", \"Australia\", \"United Arab Emirates\", \"Australia\", \"Australia\", \"Canada\", \"India\", \"Italy\", \"Philippines\", \"UK\", \"Australia\", \"Canada\", \"Russia\", \"US\", \"US\", \"US\", \"Belgium\", \"Cambodia\", \"Canada\", \"Finland\", \"Nepal\", \"Spain\", \"Sri Lanka\", \"Sweden\", \"US\", \"US\", \"US\", \"US\", \"US\", \"US\"], \"yaxis\": \"y\", \"type\": \"bar\"}], \"name\": \"02/07/2020 20:24:00\"}, {\"data\": [{\"alignmentgroup\": \"True\", \"hoverlabel\": {\"namelength\": 0}, \"hovertemplate\": \"<b>%{hovertext}</b><br><br>Date=02/08/2020 23:04:00<br>Confirmed=%{marker.color}<br>Country=%{y}\", \"hovertext\": [\"Singapore\", \"Thailand\", \"Japan\", \"South Korea\", \"Malaysia\", \"Germany\", \"Vietnam\", \"France\", \"United Arab Emirates\", \"Australia\", \"Australia\", \"Australia\", \"Canada\", \"India\", \"Italy\", \"Philippines\", \"UK\", \"Australia\", \"Canada\", \"Russia\", \"US\", \"US\", \"US\", \"Belgium\", \"Cambodia\", \"Canada\", \"Finland\", \"Nepal\", \"Spain\", \"Sri Lanka\", \"Sweden\", \"US\", \"US\", \"US\", \"US\", \"US\", \"US\"], \"legendgroup\": \"\", \"marker\": {\"color\": [40.0, 32.0, 25.0, 25.0, 16.0, 13.0, 13.0, 11.0, 7.0, 5.0, 4.0, 4.0, 4.0, 3.0, 3.0, 3.0, 3.0, 2.0, 2.0, 2.0, 2.0, 2.0, 2.0, 1.0, 1.0, 1.0, 1.0, 1.0, 1.0, 1.0, 1.0, 1.0, 1.0, 1.0, 1.0, 1.0, 1.0], \"coloraxis\": \"coloraxis\"}, \"name\": \"\", \"offsetgroup\": \"\", \"orientation\": \"h\", \"showlegend\": false, \"textposition\": \"auto\", \"x\": [40.0, 32.0, 25.0, 25.0, 16.0, 13.0, 13.0, 11.0, 7.0, 5.0, 4.0, 4.0, 4.0, 3.0, 3.0, 3.0, 3.0, 2.0, 2.0, 2.0, 2.0, 2.0, 2.0, 1.0, 1.0, 1.0, 1.0, 1.0, 1.0, 1.0, 1.0, 1.0, 1.0, 1.0, 1.0, 1.0, 1.0], \"xaxis\": \"x\", \"y\": [\"Singapore\", \"Thailand\", \"Japan\", \"South Korea\", \"Malaysia\", \"Germany\", \"Vietnam\", \"France\", \"United Arab Emirates\", \"Australia\", \"Australia\", \"Australia\", \"Canada\", \"India\", \"Italy\", \"Philippines\", \"UK\", \"Australia\", \"Canada\", \"Russia\", \"US\", \"US\", \"US\", \"Belgium\", \"Cambodia\", \"Canada\", \"Finland\", \"Nepal\", \"Spain\", \"Sri Lanka\", \"Sweden\", \"US\", \"US\", \"US\", \"US\", \"US\", \"US\"], \"yaxis\": \"y\", \"type\": \"bar\"}], \"name\": \"02/08/2020 23:04:00\"}, {\"data\": [{\"alignmentgroup\": \"True\", \"hoverlabel\": {\"namelength\": 0}, \"hovertemplate\": \"<b>%{hovertext}</b><br><br>Date=02/09/2020 23:20:00<br>Confirmed=%{marker.color}<br>Country=%{y}\", \"hovertext\": [\"Singapore\", \"Thailand\", \"South Korea\", \"Japan\", \"Malaysia\", \"Germany\", \"Vietnam\", \"France\", \"United Arab Emirates\", \"Australia\", \"Australia\", \"Australia\", \"Canada\", \"India\", \"Italy\", \"Philippines\", \"UK\", \"Australia\", \"Canada\", \"Russia\", \"Spain\", \"US\", \"US\", \"US\", \"Belgium\", \"Cambodia\", \"Canada\", \"Finland\", \"Nepal\", \"Sri Lanka\", \"Sweden\", \"US\", \"US\", \"US\", \"US\", \"US\", \"US\"], \"legendgroup\": \"\", \"marker\": {\"color\": [43.0, 32.0, 27.0, 26.0, 18.0, 14.0, 14.0, 11.0, 7.0, 5.0, 4.0, 4.0, 4.0, 3.0, 3.0, 3.0, 3.0, 2.0, 2.0, 2.0, 2.0, 2.0, 2.0, 2.0, 1.0, 1.0, 1.0, 1.0, 1.0, 1.0, 1.0, 1.0, 1.0, 1.0, 1.0, 1.0, 1.0], \"coloraxis\": \"coloraxis\"}, \"name\": \"\", \"offsetgroup\": \"\", \"orientation\": \"h\", \"showlegend\": false, \"textposition\": \"auto\", \"x\": [43.0, 32.0, 27.0, 26.0, 18.0, 14.0, 14.0, 11.0, 7.0, 5.0, 4.0, 4.0, 4.0, 3.0, 3.0, 3.0, 3.0, 2.0, 2.0, 2.0, 2.0, 2.0, 2.0, 2.0, 1.0, 1.0, 1.0, 1.0, 1.0, 1.0, 1.0, 1.0, 1.0, 1.0, 1.0, 1.0, 1.0], \"xaxis\": \"x\", \"y\": [\"Singapore\", \"Thailand\", \"South Korea\", \"Japan\", \"Malaysia\", \"Germany\", \"Vietnam\", \"France\", \"United Arab Emirates\", \"Australia\", \"Australia\", \"Australia\", \"Canada\", \"India\", \"Italy\", \"Philippines\", \"UK\", \"Australia\", \"Canada\", \"Russia\", \"Spain\", \"US\", \"US\", \"US\", \"Belgium\", \"Cambodia\", \"Canada\", \"Finland\", \"Nepal\", \"Sri Lanka\", \"Sweden\", \"US\", \"US\", \"US\", \"US\", \"US\", \"US\"], \"yaxis\": \"y\", \"type\": \"bar\"}], \"name\": \"02/09/2020 23:20:00\"}, {\"data\": [{\"alignmentgroup\": \"True\", \"hoverlabel\": {\"namelength\": 0}, \"hovertemplate\": \"<b>%{hovertext}</b><br><br>Date=02/10/2020 19:30:00<br>Confirmed=%{marker.color}<br>Country=%{y}\", \"hovertext\": [\"Singapore\", \"Thailand\", \"South Korea\", \"Japan\", \"Malaysia\", \"Germany\", \"Vietnam\", \"France\", \"UK\", \"United Arab Emirates\", \"Australia\", \"Australia\", \"Australia\", \"Canada\", \"India\", \"Italy\", \"Philippines\", \"Australia\", \"Canada\", \"Russia\", \"Spain\", \"US\", \"US\", \"US\", \"Belgium\", \"Cambodia\", \"Canada\", \"Finland\", \"Nepal\", \"Sri Lanka\", \"Sweden\", \"US\", \"US\", \"US\", \"US\", \"US\", \"US\"], \"legendgroup\": \"\", \"marker\": {\"color\": [45.0, 32.0, 27.0, 26.0, 18.0, 14.0, 14.0, 11.0, 8.0, 8.0, 5.0, 4.0, 4.0, 4.0, 3.0, 3.0, 3.0, 2.0, 2.0, 2.0, 2.0, 2.0, 2.0, 2.0, 1.0, 1.0, 1.0, 1.0, 1.0, 1.0, 1.0, 1.0, 1.0, 1.0, 1.0, 1.0, 1.0], \"coloraxis\": \"coloraxis\"}, \"name\": \"\", \"offsetgroup\": \"\", \"orientation\": \"h\", \"showlegend\": false, \"textposition\": \"auto\", \"x\": [45.0, 32.0, 27.0, 26.0, 18.0, 14.0, 14.0, 11.0, 8.0, 8.0, 5.0, 4.0, 4.0, 4.0, 3.0, 3.0, 3.0, 2.0, 2.0, 2.0, 2.0, 2.0, 2.0, 2.0, 1.0, 1.0, 1.0, 1.0, 1.0, 1.0, 1.0, 1.0, 1.0, 1.0, 1.0, 1.0, 1.0], \"xaxis\": \"x\", \"y\": [\"Singapore\", \"Thailand\", \"South Korea\", \"Japan\", \"Malaysia\", \"Germany\", \"Vietnam\", \"France\", \"UK\", \"United Arab Emirates\", \"Australia\", \"Australia\", \"Australia\", \"Canada\", \"India\", \"Italy\", \"Philippines\", \"Australia\", \"Canada\", \"Russia\", \"Spain\", \"US\", \"US\", \"US\", \"Belgium\", \"Cambodia\", \"Canada\", \"Finland\", \"Nepal\", \"Sri Lanka\", \"Sweden\", \"US\", \"US\", \"US\", \"US\", \"US\", \"US\"], \"yaxis\": \"y\", \"type\": \"bar\"}], \"name\": \"02/10/2020 19:30:00\"}, {\"data\": [{\"alignmentgroup\": \"True\", \"hoverlabel\": {\"namelength\": 0}, \"hovertemplate\": \"<b>%{hovertext}</b><br><br>Date=02/11/2020 20:44:00<br>Confirmed=%{marker.color}<br>Country=%{y}\", \"hovertext\": [\"Singapore\", \"Thailand\", \"South Korea\", \"Japan\", \"Malaysia\", \"Germany\", \"Vietnam\", \"France\", \"UK\", \"United Arab Emirates\", \"Australia\", \"Australia\", \"Australia\", \"Canada\", \"India\", \"Italy\", \"Philippines\", \"Australia\", \"Canada\", \"Russia\", \"Spain\", \"US\", \"US\", \"US\", \"Belgium\", \"Cambodia\", \"Canada\", \"Finland\", \"Nepal\", \"Sri Lanka\", \"Sweden\", \"US\", \"US\", \"US\", \"US\", \"US\", \"US\", \"US\"], \"legendgroup\": \"\", \"marker\": {\"color\": [47.0, 33.0, 28.0, 26.0, 18.0, 16.0, 15.0, 11.0, 8.0, 8.0, 5.0, 4.0, 4.0, 4.0, 3.0, 3.0, 3.0, 2.0, 2.0, 2.0, 2.0, 2.0, 2.0, 2.0, 1.0, 1.0, 1.0, 1.0, 1.0, 1.0, 1.0, 1.0, 1.0, 1.0, 1.0, 1.0, 1.0, 1.0], \"coloraxis\": \"coloraxis\"}, \"name\": \"\", \"offsetgroup\": \"\", \"orientation\": \"h\", \"showlegend\": false, \"textposition\": \"auto\", \"x\": [47.0, 33.0, 28.0, 26.0, 18.0, 16.0, 15.0, 11.0, 8.0, 8.0, 5.0, 4.0, 4.0, 4.0, 3.0, 3.0, 3.0, 2.0, 2.0, 2.0, 2.0, 2.0, 2.0, 2.0, 1.0, 1.0, 1.0, 1.0, 1.0, 1.0, 1.0, 1.0, 1.0, 1.0, 1.0, 1.0, 1.0, 1.0], \"xaxis\": \"x\", \"y\": [\"Singapore\", \"Thailand\", \"South Korea\", \"Japan\", \"Malaysia\", \"Germany\", \"Vietnam\", \"France\", \"UK\", \"United Arab Emirates\", \"Australia\", \"Australia\", \"Australia\", \"Canada\", \"India\", \"Italy\", \"Philippines\", \"Australia\", \"Canada\", \"Russia\", \"Spain\", \"US\", \"US\", \"US\", \"Belgium\", \"Cambodia\", \"Canada\", \"Finland\", \"Nepal\", \"Sri Lanka\", \"Sweden\", \"US\", \"US\", \"US\", \"US\", \"US\", \"US\", \"US\"], \"yaxis\": \"y\", \"type\": \"bar\"}], \"name\": \"02/11/2020 20:44:00\"}, {\"data\": [{\"alignmentgroup\": \"True\", \"hoverlabel\": {\"namelength\": 0}, \"hovertemplate\": \"<b>%{hovertext}</b><br><br>Date=02/12/2020 22:00:00<br>Confirmed=%{marker.color}<br>Country=%{y}\", \"hovertext\": [\"Singapore\", \"Thailand\", \"Japan\", \"South Korea\", \"Malaysia\", \"Germany\", \"Vietnam\", \"France\", \"UK\", \"United Arab Emirates\", \"Australia\", \"Australia\", \"Australia\", \"Canada\", \"India\", \"Italy\", \"Philippines\", \"Australia\", \"Canada\", \"Russia\", \"Spain\", \"US\", \"US\", \"US\", \"Belgium\", \"Cambodia\", \"Canada\", \"Finland\", \"Nepal\", \"Sri Lanka\", \"Sweden\", \"US\", \"US\", \"US\", \"US\", \"US\", \"US\", \"US\"], \"legendgroup\": \"\", \"marker\": {\"color\": [50.0, 33.0, 28.0, 28.0, 18.0, 16.0, 15.0, 11.0, 9.0, 8.0, 5.0, 4.0, 4.0, 4.0, 3.0, 3.0, 3.0, 2.0, 2.0, 2.0, 2.0, 2.0, 2.0, 2.0, 1.0, 1.0, 1.0, 1.0, 1.0, 1.0, 1.0, 1.0, 1.0, 1.0, 1.0, 1.0, 1.0, 1.0], \"coloraxis\": \"coloraxis\"}, \"name\": \"\", \"offsetgroup\": \"\", \"orientation\": \"h\", \"showlegend\": false, \"textposition\": \"auto\", \"x\": [50.0, 33.0, 28.0, 28.0, 18.0, 16.0, 15.0, 11.0, 9.0, 8.0, 5.0, 4.0, 4.0, 4.0, 3.0, 3.0, 3.0, 2.0, 2.0, 2.0, 2.0, 2.0, 2.0, 2.0, 1.0, 1.0, 1.0, 1.0, 1.0, 1.0, 1.0, 1.0, 1.0, 1.0, 1.0, 1.0, 1.0, 1.0], \"xaxis\": \"x\", \"y\": [\"Singapore\", \"Thailand\", \"Japan\", \"South Korea\", \"Malaysia\", \"Germany\", \"Vietnam\", \"France\", \"UK\", \"United Arab Emirates\", \"Australia\", \"Australia\", \"Australia\", \"Canada\", \"India\", \"Italy\", \"Philippines\", \"Australia\", \"Canada\", \"Russia\", \"Spain\", \"US\", \"US\", \"US\", \"Belgium\", \"Cambodia\", \"Canada\", \"Finland\", \"Nepal\", \"Sri Lanka\", \"Sweden\", \"US\", \"US\", \"US\", \"US\", \"US\", \"US\", \"US\"], \"yaxis\": \"y\", \"type\": \"bar\"}], \"name\": \"02/12/2020 22:00:00\"}, {\"data\": [{\"alignmentgroup\": \"True\", \"hoverlabel\": {\"namelength\": 0}, \"hovertemplate\": \"<b>%{hovertext}</b><br><br>Date=02/13/2020 21:15:00<br>Confirmed=%{marker.color}<br>Country=%{y}\", \"hovertext\": [\"Singapore\", \"Thailand\", \"Japan\", \"South Korea\", \"Malaysia\", \"Germany\", \"Vietnam\", \"France\", \"UK\", \"United Arab Emirates\", \"Australia\", \"Australia\", \"Australia\", \"Canada\", \"India\", \"Italy\", \"Philippines\", \"Australia\", \"Canada\", \"Russia\", \"Spain\", \"US\", \"US\", \"US\", \"US\", \"Belgium\", \"Cambodia\", \"Canada\", \"Finland\", \"Nepal\", \"Sri Lanka\", \"Sweden\", \"US\", \"US\", \"US\", \"US\", \"US\", \"US\", \"US\"], \"legendgroup\": \"\", \"marker\": {\"color\": [58.0, 33.0, 28.0, 28.0, 19.0, 16.0, 16.0, 11.0, 9.0, 8.0, 5.0, 4.0, 4.0, 4.0, 3.0, 3.0, 3.0, 2.0, 2.0, 2.0, 2.0, 2.0, 2.0, 2.0, 2.0, 1.0, 1.0, 1.0, 1.0, 1.0, 1.0, 1.0, 1.0, 1.0, 1.0, 1.0, 1.0, 1.0, 1.0], \"coloraxis\": \"coloraxis\"}, \"name\": \"\", \"offsetgroup\": \"\", \"orientation\": \"h\", \"showlegend\": false, \"textposition\": \"auto\", \"x\": [58.0, 33.0, 28.0, 28.0, 19.0, 16.0, 16.0, 11.0, 9.0, 8.0, 5.0, 4.0, 4.0, 4.0, 3.0, 3.0, 3.0, 2.0, 2.0, 2.0, 2.0, 2.0, 2.0, 2.0, 2.0, 1.0, 1.0, 1.0, 1.0, 1.0, 1.0, 1.0, 1.0, 1.0, 1.0, 1.0, 1.0, 1.0, 1.0], \"xaxis\": \"x\", \"y\": [\"Singapore\", \"Thailand\", \"Japan\", \"South Korea\", \"Malaysia\", \"Germany\", \"Vietnam\", \"France\", \"UK\", \"United Arab Emirates\", \"Australia\", \"Australia\", \"Australia\", \"Canada\", \"India\", \"Italy\", \"Philippines\", \"Australia\", \"Canada\", \"Russia\", \"Spain\", \"US\", \"US\", \"US\", \"US\", \"Belgium\", \"Cambodia\", \"Canada\", \"Finland\", \"Nepal\", \"Sri Lanka\", \"Sweden\", \"US\", \"US\", \"US\", \"US\", \"US\", \"US\", \"US\"], \"yaxis\": \"y\", \"type\": \"bar\"}], \"name\": \"02/13/2020 21:15:00\"}, {\"data\": [{\"alignmentgroup\": \"True\", \"hoverlabel\": {\"namelength\": 0}, \"hovertemplate\": \"<b>%{hovertext}</b><br><br>Date=02/14/2020 22:00:00<br>Confirmed=%{marker.color}<br>Country=%{y}\", \"hovertext\": [\"Singapore\", \"Thailand\", \"Japan\", \"South Korea\", \"Malaysia\", \"Germany\", \"Vietnam\", \"France\", \"UK\", \"United Arab Emirates\", \"Australia\", \"Australia\", \"Australia\", \"Canada\", \"India\", \"Italy\", \"Philippines\", \"Australia\", \"Canada\", \"Russia\", \"Spain\", \"US\", \"US\", \"US\", \"US\", \"Belgium\", \"Cambodia\", \"Canada\", \"Egypt\", \"Finland\", \"Nepal\", \"Sri Lanka\", \"Sweden\", \"US\", \"US\", \"US\", \"US\", \"US\", \"US\", \"US\"], \"legendgroup\": \"\", \"marker\": {\"color\": [67.0, 33.0, 29.0, 28.0, 19.0, 16.0, 16.0, 11.0, 9.0, 8.0, 5.0, 4.0, 4.0, 4.0, 3.0, 3.0, 3.0, 2.0, 2.0, 2.0, 2.0, 2.0, 2.0, 2.0, 2.0, 1.0, 1.0, 1.0, 1.0, 1.0, 1.0, 1.0, 1.0, 1.0, 1.0, 1.0, 1.0, 1.0, 1.0, 1.0], \"coloraxis\": \"coloraxis\"}, \"name\": \"\", \"offsetgroup\": \"\", \"orientation\": \"h\", \"showlegend\": false, \"textposition\": \"auto\", \"x\": [67.0, 33.0, 29.0, 28.0, 19.0, 16.0, 16.0, 11.0, 9.0, 8.0, 5.0, 4.0, 4.0, 4.0, 3.0, 3.0, 3.0, 2.0, 2.0, 2.0, 2.0, 2.0, 2.0, 2.0, 2.0, 1.0, 1.0, 1.0, 1.0, 1.0, 1.0, 1.0, 1.0, 1.0, 1.0, 1.0, 1.0, 1.0, 1.0, 1.0], \"xaxis\": \"x\", \"y\": [\"Singapore\", \"Thailand\", \"Japan\", \"South Korea\", \"Malaysia\", \"Germany\", \"Vietnam\", \"France\", \"UK\", \"United Arab Emirates\", \"Australia\", \"Australia\", \"Australia\", \"Canada\", \"India\", \"Italy\", \"Philippines\", \"Australia\", \"Canada\", \"Russia\", \"Spain\", \"US\", \"US\", \"US\", \"US\", \"Belgium\", \"Cambodia\", \"Canada\", \"Egypt\", \"Finland\", \"Nepal\", \"Sri Lanka\", \"Sweden\", \"US\", \"US\", \"US\", \"US\", \"US\", \"US\", \"US\"], \"yaxis\": \"y\", \"type\": \"bar\"}], \"name\": \"02/14/2020 22:00:00\"}, {\"data\": [{\"alignmentgroup\": \"True\", \"hoverlabel\": {\"namelength\": 0}, \"hovertemplate\": \"<b>%{hovertext}</b><br><br>Date=02/15/2020 22:00:00<br>Confirmed=%{marker.color}<br>Country=%{y}\", \"hovertext\": [\"Singapore\", \"Japan\", \"Thailand\", \"South Korea\", \"Malaysia\", \"Germany\", \"Vietnam\", \"France\", \"UK\", \"United Arab Emirates\", \"Australia\", \"Australia\", \"Australia\", \"Canada\", \"India\", \"Italy\", \"Philippines\", \"Australia\", \"Canada\", \"Russia\", \"Spain\", \"US\", \"US\", \"US\", \"US\", \"Belgium\", \"Cambodia\", \"Canada\", \"Egypt\", \"Finland\", \"Nepal\", \"Sri Lanka\", \"Sweden\", \"US\", \"US\", \"US\", \"US\", \"US\", \"US\", \"US\"], \"legendgroup\": \"\", \"marker\": {\"color\": [72.0, 43.0, 33.0, 28.0, 22.0, 16.0, 16.0, 12.0, 9.0, 8.0, 5.0, 4.0, 4.0, 4.0, 3.0, 3.0, 3.0, 2.0, 2.0, 2.0, 2.0, 2.0, 2.0, 2.0, 2.0, 1.0, 1.0, 1.0, 1.0, 1.0, 1.0, 1.0, 1.0, 1.0, 1.0, 1.0, 1.0, 1.0, 1.0, 1.0], \"coloraxis\": \"coloraxis\"}, \"name\": \"\", \"offsetgroup\": \"\", \"orientation\": \"h\", \"showlegend\": false, \"textposition\": \"auto\", \"x\": [72.0, 43.0, 33.0, 28.0, 22.0, 16.0, 16.0, 12.0, 9.0, 8.0, 5.0, 4.0, 4.0, 4.0, 3.0, 3.0, 3.0, 2.0, 2.0, 2.0, 2.0, 2.0, 2.0, 2.0, 2.0, 1.0, 1.0, 1.0, 1.0, 1.0, 1.0, 1.0, 1.0, 1.0, 1.0, 1.0, 1.0, 1.0, 1.0, 1.0], \"xaxis\": \"x\", \"y\": [\"Singapore\", \"Japan\", \"Thailand\", \"South Korea\", \"Malaysia\", \"Germany\", \"Vietnam\", \"France\", \"UK\", \"United Arab Emirates\", \"Australia\", \"Australia\", \"Australia\", \"Canada\", \"India\", \"Italy\", \"Philippines\", \"Australia\", \"Canada\", \"Russia\", \"Spain\", \"US\", \"US\", \"US\", \"US\", \"Belgium\", \"Cambodia\", \"Canada\", \"Egypt\", \"Finland\", \"Nepal\", \"Sri Lanka\", \"Sweden\", \"US\", \"US\", \"US\", \"US\", \"US\", \"US\", \"US\"], \"yaxis\": \"y\", \"type\": \"bar\"}], \"name\": \"02/15/2020 22:00:00\"}]);\n",
       "                        }).then(function(){\n",
       "                            \n",
       "var gd = document.getElementById('75c153b5-66a7-4a1d-9a74-ac31c898ea97');\n",
       "var x = new MutationObserver(function (mutations, observer) {{\n",
       "        var display = window.getComputedStyle(gd).display;\n",
       "        if (!display || display === 'none') {{\n",
       "            console.log([gd, 'removed!']);\n",
       "            Plotly.purge(gd);\n",
       "            observer.disconnect();\n",
       "        }}\n",
       "}});\n",
       "\n",
       "// Listen for the removal of the full notebook cells\n",
       "var notebookContainer = gd.closest('#notebook-container');\n",
       "if (notebookContainer) {{\n",
       "    x.observe(notebookContainer, {childList: true});\n",
       "}}\n",
       "\n",
       "// Listen for the clearing of the current output cell\n",
       "var outputEl = gd.closest('.output');\n",
       "if (outputEl) {{\n",
       "    x.observe(outputEl, {childList: true});\n",
       "}}\n",
       "\n",
       "                        })\n",
       "                };\n",
       "                });\n",
       "            </script>\n",
       "        </div>"
      ]
     },
     "metadata": {},
     "output_type": "display_data"
    }
   ],
   "source": [
    "df = pd.read_csv('./Data/2019_nCoV_data.csv')\n",
    "df['Country'].replace({'Mainland China':'China','Hong Kong':'China',\n",
    "                         'Macau':'China','Taiwan':'China'},inplace=True)\n",
    "fig = px.bar(df[(df['Country'] != 'China') & (df['Country'] != 'Others')], \n",
    "             x=\"Confirmed\", y=\"Country\", orientation = 'h',animation_frame=\"Date\", \n",
    "             hover_name=\"Country\", range_x = [0,100], height = 800, color = 'Confirmed')\n",
    "fig.update_layout(yaxis={'categoryorder':'total ascending'}, title = 'other than China')\n",
    "fig.show()"
   ]
  },
  {
   "cell_type": "code",
   "execution_count": null,
   "metadata": {},
   "outputs": [],
   "source": []
  }
 ],
 "metadata": {
  "kernelspec": {
   "display_name": "Python 3",
   "language": "python",
   "name": "python3"
  },
  "language_info": {
   "codemirror_mode": {
    "name": "ipython",
    "version": 3
   },
   "file_extension": ".py",
   "mimetype": "text/x-python",
   "name": "python",
   "nbconvert_exporter": "python",
   "pygments_lexer": "ipython3",
   "version": "3.7.3"
  }
 },
 "nbformat": 4,
 "nbformat_minor": 2
}
